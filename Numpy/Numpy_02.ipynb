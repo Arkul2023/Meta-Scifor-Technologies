{
 "cells": [
  {
   "cell_type": "code",
   "execution_count": 1,
   "id": "55ee4115-9c91-494f-b27d-b17caed05ba0",
   "metadata": {},
   "outputs": [],
   "source": [
    "import numpy as np"
   ]
  },
  {
   "cell_type": "code",
   "execution_count": 5,
   "id": "c87bd42f-b346-418e-bccb-3b8e3447f1e6",
   "metadata": {},
   "outputs": [],
   "source": [
    "emp_salary = np.random.randint(23, 40, 10)"
   ]
  },
  {
   "cell_type": "code",
   "execution_count": 6,
   "id": "c8f4bbef-ff83-4a9f-a975-673b9752680f",
   "metadata": {},
   "outputs": [
    {
     "data": {
      "text/plain": [
       "array([28, 29, 34, 36, 30, 28, 31, 35, 31, 36])"
      ]
     },
     "execution_count": 6,
     "metadata": {},
     "output_type": "execute_result"
    }
   ],
   "source": [
    "emp_salary"
   ]
  },
  {
   "cell_type": "code",
   "execution_count": 13,
   "id": "47f25a79-55e1-4b4e-9937-0c412fd222e3",
   "metadata": {},
   "outputs": [
    {
     "data": {
      "text/plain": [
       "array([28, 29, 34, 35, 30, 28, 31, 35, 31, 35])"
      ]
     },
     "execution_count": 13,
     "metadata": {},
     "output_type": "execute_result"
    }
   ],
   "source": [
    "np.clip(emp_salary,a_min=24,a_max=35)    ## Clip() method here converts numbers into max and min values between 24 and 35"
   ]
  },
  {
   "cell_type": "code",
   "execution_count": 14,
   "id": "67d59e00-9b29-4301-88fc-4b957540ca6f",
   "metadata": {},
   "outputs": [
    {
     "name": "stdout",
     "output_type": "stream",
     "text": [
      "(array([3, 9], dtype=int64),)\n"
     ]
    }
   ],
   "source": [
    "print(np.where(emp_salary >35))    ## Where() method heres finds out the employees having salary greater than 35"
   ]
  },
  {
   "cell_type": "code",
   "execution_count": 16,
   "id": "c20f35e5-ca37-4a8e-b541-0d30ed8a6e7e",
   "metadata": {},
   "outputs": [
    {
     "data": {
      "text/plain": [
       "array([34, 35])"
      ]
     },
     "execution_count": 16,
     "metadata": {},
     "output_type": "execute_result"
    }
   ],
   "source": [
    "emp_salary[[2,7]]   ## Prints numbers present at that index value"
   ]
  },
  {
   "cell_type": "code",
   "execution_count": 17,
   "id": "e179e288-b821-4231-ba1a-c320efd3c879",
   "metadata": {},
   "outputs": [],
   "source": [
    "import numpy as np\n",
    "from numpy.random import randint as ri"
   ]
  },
  {
   "cell_type": "code",
   "execution_count": 23,
   "id": "c1d7a4c0-d81c-4cdf-b6c9-52f61089506f",
   "metadata": {},
   "outputs": [
    {
     "name": "stdout",
     "output_type": "stream",
     "text": [
      "[49 17  6 43 27 20 32 37 23 34  3 39  7  9 36 10]\n"
     ]
    }
   ],
   "source": [
    "a=ri(1,50,16)      ## Takes random numbers between 1 to 50. Number of elements 15\n",
    "print(a)"
   ]
  },
  {
   "cell_type": "code",
   "execution_count": 31,
   "id": "cdda25be-0f11-47eb-af82-60e3d511af34",
   "metadata": {},
   "outputs": [
    {
     "name": "stdout",
     "output_type": "stream",
     "text": [
      "[[[49 17  6 43]\n",
      "  [27 20 32 37]]\n",
      "\n",
      " [[23 34  3 39]\n",
      "  [ 7  9 36 10]]]\n"
     ]
    }
   ],
   "source": [
    "b=a.reshape(2,2,4)  ## Here there are 2 matrices. With shape of 2x4 \n",
    "print(b)"
   ]
  },
  {
   "cell_type": "code",
   "execution_count": 32,
   "id": "db1c6d04-5b86-4909-9ce5-20fba052b146",
   "metadata": {},
   "outputs": [
    {
     "name": "stdout",
     "output_type": "stream",
     "text": [
      "[[49 17  6 43]\n",
      " [27 20 32 37]\n",
      " [23 34  3 39]\n",
      " [ 7  9 36 10]]\n"
     ]
    }
   ],
   "source": [
    "c=a.reshape(4,4)     ## Now combined the two matrices into one\n",
    "print(c) "
   ]
  },
  {
   "cell_type": "code",
   "execution_count": 33,
   "id": "e31660e5-b5a2-4983-b76e-8c0a85066cec",
   "metadata": {},
   "outputs": [
    {
     "name": "stdout",
     "output_type": "stream",
     "text": [
      "Minimum of a is  3\n",
      "Maximum of a is  49\n"
     ]
    }
   ],
   "source": [
    "print(\"Minimum of a is \",c.min())\n",
    "print(\"Maximum of a is \",c.max())"
   ]
  },
  {
   "cell_type": "code",
   "execution_count": 34,
   "id": "0a9ff41b-c365-4864-8693-147bfdd1a759",
   "metadata": {},
   "outputs": [],
   "source": [
    "## Sorting"
   ]
  },
  {
   "cell_type": "code",
   "execution_count": 37,
   "id": "43b9212a-9f47-416f-aee5-09087b5b1555",
   "metadata": {},
   "outputs": [
    {
     "name": "stdout",
     "output_type": "stream",
     "text": [
      "\n",
      " 4 X 5 matrix of random integer \n",
      " [[12 15 37 10  7]\n",
      " [ 5 29 30 11 45]\n",
      " [13 18 49 43 32]\n",
      " [ 8 33 16 20 35]]\n",
      "\n",
      " Here is the sorted matrix along each row \n",
      " [[ 7 10 12 15 37]\n",
      " [ 5 11 29 30 45]\n",
      " [13 18 32 43 49]\n",
      " [ 8 16 20 33 35]]\n",
      "\n",
      " Here is the sorted matrix along each column \n",
      " [[ 5 15 16 10  7]\n",
      " [ 8 18 30 11 32]\n",
      " [12 29 37 20 35]\n",
      " [13 33 49 43 45]]\n"
     ]
    }
   ],
   "source": [
    "m=ri(1,50,20).reshape(4, 5) #matrix of random integer\n",
    "print(\"\\n 4 X 5 matrix of random integer \\n\",m)\n",
    "print(\"\\n Here is the sorted matrix along each row \\n\",np.sort(m))#default axis=1 used to sort numbers column wise\n",
    "print(\"\\n Here is the sorted matrix along each column \\n\",np.sort(m,axis=0))  ## axis=0 used to sort numbers column wise"
   ]
  },
  {
   "cell_type": "code",
   "execution_count": 38,
   "id": "bad17d0f-91e6-453d-94aa-76a66d2b3d6d",
   "metadata": {},
   "outputs": [],
   "source": [
    "## Indexing and slicing"
   ]
  },
  {
   "cell_type": "code",
   "execution_count": 39,
   "id": "2a8d8186-9bbf-4780-afd5-56761a647914",
   "metadata": {},
   "outputs": [
    {
     "name": "stdout",
     "output_type": "stream",
     "text": [
      "Array [12 13 14 15 16 17 18 19]\n"
     ]
    }
   ],
   "source": [
    "arr = np.arange(12, 20)\n",
    "print(\"Array\", arr)"
   ]
  },
  {
   "cell_type": "code",
   "execution_count": 41,
   "id": "3169faa2-eebc-497b-aa06-5b604ae0124c",
   "metadata": {},
   "outputs": [
    {
     "name": "stdout",
     "output_type": "stream",
     "text": [
      "17\n"
     ]
    }
   ],
   "source": [
    "print(arr[5])    ## Prints the element at index 5"
   ]
  },
  {
   "cell_type": "code",
   "execution_count": 45,
   "id": "c8fbad96-3c84-4a42-91c3-5698d08ace9d",
   "metadata": {},
   "outputs": [
    {
     "name": "stdout",
     "output_type": "stream",
     "text": [
      "[12 14 16 18]\n"
     ]
    }
   ],
   "source": [
    "print(arr[0::2]) ## Prints numbers 1 to the end with a step size of 2 as you can see"
   ]
  },
  {
   "cell_type": "code",
   "execution_count": 47,
   "id": "fa4b56ed-53b8-4761-9f57-05fb40496838",
   "metadata": {},
   "outputs": [
    {
     "name": "stdout",
     "output_type": "stream",
     "text": [
      "[12 13 14 15 16 17]\n"
     ]
    }
   ],
   "source": [
    "print(arr[:6])  ## Prints elements till the index 5 element"
   ]
  },
  {
   "cell_type": "code",
   "execution_count": 57,
   "id": "b8474fed-6dca-43fc-9706-9695f6fc6367",
   "metadata": {},
   "outputs": [
    {
     "name": "stdout",
     "output_type": "stream",
     "text": [
      "[19 18 17 16]\n"
     ]
    }
   ],
   "source": [
    "print(arr[-1:-5:-1])  ## Prints numbers in reverse order from -1 to -5 at stopsize of -1"
   ]
  },
  {
   "cell_type": "code",
   "execution_count": 58,
   "id": "2cb421ec-f5e5-48ed-aaec-c8c9479a7c34",
   "metadata": {},
   "outputs": [
    {
     "name": "stdout",
     "output_type": "stream",
     "text": [
      "[[1 0 0]\n",
      " [0 1 0]\n",
      " [0 0 1]]\n"
     ]
    }
   ],
   "source": [
    "my_mat=[[1,0,0],[0,1,0],[0,0,1]]\n",
    "mat=np.array(my_mat)\n",
    "print(mat)"
   ]
  },
  {
   "cell_type": "code",
   "execution_count": 62,
   "id": "23171d4e-3ade-4290-a4b3-6e040c9c208a",
   "metadata": {},
   "outputs": [
    {
     "name": "stdout",
     "output_type": "stream",
     "text": [
      "[0 1 0]\n"
     ]
    }
   ],
   "source": [
    "print(mat[1])  ## Prints the Row matrix at index 1"
   ]
  },
  {
   "cell_type": "code",
   "execution_count": 64,
   "id": "ac4f2987-8edd-4d13-8f4a-13473cb285c1",
   "metadata": {},
   "outputs": [
    {
     "name": "stdout",
     "output_type": "stream",
     "text": [
      "[[0]\n",
      " [0]\n",
      " [1]]\n"
     ]
    }
   ],
   "source": [
    "print(mat[:,2:])   ## Prints the columns starting from index 2 to end which is only one column as shown"
   ]
  },
  {
   "cell_type": "code",
   "execution_count": 66,
   "id": "54f86ee5-d4f1-4e27-976c-0074a6a6b978",
   "metadata": {},
   "outputs": [
    {
     "name": "stdout",
     "output_type": "stream",
     "text": [
      "[[1 0]\n",
      " [0 1]]\n"
     ]
    }
   ],
   "source": [
    "print(mat[1:3,1:3])   ## prints the [Row, Column] that are indexed as given"
   ]
  },
  {
   "cell_type": "code",
   "execution_count": 69,
   "id": "b695c963-e576-40dd-98d9-85c43776c1df",
   "metadata": {},
   "outputs": [
    {
     "name": "stdout",
     "output_type": "stream",
     "text": [
      "[[1 0]\n",
      " [0 1]]\n"
     ]
    }
   ],
   "source": [
    "print(mat[0:2, [0, 1]])  ## [Row, Column] Where Row = 0 to 2 and as given only 0 and 1 index columns will be printed"
   ]
  },
  {
   "cell_type": "code",
   "execution_count": 70,
   "id": "072242fe-1136-407c-8e79-332d6a1b5999",
   "metadata": {},
   "outputs": [],
   "source": [
    "## Updating a matrix"
   ]
  },
  {
   "cell_type": "code",
   "execution_count": 73,
   "id": "0c5d6a88-0a3a-4cf7-8f4f-3b7546360188",
   "metadata": {},
   "outputs": [],
   "source": [
    "mat[1, 1] = 2     ## As you can see we updated the number at 1st row and 1st column"
   ]
  },
  {
   "cell_type": "code",
   "execution_count": 74,
   "id": "9945066b-8177-4a54-8f66-063b8c3592f6",
   "metadata": {},
   "outputs": [
    {
     "data": {
      "text/plain": [
       "array([[1, 0, 0],\n",
       "       [0, 2, 0],\n",
       "       [0, 0, 1]])"
      ]
     },
     "execution_count": 74,
     "metadata": {},
     "output_type": "execute_result"
    }
   ],
   "source": [
    "mat"
   ]
  },
  {
   "cell_type": "code",
   "execution_count": 75,
   "id": "f8534f98-8bec-4807-86f0-d7f3f420ca0f",
   "metadata": {},
   "outputs": [
    {
     "name": "stdout",
     "output_type": "stream",
     "text": [
      "[[60 99 83 97 56]\n",
      " [94 70 70 79 63]\n",
      " [70 55 81 83 93]\n",
      " [77 91 52 58 80]\n",
      " [74 98 67 94 98]]\n"
     ]
    }
   ],
   "source": [
    "mat=np.array(ri(50,100,25)).reshape(5,5)\n",
    "print(mat)"
   ]
  },
  {
   "cell_type": "code",
   "execution_count": 78,
   "id": "3dd0efa8-ccc9-428c-ae55-022d937726c2",
   "metadata": {},
   "outputs": [
    {
     "name": "stdout",
     "output_type": "stream",
     "text": [
      "[56 55 52 58]\n"
     ]
    }
   ],
   "source": [
    "print(mat[mat<60])  ## Prints numbers that are smaller than 60"
   ]
  },
  {
   "cell_type": "code",
   "execution_count": 80,
   "id": "ff6a8bbc-b6fe-46dd-ab51-ee8eb58665d2",
   "metadata": {},
   "outputs": [
    {
     "name": "stdout",
     "output_type": "stream",
     "text": [
      "(array([1, 1, 2], dtype=int64), array([1, 2, 0], dtype=int64))\n"
     ]
    }
   ],
   "source": [
    "print(np.where(mat==70))   ## where() function will here print the array dimensions where the element is present"
   ]
  },
  {
   "cell_type": "code",
   "execution_count": 81,
   "id": "435c26ed-4e4c-48b6-ae38-586efc46ccb5",
   "metadata": {},
   "outputs": [],
   "source": [
    "## Above you can see 70 is present 3 times in the matrix\n",
    "## One at the position [1,1]\n",
    "## Second at position [1,2]\n",
    "## Third at positiion [2,0]"
   ]
  },
  {
   "cell_type": "code",
   "execution_count": 83,
   "id": "45393ed3-9449-4ec4-8f94-d0c6e216e2dd",
   "metadata": {},
   "outputs": [
    {
     "data": {
      "text/plain": [
       "array('Still Working', dtype='<U13')"
      ]
     },
     "execution_count": 83,
     "metadata": {},
     "output_type": "execute_result"
    }
   ],
   "source": [
    "age=55                                        ## You can also use Where() function to return some data at particular condition\n",
    "np.where(age>60,'Retired','Still Working')"
   ]
  },
  {
   "cell_type": "code",
   "execution_count": 92,
   "id": "633fbfeb-d726-46c8-8ffb-727b331f1ac9",
   "metadata": {},
   "outputs": [
    {
     "name": "stdout",
     "output_type": "stream",
     "text": [
      "[[ 6  1]\n",
      " [ 9  8]\n",
      " [ 3  4]\n",
      " [ 5 10]]\n",
      "\n",
      "[[15  6]\n",
      " [18  6]\n",
      " [13  2]\n",
      " [11 13]]\n"
     ]
    }
   ],
   "source": [
    "mat1=np.array(ri(1,20,8)).reshape(4,2)\n",
    "mat2=np.array(ri(1,20,8)).reshape(4,2)\n",
    "\n",
    "print(mat1)\n",
    "print()\n",
    "print(mat2)"
   ]
  },
  {
   "cell_type": "code",
   "execution_count": 94,
   "id": "dce708df-3d26-47a2-876d-c68282a7529a",
   "metadata": {},
   "outputs": [
    {
     "name": "stdout",
     "output_type": "stream",
     "text": [
      "[[0.4        0.16666667]\n",
      " [0.5        1.33333333]\n",
      " [0.23076923 2.        ]\n",
      " [0.45454545 0.76923077]]\n"
     ]
    }
   ],
   "source": [
    "print(mat1/mat2)    ## Division of two matrix "
   ]
  },
  {
   "cell_type": "code",
   "execution_count": 106,
   "id": "a5fc3fc1-3fb6-4347-85b3-587daeea593f",
   "metadata": {},
   "outputs": [
    {
     "name": "stdout",
     "output_type": "stream",
     "text": [
      "[[54 16]\n",
      " [72 44]\n",
      " [38 20]\n",
      " [42 66]]\n"
     ]
    }
   ],
   "source": [
    "print(4*mat1+2*mat2)   ## Linear combination of two matrix"
   ]
  },
  {
   "cell_type": "code",
   "execution_count": 107,
   "id": "e1617cb0-82ec-4120-8609-9de57853da0a",
   "metadata": {},
   "outputs": [],
   "source": [
    "## Created one matrix on ones"
   ]
  },
  {
   "cell_type": "code",
   "execution_count": 102,
   "id": "0f6d1659-933b-4185-8098-f79eeb7b988a",
   "metadata": {},
   "outputs": [],
   "source": [
    "a = np.ones((3,3))"
   ]
  },
  {
   "cell_type": "code",
   "execution_count": 103,
   "id": "ef2a3a41-d3ee-4e82-b0de-74d852de82a7",
   "metadata": {},
   "outputs": [
    {
     "data": {
      "text/plain": [
       "array([[1., 1., 1.],\n",
       "       [1., 1., 1.],\n",
       "       [1., 1., 1.]])"
      ]
     },
     "execution_count": 103,
     "metadata": {},
     "output_type": "execute_result"
    }
   ],
   "source": [
    "a"
   ]
  },
  {
   "cell_type": "code",
   "execution_count": 104,
   "id": "ce578ee0-a589-46f1-b54a-bccf3324baa9",
   "metadata": {},
   "outputs": [],
   "source": [
    "b = np.array([2, 0, 2])"
   ]
  },
  {
   "cell_type": "code",
   "execution_count": 108,
   "id": "430d12ba-1ff9-46f7-a9b6-2813a5263ae8",
   "metadata": {},
   "outputs": [
    {
     "name": "stdout",
     "output_type": "stream",
     "text": [
      "[[3. 1. 3.]\n",
      " [3. 1. 3.]\n",
      " [3. 1. 3.]]\n"
     ]
    }
   ],
   "source": [
    "print(a+b)   ## Adding array b to matrix a"
   ]
  },
  {
   "cell_type": "code",
   "execution_count": 117,
   "id": "68e39654-b7b7-4c91-b0a5-86460785d61a",
   "metadata": {},
   "outputs": [],
   "source": [
    "c = np.array([[2,0,2]])   ## Two dimensional array"
   ]
  },
  {
   "cell_type": "code",
   "execution_count": 122,
   "id": "50f907e7-fdee-4152-8be6-cea4dda35527",
   "metadata": {},
   "outputs": [],
   "source": [
    "new_column=c.T  # T is use for transpose it convert column into row #vice versa"
   ]
  },
  {
   "cell_type": "code",
   "execution_count": 123,
   "id": "b3812a97-835c-4884-a08a-66a798fa7da2",
   "metadata": {},
   "outputs": [
    {
     "data": {
      "text/plain": [
       "array([[2],\n",
       "       [0],\n",
       "       [2]])"
      ]
     },
     "execution_count": 123,
     "metadata": {},
     "output_type": "execute_result"
    }
   ],
   "source": [
    "new_column"
   ]
  },
  {
   "cell_type": "code",
   "execution_count": 124,
   "id": "1dda648d-cd1c-46dc-bdad-0107b9813145",
   "metadata": {},
   "outputs": [],
   "source": [
    "d = new_column+a"
   ]
  },
  {
   "cell_type": "code",
   "execution_count": 125,
   "id": "e5c652f0-27c9-4bfc-ba32-0bdb2941722a",
   "metadata": {},
   "outputs": [
    {
     "data": {
      "text/plain": [
       "array([[3., 3., 3.],\n",
       "       [1., 1., 1.],\n",
       "       [3., 3., 3.]])"
      ]
     },
     "execution_count": 125,
     "metadata": {},
     "output_type": "execute_result"
    }
   ],
   "source": [
    "d"
   ]
  },
  {
   "cell_type": "code",
   "execution_count": 127,
   "id": "96e7ee63-266d-4ae3-907a-2b9372afd219",
   "metadata": {},
   "outputs": [
    {
     "name": "stdout",
     "output_type": "stream",
     "text": [
      "[[1.73205081 1.73205081 1.73205081]\n",
      " [1.         1.         1.        ]\n",
      " [1.73205081 1.73205081 1.73205081]]\n",
      "\n",
      "[[9. 9. 9.]\n",
      " [1. 1. 1.]\n",
      " [9. 9. 9.]]\n"
     ]
    }
   ],
   "source": [
    "print(np.sqrt(d))\n",
    "print()\n",
    "print(np.square(d))"
   ]
  },
  {
   "cell_type": "code",
   "execution_count": null,
   "id": "cb7e94ab-d91d-4744-a651-46b72478b96c",
   "metadata": {},
   "outputs": [],
   "source": []
  }
 ],
 "metadata": {
  "kernelspec": {
   "display_name": "Python 3 (ipykernel)",
   "language": "python",
   "name": "python3"
  },
  "language_info": {
   "codemirror_mode": {
    "name": "ipython",
    "version": 3
   },
   "file_extension": ".py",
   "mimetype": "text/x-python",
   "name": "python",
   "nbconvert_exporter": "python",
   "pygments_lexer": "ipython3",
   "version": "3.12.7"
  }
 },
 "nbformat": 4,
 "nbformat_minor": 5
}
