{
 "cells": [
  {
   "cell_type": "code",
   "execution_count": 2,
   "id": "45821f87-afa7-409f-b782-c2d6881cb726",
   "metadata": {},
   "outputs": [],
   "source": [
    "import numpy as np"
   ]
  },
  {
   "cell_type": "code",
   "execution_count": 3,
   "id": "19e0ab16-4929-4560-998e-32bbe389b3e7",
   "metadata": {},
   "outputs": [
    {
     "name": "stdout",
     "output_type": "stream",
     "text": [
      "['ALLOW_THREADS', 'BUFSIZE', 'CLIP', 'DataSource', 'ERR_CALL', 'ERR_DEFAULT', 'ERR_IGNORE', 'ERR_LOG', 'ERR_PRINT', 'ERR_RAISE', 'ERR_WARN', 'FLOATING_POINT_SUPPORT', 'FPE_DIVIDEBYZERO', 'FPE_INVALID', 'FPE_OVERFLOW', 'FPE_UNDERFLOW', 'False_', 'Inf', 'Infinity', 'MAXDIMS', 'MAY_SHARE_BOUNDS', 'MAY_SHARE_EXACT', 'NAN', 'NINF', 'NZERO', 'NaN', 'PINF', 'PZERO', 'RAISE', 'RankWarning', 'SHIFT_DIVIDEBYZERO', 'SHIFT_INVALID', 'SHIFT_OVERFLOW', 'SHIFT_UNDERFLOW', 'ScalarType', 'True_', 'UFUNC_BUFSIZE_DEFAULT', 'UFUNC_PYVALS_NAME', 'WRAP', '_CopyMode', '_NoValue', '_UFUNC_API', '__NUMPY_SETUP__', '__all__', '__builtins__', '__cached__', '__config__', '__deprecated_attrs__', '__dir__', '__doc__', '__expired_functions__', '__file__', '__former_attrs__', '__future_scalars__', '__getattr__', '__loader__', '__name__', '__package__', '__path__', '__spec__', '__version__', '_add_newdoc_ufunc', '_builtins', '_distributor_init', '_financial_names', '_get_promotion_state', '_globals', '_int_extended_msg', '_mat', '_no_nep50_warning', '_pyinstaller_hooks_dir', '_pytesttester', '_set_promotion_state', '_specific_msg', '_typing', '_using_numpy2_behavior', '_utils', 'abs', 'absolute', 'add', 'add_docstring', 'add_newdoc', 'add_newdoc_ufunc', 'all', 'allclose', 'alltrue', 'amax', 'amin', 'angle', 'any', 'append', 'apply_along_axis', 'apply_over_axes', 'arange', 'arccos', 'arccosh', 'arcsin', 'arcsinh', 'arctan', 'arctan2', 'arctanh', 'argmax', 'argmin', 'argpartition', 'argsort', 'argwhere', 'around', 'array', 'array2string', 'array_equal', 'array_equiv', 'array_repr', 'array_split', 'array_str', 'asanyarray', 'asarray', 'asarray_chkfinite', 'ascontiguousarray', 'asfarray', 'asfortranarray', 'asmatrix', 'atleast_1d', 'atleast_2d', 'atleast_3d', 'average', 'bartlett', 'base_repr', 'binary_repr', 'bincount', 'bitwise_and', 'bitwise_not', 'bitwise_or', 'bitwise_xor', 'blackman', 'block', 'bmat', 'bool_', 'broadcast', 'broadcast_arrays', 'broadcast_shapes', 'broadcast_to', 'busday_count', 'busday_offset', 'busdaycalendar', 'byte', 'byte_bounds', 'bytes_', 'c_', 'can_cast', 'cast', 'cbrt', 'cdouble', 'ceil', 'cfloat', 'char', 'character', 'chararray', 'choose', 'clip', 'clongdouble', 'clongfloat', 'column_stack', 'common_type', 'compare_chararrays', 'compat', 'complex128', 'complex64', 'complex_', 'complexfloating', 'compress', 'concatenate', 'conj', 'conjugate', 'convolve', 'copy', 'copysign', 'copyto', 'corrcoef', 'correlate', 'cos', 'cosh', 'count_nonzero', 'cov', 'cross', 'csingle', 'ctypeslib', 'cumprod', 'cumproduct', 'cumsum', 'datetime64', 'datetime_as_string', 'datetime_data', 'deg2rad', 'degrees', 'delete', 'deprecate', 'deprecate_with_doc', 'diag', 'diag_indices', 'diag_indices_from', 'diagflat', 'diagonal', 'diff', 'digitize', 'disp', 'divide', 'divmod', 'dot', 'double', 'dsplit', 'dstack', 'dtype', 'dtypes', 'e', 'ediff1d', 'einsum', 'einsum_path', 'emath', 'empty', 'empty_like', 'equal', 'errstate', 'euler_gamma', 'exceptions', 'exp', 'exp2', 'expand_dims', 'expm1', 'extract', 'eye', 'fabs', 'fastCopyAndTranspose', 'fft', 'fill_diagonal', 'find_common_type', 'finfo', 'fix', 'flatiter', 'flatnonzero', 'flexible', 'flip', 'fliplr', 'flipud', 'float16', 'float32', 'float64', 'float_', 'float_power', 'floating', 'floor', 'floor_divide', 'fmax', 'fmin', 'fmod', 'format_float_positional', 'format_float_scientific', 'format_parser', 'frexp', 'from_dlpack', 'frombuffer', 'fromfile', 'fromfunction', 'fromiter', 'frompyfunc', 'fromregex', 'fromstring', 'full', 'full_like', 'gcd', 'generic', 'genfromtxt', 'geomspace', 'get_array_wrap', 'get_include', 'get_printoptions', 'getbufsize', 'geterr', 'geterrcall', 'geterrobj', 'gradient', 'greater', 'greater_equal', 'half', 'hamming', 'hanning', 'heaviside', 'histogram', 'histogram2d', 'histogram_bin_edges', 'histogramdd', 'hsplit', 'hstack', 'hypot', 'i0', 'identity', 'iinfo', 'imag', 'in1d', 'index_exp', 'indices', 'inexact', 'inf', 'info', 'infty', 'inner', 'insert', 'int16', 'int32', 'int64', 'int8', 'int_', 'intc', 'integer', 'interp', 'intersect1d', 'intp', 'invert', 'is_busday', 'isclose', 'iscomplex', 'iscomplexobj', 'isfinite', 'isfortran', 'isin', 'isinf', 'isnan', 'isnat', 'isneginf', 'isposinf', 'isreal', 'isrealobj', 'isscalar', 'issctype', 'issubclass_', 'issubdtype', 'issubsctype', 'iterable', 'ix_', 'kaiser', 'kron', 'lcm', 'ldexp', 'left_shift', 'less', 'less_equal', 'lexsort', 'lib', 'linalg', 'linspace', 'little_endian', 'load', 'loadtxt', 'log', 'log10', 'log1p', 'log2', 'logaddexp', 'logaddexp2', 'logical_and', 'logical_not', 'logical_or', 'logical_xor', 'logspace', 'longcomplex', 'longdouble', 'longfloat', 'longlong', 'lookfor', 'ma', 'mask_indices', 'mat', 'matmul', 'matrix', 'max', 'maximum', 'maximum_sctype', 'may_share_memory', 'mean', 'median', 'memmap', 'meshgrid', 'mgrid', 'min', 'min_scalar_type', 'minimum', 'mintypecode', 'mod', 'modf', 'moveaxis', 'msort', 'multiply', 'nan', 'nan_to_num', 'nanargmax', 'nanargmin', 'nancumprod', 'nancumsum', 'nanmax', 'nanmean', 'nanmedian', 'nanmin', 'nanpercentile', 'nanprod', 'nanquantile', 'nanstd', 'nansum', 'nanvar', 'nbytes', 'ndarray', 'ndenumerate', 'ndim', 'ndindex', 'nditer', 'negative', 'nested_iters', 'newaxis', 'nextafter', 'nonzero', 'not_equal', 'numarray', 'number', 'obj2sctype', 'object_', 'ogrid', 'oldnumeric', 'ones', 'ones_like', 'outer', 'packbits', 'pad', 'partition', 'percentile', 'pi', 'piecewise', 'place', 'poly', 'poly1d', 'polyadd', 'polyder', 'polydiv', 'polyfit', 'polyint', 'polymul', 'polynomial', 'polysub', 'polyval', 'positive', 'power', 'printoptions', 'prod', 'product', 'promote_types', 'ptp', 'put', 'put_along_axis', 'putmask', 'quantile', 'r_', 'rad2deg', 'radians', 'random', 'ravel', 'ravel_multi_index', 'real', 'real_if_close', 'rec', 'recarray', 'recfromcsv', 'recfromtxt', 'reciprocal', 'record', 'remainder', 'repeat', 'require', 'reshape', 'resize', 'result_type', 'right_shift', 'rint', 'roll', 'rollaxis', 'roots', 'rot90', 'round', 'round_', 'row_stack', 's_', 'safe_eval', 'save', 'savetxt', 'savez', 'savez_compressed', 'sctype2char', 'sctypeDict', 'sctypes', 'searchsorted', 'select', 'set_numeric_ops', 'set_printoptions', 'set_string_function', 'setbufsize', 'setdiff1d', 'seterr', 'seterrcall', 'seterrobj', 'setxor1d', 'shape', 'shares_memory', 'short', 'show_config', 'show_runtime', 'sign', 'signbit', 'signedinteger', 'sin', 'sinc', 'single', 'singlecomplex', 'sinh', 'size', 'sometrue', 'sort', 'sort_complex', 'source', 'spacing', 'split', 'sqrt', 'square', 'squeeze', 'stack', 'std', 'str_', 'string_', 'subtract', 'sum', 'swapaxes', 'take', 'take_along_axis', 'tan', 'tanh', 'tensordot', 'test', 'testing', 'tile', 'timedelta64', 'trace', 'tracemalloc_domain', 'transpose', 'trapz', 'tri', 'tril', 'tril_indices', 'tril_indices_from', 'trim_zeros', 'triu', 'triu_indices', 'triu_indices_from', 'true_divide', 'trunc', 'typecodes', 'typename', 'ubyte', 'ufunc', 'uint', 'uint16', 'uint32', 'uint64', 'uint8', 'uintc', 'uintp', 'ulonglong', 'unicode_', 'union1d', 'unique', 'unpackbits', 'unravel_index', 'unsignedinteger', 'unwrap', 'ushort', 'vander', 'var', 'vdot', 'vectorize', 'version', 'void', 'vsplit', 'vstack', 'where', 'who', 'zeros', 'zeros_like']\n"
     ]
    }
   ],
   "source": [
    "print(dir(np))"
   ]
  },
  {
   "cell_type": "code",
   "execution_count": 5,
   "id": "7764465d-dd42-4420-9046-4dd2af868431",
   "metadata": {},
   "outputs": [
    {
     "data": {
      "text/plain": [
       "3.0"
      ]
     },
     "execution_count": 5,
     "metadata": {},
     "output_type": "execute_result"
    }
   ],
   "source": [
    "np.sqrt(9)    ## Prints the square root of the element enetered"
   ]
  },
  {
   "cell_type": "code",
   "execution_count": 8,
   "id": "951ef086-0b50-4b2d-9f89-7546511a7060",
   "metadata": {},
   "outputs": [
    {
     "name": "stdout",
     "output_type": "stream",
     "text": [
      "Minimum  23\n"
     ]
    }
   ],
   "source": [
    "print(\"Minimum \",np.amin([23, 24, 25, 26]))  ##np.amin() prints minimum number from the list entered"
   ]
  },
  {
   "cell_type": "code",
   "execution_count": 9,
   "id": "af32199f-fe0e-4d32-b696-3e6246ff3c70",
   "metadata": {},
   "outputs": [
    {
     "name": "stdout",
     "output_type": "stream",
     "text": [
      "Maximum  89\n"
     ]
    }
   ],
   "source": [
    "print(\"Maximum \",np.amax([89, 76, 65, 34]))  ##np.amax() prints maximum number from the list entered"
   ]
  },
  {
   "cell_type": "code",
   "execution_count": 10,
   "id": "6e82bcbe-0f7a-4fdf-8c90-49a39538c024",
   "metadata": {},
   "outputs": [
    {
     "data": {
      "text/plain": [
       "35.0"
      ]
     },
     "execution_count": 10,
     "metadata": {},
     "output_type": "execute_result"
    }
   ],
   "source": [
    "np.ceil(34.54)    ##np.ceil() function print round-off element enetered"
   ]
  },
  {
   "cell_type": "code",
   "execution_count": 12,
   "id": "aad8fe75-e8a9-4e70-8605-04eba954bfb2",
   "metadata": {},
   "outputs": [
    {
     "data": {
      "text/plain": [
       "5.0"
      ]
     },
     "execution_count": 12,
     "metadata": {},
     "output_type": "execute_result"
    }
   ],
   "source": [
    "np.ceil(np.sqrt(17))   ## first takes the square root and then prints its round-off figure"
   ]
  },
  {
   "cell_type": "code",
   "execution_count": 16,
   "id": "77e505a1-3a59-4f5f-9fb0-fc9dca530c6d",
   "metadata": {},
   "outputs": [
    {
     "data": {
      "text/plain": [
       "11.0"
      ]
     },
     "execution_count": 16,
     "metadata": {},
     "output_type": "execute_result"
    }
   ],
   "source": [
    "np.ceil(np.sum(np.sqrt([6,12,18])))   ## (1) First squareroot (2) Second sum of the elements (3) Round-off the element"
   ]
  },
  {
   "cell_type": "code",
   "execution_count": 17,
   "id": "e5bed518-a7ea-456a-aacd-0f2a10608fcc",
   "metadata": {},
   "outputs": [
    {
     "data": {
      "text/plain": [
       "array([23, 34, 45])"
      ]
     },
     "execution_count": 17,
     "metadata": {},
     "output_type": "execute_result"
    }
   ],
   "source": [
    "np.array([23, 34, 45])   ## np.array() creates array"
   ]
  },
  {
   "cell_type": "code",
   "execution_count": 18,
   "id": "7fe9d7eb-9821-453c-81af-f1d02b6ff32f",
   "metadata": {},
   "outputs": [
    {
     "data": {
      "text/plain": [
       "list"
      ]
     },
     "execution_count": 18,
     "metadata": {},
     "output_type": "execute_result"
    }
   ],
   "source": [
    "type([23, 34, 45])"
   ]
  },
  {
   "cell_type": "code",
   "execution_count": 22,
   "id": "fa166396-8e0b-41b4-a083-f485900ab71f",
   "metadata": {},
   "outputs": [
    {
     "data": {
      "text/plain": [
       "numpy.ndarray"
      ]
     },
     "execution_count": 22,
     "metadata": {},
     "output_type": "execute_result"
    }
   ],
   "source": [
    "arr = np.array([23, 34, 45])    ## Assigned list as numpy.list\n",
    "type(arr)                       ## This will print numpy.ndarray"
   ]
  },
  {
   "cell_type": "code",
   "execution_count": 23,
   "id": "10ebc76c-0f53-48bb-9559-dccbcbfb0950",
   "metadata": {},
   "outputs": [],
   "source": [
    "## Two dimensional array"
   ]
  },
  {
   "cell_type": "code",
   "execution_count": 25,
   "id": "8ac911de-7283-47b6-9778-aa8815c8ff79",
   "metadata": {},
   "outputs": [
    {
     "name": "stdout",
     "output_type": "stream",
     "text": [
      "Type -  int32\n",
      "\n",
      " [[1 0 0]\n",
      " [0 1 0]\n",
      " [0 0 1]]\n"
     ]
    }
   ],
   "source": [
    "a=np.array([[1,0,0],[0,1,0],[0,0,1]])  ## [[ indicates we are constructing two dimensional array\n",
    "print(\"Type - \",a.dtype)               ## prints the data type of the element\n",
    "\n",
    "print(\"\\n\",a)"
   ]
  },
  {
   "cell_type": "code",
   "execution_count": 27,
   "id": "b56e2299-f9ff-4191-8ab2-936a430e40a7",
   "metadata": {},
   "outputs": [
    {
     "data": {
      "text/plain": [
       "array([5., 8., 9.])"
      ]
     },
     "execution_count": 27,
     "metadata": {},
     "output_type": "execute_result"
    }
   ],
   "source": [
    "np.array([5,8,9],dtype=float)   ## Converts the array dtype to float"
   ]
  },
  {
   "cell_type": "code",
   "execution_count": 28,
   "id": "bc1da06e-33e7-4140-a4a9-771fd3bcaa50",
   "metadata": {},
   "outputs": [
    {
     "name": "stdout",
     "output_type": "stream",
     "text": [
      "[1 2 3 4]\n"
     ]
    }
   ],
   "source": [
    "list = [1, 2, 3, 4]\n",
    "arr = np.array(list)        ## Converts list to an np.array\n",
    "print(arr)"
   ]
  },
  {
   "cell_type": "code",
   "execution_count": 29,
   "id": "9d50e16c-2a72-4f7f-ac03-fd3bc542b73d",
   "metadata": {},
   "outputs": [
    {
     "data": {
      "text/plain": [
       "numpy.ndarray"
      ]
     },
     "execution_count": 29,
     "metadata": {},
     "output_type": "execute_result"
    }
   ],
   "source": [
    "type(arr)"
   ]
  },
  {
   "cell_type": "code",
   "execution_count": 30,
   "id": "e2a1b054-d383-47c1-98d4-0975d8a1fc49",
   "metadata": {},
   "outputs": [],
   "source": [
    "arr2=np.asarray(arr)    ## np.asarray() copies the previous array as it is in the new array"
   ]
  },
  {
   "cell_type": "code",
   "execution_count": 31,
   "id": "0ece8e78-0b32-41bd-8ad0-8498966e182f",
   "metadata": {},
   "outputs": [
    {
     "name": "stdout",
     "output_type": "stream",
     "text": [
      "[1 2 3 4]\n"
     ]
    }
   ],
   "source": [
    "print(arr2)"
   ]
  },
  {
   "cell_type": "code",
   "execution_count": 32,
   "id": "5c304076-befa-44d4-9218-29275b7d83e2",
   "metadata": {},
   "outputs": [],
   "source": [
    "## Data Types in numpy"
   ]
  },
  {
   "cell_type": "code",
   "execution_count": 33,
   "id": "0739db8a-7022-4d4e-83ac-d0894700bd59",
   "metadata": {},
   "outputs": [],
   "source": [
    "import numpy as np"
   ]
  },
  {
   "cell_type": "code",
   "execution_count": 35,
   "id": "dd355cea-3ff6-4d3a-9a17-3e52c99e4726",
   "metadata": {},
   "outputs": [
    {
     "name": "stdout",
     "output_type": "stream",
     "text": [
      "Type/class of this object :  <class 'numpy.ndarray'>\n",
      "[[1 0 0]\n",
      " [0 1 0]\n",
      " [0 0 1]]\n",
      "print dimension of this matrix :  2\n",
      "size of the matrix :  9\n",
      "Shape of the matrix :  (3, 3)\n",
      "Data Type of the matrix ;  int32\n"
     ]
    }
   ],
   "source": [
    "my_mat=[[1,0,0],[0,1,0],[0,0,1]]\n",
    "mat=np.array(my_mat)\n",
    "print(\"Type/class of this object : \",type(mat))\n",
    "print(mat) \n",
    "print(\"print dimension of this matrix : \",mat.ndim)#ndim gives dimension,2 for a matrix and 1 for vector\n",
    "print(\"size of the matrix : \",mat.size)#size shows total number elements\n",
    "print(\"Shape of the matrix : \",mat.shape)#shape shows how many rows and column\n",
    "print(\"Data Type of the matrix ; \",mat.dtype)#shoes which type"
   ]
  },
  {
   "cell_type": "code",
   "execution_count": 38,
   "id": "7ae40c49-ef80-41ec-8f86-2f689cd729db",
   "metadata": {},
   "outputs": [],
   "source": [
    "b = np.arange(20)     ## Prints the numbers till the 19"
   ]
  },
  {
   "cell_type": "code",
   "execution_count": 39,
   "id": "c0f34bd4-b757-4d8a-a339-69f4e0d5c75a",
   "metadata": {},
   "outputs": [
    {
     "data": {
      "text/plain": [
       "array([ 0,  1,  2,  3,  4,  5,  6,  7,  8,  9, 10, 11, 12, 13, 14, 15, 16,\n",
       "       17, 18, 19])"
      ]
     },
     "execution_count": 39,
     "metadata": {},
     "output_type": "execute_result"
    }
   ],
   "source": [
    "b"
   ]
  },
  {
   "cell_type": "code",
   "execution_count": 46,
   "id": "3ea77f53-33e2-47b2-9c1d-cc1212a42b16",
   "metadata": {},
   "outputs": [],
   "source": [
    "c = np.arange(10.8, 24.8, 3)  ## Range from 10.8 to 24.8 and with a stepsize of 3. Means print elements with a difference of 3"
   ]
  },
  {
   "cell_type": "code",
   "execution_count": 47,
   "id": "b5daf5e3-cc7f-467a-871e-c7ff08ace998",
   "metadata": {},
   "outputs": [
    {
     "data": {
      "text/plain": [
       "array([10.8, 13.8, 16.8, 19.8, 22.8])"
      ]
     },
     "execution_count": 47,
     "metadata": {},
     "output_type": "execute_result"
    }
   ],
   "source": [
    "c"
   ]
  },
  {
   "cell_type": "code",
   "execution_count": 48,
   "id": "40e88112-04ec-41be-bbf8-cff1f42b318f",
   "metadata": {},
   "outputs": [],
   "source": [
    "## Reverse Order"
   ]
  },
  {
   "cell_type": "code",
   "execution_count": 50,
   "id": "b34ff596-a1b5-4fee-9adb-ff0b9b1e905a",
   "metadata": {},
   "outputs": [
    {
     "name": "stdout",
     "output_type": "stream",
     "text": [
      "Every 2nd number from 20 in reverse order \n",
      " [20 18 16 14 12 10  8  6  4  2  0 -2 -4 -6 -8]\n"
     ]
    }
   ],
   "source": [
    "print(\"Every 2nd number from 20 in reverse order \\n\",np.arange(20,-10,-2))"
   ]
  },
  {
   "cell_type": "code",
   "execution_count": 53,
   "id": "7df701ea-1090-4ed0-8089-355b0130fa54",
   "metadata": {},
   "outputs": [
    {
     "name": "stdout",
     "output_type": "stream",
     "text": [
      "[22.  24.4 26.8 29.2 31.6 34. ]\n"
     ]
    }
   ],
   "source": [
    "print(np.linspace(22, 34, 6))   ## prints numbers from the range of 22 to 34. Total numbers 6"
   ]
  },
  {
   "cell_type": "code",
   "execution_count": 55,
   "id": "5aee6532-a676-4e37-9404-fc8d92cf68a8",
   "metadata": {},
   "outputs": [
    {
     "data": {
      "text/plain": [
       "(array([ 8.        , 11.33333333, 14.66666667, 18.        ]),\n",
       " 3.3333333333333335)"
      ]
     },
     "execution_count": 55,
     "metadata": {},
     "output_type": "execute_result"
    }
   ],
   "source": [
    "np.linspace(8.0,18.0,num=4,endpoint=True,retstep=True)  ## Prints  from 8 to 18 with stepsize of 3.333 as shown in the output"
   ]
  },
  {
   "cell_type": "code",
   "execution_count": 56,
   "id": "7ff1ccbd-fc4f-45d5-881f-78e71820d80f",
   "metadata": {},
   "outputs": [],
   "source": [
    "## Matrix Creation"
   ]
  },
  {
   "cell_type": "code",
   "execution_count": 57,
   "id": "c533c7d8-ebd8-4151-b1a2-0bbd015b2433",
   "metadata": {},
   "outputs": [
    {
     "name": "stdout",
     "output_type": "stream",
     "text": [
      "[1. 1. 1. 1. 1.]\n"
     ]
    }
   ],
   "source": [
    "print(np.ones(5))"
   ]
  },
  {
   "cell_type": "code",
   "execution_count": 63,
   "id": "887c7288-977c-4c58-82ae-6f955f22ebcb",
   "metadata": {},
   "outputs": [
    {
     "name": "stdout",
     "output_type": "stream",
     "text": [
      "[[1. 1. 1. 1. 1. 1.]\n",
      " [1. 1. 1. 1. 1. 1.]\n",
      " [1. 1. 1. 1. 1. 1.]\n",
      " [1. 1. 1. 1. 1. 1.]\n",
      " [1. 1. 1. 1. 1. 1.]]\n"
     ]
    }
   ],
   "source": [
    "print(np.ones([5,6]))  ## 5 represents rows. 6 represent columns which is the matrix as shown"
   ]
  },
  {
   "cell_type": "code",
   "execution_count": 64,
   "id": "9d694b27-61ed-467e-955f-975a969f6bd2",
   "metadata": {},
   "outputs": [
    {
     "name": "stdout",
     "output_type": "stream",
     "text": [
      "[0. 0. 0. 0. 0.]\n"
     ]
    }
   ],
   "source": [
    "print(np.zeros([5]))"
   ]
  },
  {
   "cell_type": "code",
   "execution_count": 65,
   "id": "7d9f11bd-0fe0-4371-afae-a9b9f4cf5a3c",
   "metadata": {},
   "outputs": [
    {
     "name": "stdout",
     "output_type": "stream",
     "text": [
      "[[0. 0. 0. 0. 0. 0.]\n",
      " [0. 0. 0. 0. 0. 0.]\n",
      " [0. 0. 0. 0. 0. 0.]\n",
      " [0. 0. 0. 0. 0. 0.]\n",
      " [0. 0. 0. 0. 0. 0.]]\n"
     ]
    }
   ],
   "source": [
    "print(np.zeros([5,6]))"
   ]
  },
  {
   "cell_type": "code",
   "execution_count": 66,
   "id": "db69e049-d764-405d-b73b-fe5ee3f07b7d",
   "metadata": {},
   "outputs": [],
   "source": [
    "## Let us try for other numbers"
   ]
  },
  {
   "cell_type": "code",
   "execution_count": 67,
   "id": "1a347596-4a02-4ee6-b2e6-b930f5c10fe4",
   "metadata": {},
   "outputs": [
    {
     "name": "stdout",
     "output_type": "stream",
     "text": [
      "[[8. 8. 8. 8. 8. 8.]\n",
      " [8. 8. 8. 8. 8. 8.]\n",
      " [8. 8. 8. 8. 8. 8.]\n",
      " [8. 8. 8. 8. 8. 8.]\n",
      " [8. 8. 8. 8. 8. 8.]]\n"
     ]
    }
   ],
   "source": [
    "print(8*np.ones([5,6]))"
   ]
  },
  {
   "cell_type": "code",
   "execution_count": 68,
   "id": "ffa22e77-c8a1-48c6-ab40-764fb2a7ad0d",
   "metadata": {},
   "outputs": [],
   "source": [
    "## Construct Diagonal Matrix"
   ]
  },
  {
   "cell_type": "code",
   "execution_count": 70,
   "id": "08ef3f71-50f7-496f-8403-4a8ceb6a5876",
   "metadata": {},
   "outputs": [
    {
     "name": "stdout",
     "output_type": "stream",
     "text": [
      "[[ 0  1  2  3]\n",
      " [ 4  5  6  7]\n",
      " [ 8  9 10 11]\n",
      " [12 13 14 15]\n",
      " [16 17 18 19]]\n"
     ]
    }
   ],
   "source": [
    "x=np.arange(20).reshape(5,4)   ## Range till 20. And Shape of the matrix 5*4\n",
    "print(x)"
   ]
  },
  {
   "cell_type": "code",
   "execution_count": 71,
   "id": "458f280d-86c8-4acc-9ce5-59f11a488192",
   "metadata": {},
   "outputs": [],
   "source": [
    "## Random Number Generation"
   ]
  },
  {
   "cell_type": "code",
   "execution_count": 76,
   "id": "bb7b9b81-d6f7-42d0-b75a-2474f694dff4",
   "metadata": {},
   "outputs": [],
   "source": [
    "## Real Time Example"
   ]
  },
  {
   "cell_type": "code",
   "execution_count": 72,
   "id": "f22dcaa8-2bcf-4768-927f-aa4ce9a4f022",
   "metadata": {},
   "outputs": [],
   "source": [
    "import numpy as np"
   ]
  },
  {
   "cell_type": "code",
   "execution_count": 77,
   "id": "05acb25b-8e53-480b-a756-fce91ff3f49f",
   "metadata": {},
   "outputs": [],
   "source": [
    "def generate_otp():                             ## Created a function \n",
    "    otp=np.random.randint(1000,10000,1)         ## Random number between 1000 to 10000\n",
    "    print(\"Your Otp is \",otp)                   ## Printing the OTP/ Random number\n",
    "    user_otp=int(input(\"Enter Your OTP Here\"))  ## Enter the random number displayed above \n",
    "    if otp==user_otp:                           ## Condition for successful login \n",
    "        print(\"Log in Sucessfully\")\n",
    "    else:                                       ## Else invalid \n",
    "        print(\"Your OTP is invalid\")"
   ]
  },
  {
   "cell_type": "code",
   "execution_count": 78,
   "id": "ae97a3d0-f0f9-4918-933b-4b46a3dc247b",
   "metadata": {},
   "outputs": [
    {
     "name": "stdout",
     "output_type": "stream",
     "text": [
      "Your Otp is  [8193]\n"
     ]
    },
    {
     "name": "stdin",
     "output_type": "stream",
     "text": [
      "Enter Your OTP Here 8193\n"
     ]
    },
    {
     "name": "stdout",
     "output_type": "stream",
     "text": [
      "Log in Sucessfully\n"
     ]
    }
   ],
   "source": [
    "generate_otp()"
   ]
  },
  {
   "cell_type": "code",
   "execution_count": 79,
   "id": "1c8ca296-9a9b-4429-95f2-7cea16aebd1d",
   "metadata": {},
   "outputs": [
    {
     "name": "stdout",
     "output_type": "stream",
     "text": [
      "Random integer vector :  [ 8  9 19  6 12  6 17  7 17  9]\n"
     ]
    }
   ],
   "source": [
    "print(\"Random integer vector : \",np.random.randint(5,20,10))"
   ]
  },
  {
   "cell_type": "code",
   "execution_count": 84,
   "id": "6a710efe-b520-48a6-9b8a-a94739e4d9bd",
   "metadata": {},
   "outputs": [
    {
     "name": "stdout",
     "output_type": "stream",
     "text": [
      "[[0.37454012 0.95071431 0.73199394 0.59865848 0.15601864 0.15599452]\n",
      " [0.05808361 0.86617615 0.60111501 0.70807258 0.02058449 0.96990985]\n",
      " [0.83244264 0.21233911 0.18182497 0.18340451 0.30424224 0.52475643]\n",
      " [0.43194502 0.29122914 0.61185289 0.13949386 0.29214465 0.36636184]\n",
      " [0.45606998 0.78517596 0.19967378 0.51423444 0.59241457 0.04645041]\n",
      " [0.60754485 0.17052412 0.06505159 0.94888554 0.96563203 0.80839735]\n",
      " [0.30461377 0.09767211 0.68423303 0.44015249 0.12203823 0.49517691]]\n"
     ]
    }
   ],
   "source": [
    "import numpy as np\n",
    "\n",
    "np.random.seed(42)     # Set the seed to 42    \n",
    "\n",
    "print(np.random.rand(7, 6)) ## np.random.rand() generates random numbers from a uniform distribution Over the interval [0,1]\n",
    "                            ## (7, 6) specifies matrix size (rows, Columns)"
   ]
  },
  {
   "cell_type": "code",
   "execution_count": null,
   "id": "70008e9e-cc8a-4995-8f8c-f2f6d4646cbe",
   "metadata": {},
   "outputs": [],
   "source": []
  }
 ],
 "metadata": {
  "kernelspec": {
   "display_name": "Python 3 (ipykernel)",
   "language": "python",
   "name": "python3"
  },
  "language_info": {
   "codemirror_mode": {
    "name": "ipython",
    "version": 3
   },
   "file_extension": ".py",
   "mimetype": "text/x-python",
   "name": "python",
   "nbconvert_exporter": "python",
   "pygments_lexer": "ipython3",
   "version": "3.12.7"
  }
 },
 "nbformat": 4,
 "nbformat_minor": 5
}
