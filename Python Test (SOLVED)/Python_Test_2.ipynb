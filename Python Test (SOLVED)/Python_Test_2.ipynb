{
 "cells": [
  {
   "cell_type": "markdown",
   "id": "20d5aa15",
   "metadata": {},
   "source": [
    "## Python_Test_2"
   ]
  },
  {
   "cell_type": "code",
   "execution_count": 1,
   "id": "94403bf7",
   "metadata": {},
   "outputs": [],
   "source": [
    "## Q1\n",
    "\n",
    "## if-- It is used to start a conditional statement to check if a certain condition is true.\n",
    "## elif--  Stands for \"else if\" and is used to check multiple conditions in an if statement.\n",
    "## else-- Used in conjunction with if to define what should happen when the condition in the if statement is not true.\n",
    "## for-- Used to iterate over a sequence (like a list, tuple, or string).\n",
    "## while-- Used to start a loop that repeats as long as a condition is true."
   ]
  },
  {
   "cell_type": "code",
   "execution_count": 2,
   "id": "4c946578",
   "metadata": {},
   "outputs": [
    {
     "name": "stdout",
     "output_type": "stream",
     "text": [
      "50\n"
     ]
    }
   ],
   "source": [
    "## Q2\n",
    "\n",
    "length = 5\n",
    "width = 10\n",
    "area_rec = length * width\n",
    "print(area_rec)"
   ]
  },
  {
   "cell_type": "code",
   "execution_count": 3,
   "id": "3b317b00",
   "metadata": {},
   "outputs": [
    {
     "name": "stdout",
     "output_type": "stream",
     "text": [
      "a and b point to the same object.\n"
     ]
    }
   ],
   "source": [
    "## Q3\n",
    "a = [1, 2, 3, 4,5]\n",
    "b = a  # b points to the same list object as a\n",
    "\n",
    "if a is b:\n",
    "    print(\"a and b point to the same object.\")\n",
    "else:\n",
    "    print(\"a and b point to different objects.\")"
   ]
  },
  {
   "cell_type": "code",
   "execution_count": 4,
   "id": "502dcb71",
   "metadata": {},
   "outputs": [
    {
     "name": "stdout",
     "output_type": "stream",
     "text": [
      "30.0\n"
     ]
    }
   ],
   "source": [
    "## Q4\n",
    "a = (6 + 2) * 4 - 10 / 5\n",
    "print(a)"
   ]
  },
  {
   "cell_type": "code",
   "execution_count": 5,
   "id": "2d0c2833",
   "metadata": {},
   "outputs": [
    {
     "name": "stdout",
     "output_type": "stream",
     "text": [
      "1\n"
     ]
    }
   ],
   "source": [
    "## Q5\n",
    "print(10%3)  ## % is a modulus operator which returns a remainder when it is divided by a number"
   ]
  },
  {
   "cell_type": "markdown",
   "id": "a637a8a7",
   "metadata": {},
   "source": [
    "## Data Types"
   ]
  },
  {
   "cell_type": "code",
   "execution_count": 6,
   "id": "64cbbb6a",
   "metadata": {},
   "outputs": [
    {
     "name": "stdout",
     "output_type": "stream",
     "text": [
      "<class 'float'>\n"
     ]
    }
   ],
   "source": [
    "## Q6\n",
    "\n",
    "print(type(3.14))"
   ]
  },
  {
   "cell_type": "code",
   "execution_count": 8,
   "id": "88e66ce6",
   "metadata": {},
   "outputs": [
    {
     "name": "stdout",
     "output_type": "stream",
     "text": [
      "Float: 10.0\n",
      "String: 10\n"
     ]
    }
   ],
   "source": [
    "## Q7\n",
    "\n",
    "int_val = 10\n",
    "\n",
    "# Convert to float\n",
    "flt_val = float(int_val)\n",
    "\n",
    "# Convert to string\n",
    "str_val = str(int_val)\n",
    "\n",
    "# Print the results\n",
    "print(\"Float:\", flt_val)\n",
    "print(\"String:\", str_val)"
   ]
  },
  {
   "cell_type": "code",
   "execution_count": 12,
   "id": "caabd617",
   "metadata": {},
   "outputs": [
    {
     "name": "stdout",
     "output_type": "stream",
     "text": [
      "Hi! My name is Aryan\n"
     ]
    }
   ],
   "source": [
    "## Q8\n",
    "\n",
    "a = 'Hi'\n",
    "b = 'My name is Aryan'\n",
    "\n",
    "print(a +'! '+ b)"
   ]
  },
  {
   "cell_type": "code",
   "execution_count": 14,
   "id": "de7dbafe",
   "metadata": {},
   "outputs": [
    {
     "name": "stdout",
     "output_type": "stream",
     "text": [
      "<class 'str'>\n"
     ]
    }
   ],
   "source": [
    "## Q9\n",
    "\n",
    "print(type('3>2'))"
   ]
  },
  {
   "cell_type": "code",
   "execution_count": 15,
   "id": "3ac4e41c",
   "metadata": {},
   "outputs": [
    {
     "name": "stdout",
     "output_type": "stream",
     "text": [
      "<class 'int'>\n"
     ]
    }
   ],
   "source": [
    "## Q10\n",
    "\n",
    "a = '123'\n",
    "b = int(a)  ## Convert to an integer\n",
    "print(type(b))"
   ]
  },
  {
   "cell_type": "markdown",
   "id": "6c7a8269",
   "metadata": {},
   "source": [
    "## Data Structure"
   ]
  },
  {
   "cell_type": "code",
   "execution_count": 16,
   "id": "f6eb5e74",
   "metadata": {},
   "outputs": [
    {
     "name": "stdout",
     "output_type": "stream",
     "text": [
      "3\n"
     ]
    }
   ],
   "source": [
    "## Q11\n",
    "\n",
    "a = [1, 2, 3, 4, 5]\n",
    "print(a[2])    ## printing the third element by its index value"
   ]
  },
  {
   "cell_type": "code",
   "execution_count": 17,
   "id": "3eba9fab",
   "metadata": {},
   "outputs": [
    {
     "name": "stdout",
     "output_type": "stream",
     "text": [
      "[1, 2, 3, 4, 5, 23]\n"
     ]
    }
   ],
   "source": [
    "## Q12\n",
    "\n",
    "my_list = [1, 2, 3, 4, 5]\n",
    "my_list.append(23)    ## adding new element\n",
    "print(my_list)"
   ]
  },
  {
   "cell_type": "code",
   "execution_count": 18,
   "id": "531c41ac",
   "metadata": {},
   "outputs": [
    {
     "name": "stdout",
     "output_type": "stream",
     "text": [
      "[1, 2, 3, 4]\n"
     ]
    }
   ],
   "source": [
    "## Q13\n",
    "\n",
    "my_list = [1, 2, 3, 4, 5]\n",
    "my_list.pop()    ## removing the element\n",
    "print(my_list)"
   ]
  },
  {
   "cell_type": "code",
   "execution_count": 20,
   "id": "69fe94cd",
   "metadata": {},
   "outputs": [
    {
     "ename": "TypeError",
     "evalue": "'tuple' object does not support item assignment",
     "output_type": "error",
     "traceback": [
      "\u001b[1;31m---------------------------------------------------------------------------\u001b[0m",
      "\u001b[1;31mTypeError\u001b[0m                                 Traceback (most recent call last)",
      "Cell \u001b[1;32mIn[20], line 4\u001b[0m\n\u001b[0;32m      1\u001b[0m \u001b[38;5;66;03m## Q14\u001b[39;00m\n\u001b[0;32m      3\u001b[0m a \u001b[38;5;241m=\u001b[39m (\u001b[38;5;241m1\u001b[39m, \u001b[38;5;241m2\u001b[39m, \u001b[38;5;241m3\u001b[39m, \u001b[38;5;241m4\u001b[39m)\n\u001b[1;32m----> 4\u001b[0m a[\u001b[38;5;241m2\u001b[39m] \u001b[38;5;241m=\u001b[39m \u001b[38;5;241m23\u001b[39m \u001b[38;5;66;03m## Trying to change the element in tuple which gives an error\u001b[39;00m\n\u001b[0;32m      5\u001b[0m \u001b[38;5;28mprint\u001b[39m(a)\n",
      "\u001b[1;31mTypeError\u001b[0m: 'tuple' object does not support item assignment"
     ]
    }
   ],
   "source": [
    "## Q14\n",
    "\n",
    "a = (1, 2, 3, 4)\n",
    "a[2] = 23 ## Trying to change the element in tuple which gives an error\n",
    "print(a)"
   ]
  },
  {
   "cell_type": "code",
   "execution_count": 24,
   "id": "fbd062ec",
   "metadata": {},
   "outputs": [
    {
     "name": "stdout",
     "output_type": "stream",
     "text": [
      "[40, 50]\n"
     ]
    }
   ],
   "source": [
    "## Q15\n",
    "\n",
    "list = [10, 20, 30, 40, 50]\n",
    "print(list[3:5])      ## Index slicing the terms to print last two elements"
   ]
  },
  {
   "cell_type": "code",
   "execution_count": 30,
   "id": "4e206ff2",
   "metadata": {},
   "outputs": [
    {
     "name": "stdout",
     "output_type": "stream",
     "text": [
      "{'Name': 'Alice', 'Age': 25}\n"
     ]
    }
   ],
   "source": [
    "## Q16\n",
    "\n",
    "dict = {'Name':'Alice', 'Age':25}\n",
    "print(dict)"
   ]
  },
  {
   "cell_type": "code",
   "execution_count": 31,
   "id": "a0d9a0d0",
   "metadata": {},
   "outputs": [
    {
     "name": "stdout",
     "output_type": "stream",
     "text": [
      "Alice\n"
     ]
    }
   ],
   "source": [
    "## Q17\n",
    "\n",
    "name_value = dict['Name']\n",
    "print(name_value)"
   ]
  },
  {
   "cell_type": "code",
   "execution_count": 34,
   "id": "4e73325c",
   "metadata": {},
   "outputs": [
    {
     "name": "stdout",
     "output_type": "stream",
     "text": [
      "True\n"
     ]
    }
   ],
   "source": [
    "## Q18\n",
    "\n",
    "if 'Name' in dict:\n",
    "    print(\"True\")\n",
    "else:\n",
    "    print(\"False\")"
   ]
  },
  {
   "cell_type": "code",
   "execution_count": 35,
   "id": "c2e57415",
   "metadata": {},
   "outputs": [],
   "source": [
    "## Q19\n",
    "\n",
    "## List: Ordered, allows duplicates, and can contain any type of elements.\n",
    "## Set: Unordered, does not allow duplicates, and is optimized for membership testing."
   ]
  },
  {
   "cell_type": "code",
   "execution_count": 36,
   "id": "bd4efbbf",
   "metadata": {},
   "outputs": [
    {
     "name": "stdout",
     "output_type": "stream",
     "text": [
      "{1, 2, 3}\n"
     ]
    }
   ],
   "source": [
    "## Q20\n",
    "\n",
    "list = [1, 2, 3, 2, 1]\n",
    "\n",
    "a = set(list)\n",
    "\n",
    "print(a)     ## As you can see it does not allow duplicates hence it does not repeat the numbers 1 and 2"
   ]
  },
  {
   "cell_type": "markdown",
   "id": "02f630a4",
   "metadata": {},
   "source": [
    "## Branching if-else statement"
   ]
  },
  {
   "cell_type": "code",
   "execution_count": 37,
   "id": "d8704f5a",
   "metadata": {},
   "outputs": [
    {
     "name": "stdout",
     "output_type": "stream",
     "text": [
      "Greater than 10\n"
     ]
    }
   ],
   "source": [
    "## Q21\n",
    "\n",
    "a = 12\n",
    "if a>10:\n",
    "    print(\"Greater than 10\")"
   ]
  },
  {
   "cell_type": "code",
   "execution_count": 38,
   "id": "0be2dad8",
   "metadata": {},
   "outputs": [
    {
     "name": "stdout",
     "output_type": "stream",
     "text": [
      "Number is Negative\n"
     ]
    }
   ],
   "source": [
    "## Q22\n",
    "\n",
    "a = -23\n",
    "\n",
    "if a>0:\n",
    "    print(\"Number is Positive\")\n",
    "else:\n",
    "    print(\"Number is Negative\")"
   ]
  },
  {
   "cell_type": "code",
   "execution_count": 39,
   "id": "6520aa87",
   "metadata": {},
   "outputs": [
    {
     "name": "stdout",
     "output_type": "stream",
     "text": [
      "Number is Zero\n"
     ]
    }
   ],
   "source": [
    "## Q23\n",
    "\n",
    "a = 0\n",
    "if a>0:\n",
    "    print(\"Number is Positive\")\n",
    "elif a<0:\n",
    "    print(\"Number is Negative\")\n",
    "else:\n",
    "    print(\"Number is Zero\")"
   ]
  },
  {
   "cell_type": "code",
   "execution_count": 40,
   "id": "0632ec5c",
   "metadata": {},
   "outputs": [
    {
     "name": "stdout",
     "output_type": "stream",
     "text": [
      "23\n",
      "Odd\n"
     ]
    }
   ],
   "source": [
    "## Q24\n",
    "\n",
    "a = int(input())\n",
    "\n",
    "if a%2==0:\n",
    "    print(\"Even\")\n",
    "else:\n",
    "    print(\"Odd\")"
   ]
  },
  {
   "cell_type": "code",
   "execution_count": 1,
   "id": "e1a412f2",
   "metadata": {},
   "outputs": [
    {
     "name": "stdout",
     "output_type": "stream",
     "text": [
      "Enter a year: 1345\n",
      "1345 is not a leap year.\n"
     ]
    }
   ],
   "source": [
    "## Q25\n",
    "\n",
    "# Take input from the user\n",
    "year = int(input(\"Enter a year: \"))\n",
    "\n",
    "# Check if the year is a leap year\n",
    "if (year % 4 == 0 and year % 100 != 0) or (year % 400 == 0):\n",
    "    print(f\"{year} is a leap year.\")\n",
    "elif year % 4 != 0:\n",
    "    print(f\"{year} is not a leap year.\")\n",
    "else:\n",
    "    print(f\"{year} is not a leap year.\")\n"
   ]
  },
  {
   "cell_type": "code",
   "execution_count": 2,
   "id": "f696d7d3",
   "metadata": {},
   "outputs": [
    {
     "name": "stdout",
     "output_type": "stream",
     "text": [
      "Enter a number: 23\n",
      "23 is positive but not even.\n"
     ]
    }
   ],
   "source": [
    "## Q26\n",
    "\n",
    "# Take input from the user\n",
    "number = int(input(\"Enter a number: \"))\n",
    "\n",
    "# Check if the number is positive\n",
    "if number > 0:\n",
    "    # Nested if to check if the number is even\n",
    "    if number % 2 == 0:\n",
    "        print(number,\" is positive and even.\")\n",
    "    else:\n",
    "        print(number, \"is positive but not even.\")\n",
    "else:\n",
    "    print(number, \"is not positive.\")\n"
   ]
  },
  {
   "cell_type": "code",
   "execution_count": 3,
   "id": "b8e31dae",
   "metadata": {},
   "outputs": [
    {
     "name": "stdout",
     "output_type": "stream",
     "text": [
      "True\n"
     ]
    }
   ],
   "source": [
    "## Q27\n",
    "\n",
    "a = 3\n",
    "\n",
    "if 5>a<10:\n",
    "    print(\"True\")\n",
    "else:\n",
    "    print(\"False\")    "
   ]
  },
  {
   "cell_type": "code",
   "execution_count": 4,
   "id": "85d8f21e",
   "metadata": {},
   "outputs": [
    {
     "name": "stdout",
     "output_type": "stream",
     "text": [
      "The variable is of type float.\n"
     ]
    }
   ],
   "source": [
    "## Q28\n",
    "\n",
    "# Example variable\n",
    "variable = 10.5\n",
    "\n",
    "# Check if the variable is of type float\n",
    "if isinstance(variable, float):\n",
    "    print(\"The variable is of type float.\")\n",
    "elif isinstance(variable, int):\n",
    "    print(\"The variable is of type int.\")\n",
    "elif isinstance(variable, str):\n",
    "    print(\"The variable is of type str.\")\n",
    "else:\n",
    "    print(\"The variable is of an unknown type.\")\n"
   ]
  },
  {
   "cell_type": "code",
   "execution_count": 5,
   "id": "370f795f",
   "metadata": {},
   "outputs": [
    {
     "name": "stdout",
     "output_type": "stream",
     "text": [
      "Enter the student's grade: 78\n",
      "Pass\n"
     ]
    }
   ],
   "source": [
    "## Q29\n",
    "\n",
    "grade = int(input(\"Enter the student's grade: \"))\n",
    "\n",
    "if grade >= 60:\n",
    "    print(\"Pass\")\n",
    "else:\n",
    "    print(\"Fail\")\n"
   ]
  },
  {
   "cell_type": "code",
   "execution_count": 6,
   "id": "4abb05a4",
   "metadata": {},
   "outputs": [
    {
     "name": "stdout",
     "output_type": "stream",
     "text": [
      "The variable is empty.\n"
     ]
    }
   ],
   "source": [
    "## Q30\n",
    "\n",
    "variable = \"\"\n",
    "\n",
    "# Check if the variable is empty\n",
    "if not variable:\n",
    "    print(\"The variable is empty.\")\n"
   ]
  },
  {
   "cell_type": "markdown",
   "id": "15dde41c",
   "metadata": {},
   "source": [
    "## Range and For Loop"
   ]
  },
  {
   "cell_type": "code",
   "execution_count": 9,
   "id": "1705bf87",
   "metadata": {},
   "outputs": [
    {
     "name": "stdout",
     "output_type": "stream",
     "text": [
      "1\n",
      "2\n",
      "3\n",
      "4\n",
      "5\n",
      "6\n",
      "7\n",
      "8\n",
      "9\n",
      "10\n"
     ]
    }
   ],
   "source": [
    "## Q31\n",
    "\n",
    "for i in range(1, 11):\n",
    "    print(i)"
   ]
  },
  {
   "cell_type": "code",
   "execution_count": 11,
   "id": "476fdd6b",
   "metadata": {},
   "outputs": [
    {
     "name": "stdout",
     "output_type": "stream",
     "text": [
      "1\n",
      "3\n",
      "6\n",
      "10\n",
      "15\n",
      "21\n",
      "28\n",
      "36\n",
      "45\n",
      "55\n",
      "66\n",
      "78\n",
      "91\n",
      "105\n",
      "120\n",
      "136\n",
      "153\n",
      "171\n",
      "190\n",
      "210\n"
     ]
    }
   ],
   "source": [
    "## Q32\n",
    "\n",
    "i = 0\n",
    "for number in range(1, 21):\n",
    "    i+=number\n",
    "    print(i)"
   ]
  },
  {
   "cell_type": "code",
   "execution_count": 12,
   "id": "a41e9b91",
   "metadata": {},
   "outputs": [
    {
     "name": "stdout",
     "output_type": "stream",
     "text": [
      "Alice\n",
      "Bob\n",
      "Charlie\n",
      "Diana\n"
     ]
    }
   ],
   "source": [
    "## Q33\n",
    "\n",
    "names = [\"Alice\", \"Bob\", \"Charlie\", \"Diana\"]\n",
    "\n",
    "for name in names:\n",
    "    print(name)"
   ]
  },
  {
   "cell_type": "code",
   "execution_count": 13,
   "id": "df454456",
   "metadata": {},
   "outputs": [
    {
     "name": "stdout",
     "output_type": "stream",
     "text": [
      "Square of the 1 is 1\n",
      "Square of the 2 is 4\n",
      "Square of the 3 is 9\n",
      "Square of the 4 is 16\n",
      "Square of the 5 is 25\n",
      "Square of the 6 is 36\n",
      "Square of the 7 is 49\n",
      "Square of the 8 is 64\n",
      "Square of the 9 is 81\n",
      "Square of the 10 is 100\n"
     ]
    }
   ],
   "source": [
    "## Q34\n",
    "\n",
    "for number in range(1, 11):\n",
    "    sqr = number**2\n",
    "    print(\"Square of the\", number, \"is\", sqr)"
   ]
  },
  {
   "cell_type": "code",
   "execution_count": 14,
   "id": "59265060",
   "metadata": {},
   "outputs": [
    {
     "name": "stdout",
     "output_type": "stream",
     "text": [
      "2\n",
      "4\n",
      "6\n",
      "8\n",
      "10\n",
      "12\n",
      "14\n",
      "16\n",
      "18\n",
      "20\n"
     ]
    }
   ],
   "source": [
    "## Q35\n",
    "\n",
    "for i in range(2, 21, 2):\n",
    "    print(i)"
   ]
  },
  {
   "cell_type": "code",
   "execution_count": 15,
   "id": "1c7ebc78",
   "metadata": {},
   "outputs": [
    {
     "name": "stdout",
     "output_type": "stream",
     "text": [
      "10\n",
      "9\n",
      "8\n",
      "7\n",
      "6\n",
      "5\n",
      "4\n",
      "3\n",
      "2\n",
      "1\n"
     ]
    }
   ],
   "source": [
    "## Q36\n",
    "\n",
    "for i in range(10, 0, -1):\n",
    "    print(i)"
   ]
  },
  {
   "cell_type": "code",
   "execution_count": 19,
   "id": "0065b0f4",
   "metadata": {},
   "outputs": [
    {
     "name": "stdout",
     "output_type": "stream",
     "text": [
      "APPLE\n",
      "MANGO\n",
      "BANANA\n",
      "ORANGE\n",
      "CHERRY\n"
     ]
    }
   ],
   "source": [
    "## Q37\n",
    "\n",
    "fruits = ['Apple', 'Mango', 'Banana', 'Orange', 'Cherry']\n",
    "\n",
    "for fruit in fruits: \n",
    "    print(fruit.upper())"
   ]
  },
  {
   "cell_type": "code",
   "execution_count": 20,
   "id": "99e69510",
   "metadata": {},
   "outputs": [
    {
     "name": "stdout",
     "output_type": "stream",
     "text": [
      "Index 0: Apple\n",
      "Index 1: Mango\n",
      "Index 2: Banana\n",
      "Index 3: Orange\n",
      "Index 4: Cherry\n"
     ]
    }
   ],
   "source": [
    "## Q38\n",
    "\n",
    "fruits = [\"Apple\", \"Mango\", \"Banana\", \"Orange\", \"Cherry\"]\n",
    "\n",
    "for index, fruit in enumerate(fruits):\n",
    "    print(f\"Index {index}: {fruit}\")"
   ]
  },
  {
   "cell_type": "code",
   "execution_count": 21,
   "id": "82751ca3",
   "metadata": {},
   "outputs": [
    {
     "name": "stdout",
     "output_type": "stream",
     "text": [
      "0\n",
      "3\n",
      "6\n",
      "9\n",
      "12\n",
      "15\n",
      "18\n",
      "21\n",
      "24\n",
      "27\n",
      "30\n"
     ]
    }
   ],
   "source": [
    "## Q39\n",
    "\n",
    "for i in range(0, 31, 3):\n",
    "    print(i)"
   ]
  },
  {
   "cell_type": "code",
   "execution_count": 30,
   "id": "41c0d66c",
   "metadata": {},
   "outputs": [
    {
     "name": "stdout",
     "output_type": "stream",
     "text": [
      "Enter a number: 6\n",
      "Factorial of 6 is 1\n",
      "Factorial of 6 is 2\n",
      "Factorial of 6 is 6\n",
      "Factorial of 6 is 24\n",
      "Factorial of 6 is 120\n",
      "Factorial of 6 is 720\n"
     ]
    }
   ],
   "source": [
    "## Q40\n",
    "\n",
    "number = int(input(\"Enter a number: \"))\n",
    "\n",
    "fact = 1     ## Initialize factorial to 1\n",
    "for i in range(1, number+1):\n",
    "    fact*=i\n",
    "    print(\"Factorial of\", number, \"is\", fact)"
   ]
  },
  {
   "cell_type": "markdown",
   "id": "79f211b6",
   "metadata": {},
   "source": [
    "## While loop"
   ]
  },
  {
   "cell_type": "code",
   "execution_count": 33,
   "id": "fee52b43",
   "metadata": {},
   "outputs": [
    {
     "name": "stdout",
     "output_type": "stream",
     "text": [
      "1\n",
      "2\n",
      "3\n",
      "4\n",
      "5\n"
     ]
    }
   ],
   "source": [
    "## Q41\n",
    "i = 1\n",
    "while i <= 5:\n",
    "    print(i)\n",
    "    i += 1\n"
   ]
  },
  {
   "cell_type": "code",
   "execution_count": 34,
   "id": "2379bb84",
   "metadata": {},
   "outputs": [
    {
     "name": "stdout",
     "output_type": "stream",
     "text": [
      "Enter the password: 123\n",
      "Enter the password: 123\n",
      "Enter the password: 8659\n",
      "Enter the password: 1234\n",
      "Access granted!\n"
     ]
    }
   ],
   "source": [
    "## Q42\n",
    "\n",
    "password = \"\"        ## First take an emty variable\n",
    "\n",
    "while password != \"1234\":     ## Condition\n",
    "    password = input(\"Enter the password: \")\n",
    "\n",
    "print(\"Access granted!\")      ## Output \n"
   ]
  },
  {
   "cell_type": "code",
   "execution_count": 37,
   "id": "b844b2d0",
   "metadata": {},
   "outputs": [
    {
     "name": "stdout",
     "output_type": "stream",
     "text": [
      "The sum of numbers from 1 to 100 is: 5050\n"
     ]
    }
   ],
   "source": [
    "## Q43\n",
    "\n",
    "# Initialize variables\n",
    "sum_total = 0  # This will store the sum of numbers\n",
    "i = 1          # Starting number\n",
    "\n",
    "# Loop until i exceeds 100\n",
    "while i <= 100:\n",
    "    sum_total += i  # Add the current value of i to sum_total\n",
    "    i += 1          # Increment i by 1\n",
    "\n",
    "# Print the result\n",
    "print(\"The sum of numbers from 1 to 100 is:\", sum_total)"
   ]
  },
  {
   "cell_type": "code",
   "execution_count": 7,
   "id": "ace105dd",
   "metadata": {},
   "outputs": [
    {
     "name": "stdout",
     "output_type": "stream",
     "text": [
      "10\n",
      "9\n",
      "8\n",
      "7\n",
      "6\n",
      "5\n",
      "4\n",
      "3\n",
      "2\n",
      "1\n"
     ]
    }
   ],
   "source": [
    "## Q44, Q48\n",
    "\n",
    "num = 10\n",
    "while num>=1:\n",
    "    print(num)\n",
    "    num-=1"
   ]
  },
  {
   "cell_type": "code",
   "execution_count": 6,
   "id": "208623fb",
   "metadata": {},
   "outputs": [
    {
     "name": "stdout",
     "output_type": "stream",
     "text": [
      "2\n",
      "4\n",
      "6\n",
      "8\n",
      "10\n",
      "12\n",
      "14\n",
      "16\n",
      "18\n",
      "20\n"
     ]
    }
   ],
   "source": [
    "## Q45\n",
    "\n",
    "num = 2\n",
    "while num<=20:\n",
    "    print(num)\n",
    "    num+=2"
   ]
  },
  {
   "cell_type": "code",
   "execution_count": 2,
   "id": "5c9dba15",
   "metadata": {},
   "outputs": [
    {
     "name": "stdout",
     "output_type": "stream",
     "text": [
      "1\n",
      "2\n",
      "3\n",
      "4\n",
      "5\n",
      "6\n",
      "7\n",
      "8\n",
      "9\n",
      "10\n",
      "11\n",
      "12\n",
      "13\n",
      "14\n",
      "15\n",
      "16\n",
      "17\n",
      "18\n",
      "19\n",
      "20\n",
      "21\n",
      "22\n",
      "23\n",
      "24\n",
      "25\n",
      "26\n",
      "27\n",
      "28\n",
      "29\n",
      "30\n",
      "31\n",
      "32\n",
      "33\n",
      "34\n",
      "35\n",
      "36\n",
      "37\n",
      "38\n",
      "39\n",
      "40\n",
      "41\n",
      "42\n",
      "43\n",
      "44\n",
      "45\n",
      "46\n",
      "47\n",
      "48\n",
      "49\n",
      "50\n",
      "51\n",
      "52\n",
      "53\n",
      "54\n",
      "55\n",
      "56\n",
      "57\n",
      "58\n",
      "59\n",
      "60\n",
      "61\n",
      "62\n",
      "63\n",
      "64\n",
      "65\n",
      "66\n",
      "67\n",
      "68\n",
      "69\n",
      "70\n",
      "71\n",
      "72\n",
      "73\n",
      "74\n",
      "75\n",
      "76\n",
      "77\n",
      "78\n",
      "79\n",
      "80\n",
      "81\n",
      "82\n",
      "83\n",
      "84\n",
      "85\n",
      "86\n",
      "87\n",
      "88\n",
      "89\n",
      "90\n",
      "91\n",
      "92\n",
      "93\n",
      "94\n",
      "95\n",
      "96\n",
      "97\n",
      "98\n",
      "99\n",
      "100\n"
     ]
    }
   ],
   "source": [
    "## Q46\n",
    "\n",
    "num = 1\n",
    "while num <= 100:\n",
    "    print(num)\n",
    "    num+=1"
   ]
  },
  {
   "cell_type": "code",
   "execution_count": 3,
   "id": "e07bb2e9",
   "metadata": {},
   "outputs": [
    {
     "name": "stdout",
     "output_type": "stream",
     "text": [
      "[1, 2, 3, 4]\n",
      "[1, 2, 3]\n",
      "[1, 2]\n",
      "[1]\n",
      "[]\n"
     ]
    }
   ],
   "source": [
    "## Q47\n",
    "\n",
    "my_list = [1, 2, 3, 4 , 5]\n",
    "\n",
    "while my_list:\n",
    "    my_list.pop()\n",
    "    print(my_list)"
   ]
  },
  {
   "cell_type": "code",
   "execution_count": 4,
   "id": "df101d30",
   "metadata": {},
   "outputs": [
    {
     "name": "stdout",
     "output_type": "stream",
     "text": [
      "5\n",
      "10\n",
      "15\n",
      "20\n",
      "25\n",
      "30\n",
      "35\n",
      "40\n",
      "45\n",
      "50\n"
     ]
    }
   ],
   "source": [
    "## Q49\n",
    "\n",
    "num = 5\n",
    "count = 1\n",
    "\n",
    "while count <= 10:\n",
    "    print(num*count)\n",
    "    count+=1"
   ]
  },
  {
   "cell_type": "code",
   "execution_count": 9,
   "id": "64532ae2",
   "metadata": {},
   "outputs": [
    {
     "name": "stdout",
     "output_type": "stream",
     "text": [
      "[0]\n",
      "[0, 1]\n",
      "[0, 1, 1]\n",
      "[0, 1, 1, 2]\n",
      "[0, 1, 1, 2, 3]\n",
      "[0, 1, 1, 2, 3, 5]\n",
      "[0, 1, 1, 2, 3, 5, 8]\n",
      "[0, 1, 1, 2, 3, 5, 8, 13]\n",
      "[0, 1, 1, 2, 3, 5, 8, 13, 21]\n",
      "[0, 1, 1, 2, 3, 5, 8, 13, 21, 34]\n"
     ]
    }
   ],
   "source": [
    "## Q50\n",
    "\n",
    "fib_list = []    ## Initialize the list\n",
    "a, b = 0, 1      ## First two fibonacci numbers in sequence\n",
    "count = 0        ## Initializing a counter\n",
    "\n",
    "while count<10:\n",
    "    fib_list.append(a)    ## Add the current fibonacci number to the list\n",
    "    a, b = b, a+b       ## Update a and b to the next two number in the sequence\n",
    "    count+=1\n",
    "    print(fib_list)"
   ]
  },
  {
   "cell_type": "code",
   "execution_count": null,
   "id": "26eb04a3",
   "metadata": {},
   "outputs": [],
   "source": []
  }
 ],
 "metadata": {
  "kernelspec": {
   "display_name": "Python 3 (ipykernel)",
   "language": "python",
   "name": "python3"
  },
  "language_info": {
   "codemirror_mode": {
    "name": "ipython",
    "version": 3
   },
   "file_extension": ".py",
   "mimetype": "text/x-python",
   "name": "python",
   "nbconvert_exporter": "python",
   "pygments_lexer": "ipython3",
   "version": "3.11.5"
  }
 },
 "nbformat": 4,
 "nbformat_minor": 5
}
