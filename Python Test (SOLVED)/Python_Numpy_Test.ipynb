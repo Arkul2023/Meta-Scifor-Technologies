{
 "cells": [
  {
   "cell_type": "code",
   "execution_count": 25,
   "id": "94352aa4-388b-4aa1-b4bf-39b28f726e92",
   "metadata": {},
   "outputs": [
    {
     "name": "stdin",
     "output_type": "stream",
     "text": [
      "Enter a number:  3\n"
     ]
    },
    {
     "name": "stdout",
     "output_type": "stream",
     "text": [
      "Square of  3.0 is 9.0\n"
     ]
    }
   ],
   "source": [
    "## Q1\n",
    "x = float(input(\"Enter a number: \")) ## Taken float as input. Because number can be decimal number also\n",
    "a = lambda x: x**2                   ## Condition   \n",
    "print(\"Square of \",x,\"is\",square(x))"
   ]
  },
  {
   "cell_type": "code",
   "execution_count": 1,
   "id": "f0df708f-cb19-4b22-9e59-9441ace4a9ce",
   "metadata": {},
   "outputs": [
    {
     "data": {
      "text/plain": [
       "[2, 4, 6, 8, 10]"
      ]
     },
     "execution_count": 1,
     "metadata": {},
     "output_type": "execute_result"
    }
   ],
   "source": [
    "## Q2\n",
    "list(map(lambda x: x * 2, [1, 2, 3, 4, 5]))"
   ]
  },
  {
   "cell_type": "code",
   "execution_count": 2,
   "id": "66aba088-ba10-421f-8144-034d7e6490b2",
   "metadata": {},
   "outputs": [
    {
     "data": {
      "text/plain": [
       "[10, 20, 30]"
      ]
     },
     "execution_count": 2,
     "metadata": {},
     "output_type": "execute_result"
    }
   ],
   "source": [
    "## Q3\n",
    "list(filter(lambda x:x%2==0,[10,15,20,25,30]))"
   ]
  },
  {
   "cell_type": "code",
   "execution_count": 7,
   "id": "bb66f8e0-c09e-4fc7-a82d-513b8143d8ee",
   "metadata": {},
   "outputs": [
    {
     "name": "stdout",
     "output_type": "stream",
     "text": [
      "Total sum is:  5\n",
      "Total sum is:  15\n",
      "Total sum is:  30\n",
      "Total sum is:  50\n"
     ]
    }
   ],
   "source": [
    "## Q11\n",
    "\n",
    "a = [5, 10, 15, 20]    ## Assigning the list first\n",
    "s = 0                  ## Total = 0\n",
    "for i in a:\n",
    "    s+=i               ## Condition for totaling\n",
    "    print(\"Total sum is: \",s)"
   ]
  },
  {
   "cell_type": "code",
   "execution_count": 13,
   "id": "84922503-be5c-4e1d-aff2-4e3abfc20882",
   "metadata": {},
   "outputs": [
    {
     "name": "stdout",
     "output_type": "stream",
     "text": [
      "6\n",
      "12\n",
      "18\n",
      "24\n",
      "30\n",
      "36\n",
      "42\n",
      "48\n",
      "54\n",
      "60\n"
     ]
    }
   ],
   "source": [
    "## Q12\n",
    "\n",
    "a = 6         ## Assiging a number\n",
    "c = 1         ## Starting count stored in variable c\n",
    "\n",
    "while c<=10:      ## condition for table till 10\n",
    "    print(a*c)   \n",
    "    c+=1          ## Count incremented by 1 till the condition is false"
   ]
  },
  {
   "cell_type": "code",
   "execution_count": 10,
   "id": "18991e4e-500f-4a33-8949-d8c75563fde3",
   "metadata": {},
   "outputs": [
    {
     "name": "stdout",
     "output_type": "stream",
     "text": [
      "It is an even number\n"
     ]
    }
   ],
   "source": [
    "## Q14\n",
    "\n",
    "a = 2                           ## Number assigned\n",
    "if a%2==0:                       ## Condition\n",
    "    print(\"It is an even number\")\n",
    "else:\n",
    "    print(\"It is an odd number\")"
   ]
  },
  {
   "cell_type": "code",
   "execution_count": 12,
   "id": "8847fc80-308e-40e9-8308-30bdaa4df123",
   "metadata": {},
   "outputs": [
    {
     "name": "stdin",
     "output_type": "stream",
     "text": [
      "Enter marks:  45\n"
     ]
    },
    {
     "name": "stdout",
     "output_type": "stream",
     "text": [
      "GRADE: F\n"
     ]
    }
   ],
   "source": [
    "##Q15\n",
    "\n",
    "marks = int(input(\"Enter marks: \"))   ## User input\n",
    "\n",
    "if marks>=90:                   ## Condition for grade A\n",
    "    print(\"GRADE: A\")\n",
    "elif marks>=75:                 ## Condition for grade B\n",
    "    print(\"GRADE: B\")\n",
    "elif marks>=50:                 ## Condition for grade c\n",
    "    print(\"GRADE: C\")\n",
    "else:\n",
    "    print(\"GRADE: F\")           ##Prints F means fail if marks less than 50"
   ]
  },
  {
   "cell_type": "code",
   "execution_count": 3,
   "id": "2ae08f13-6e1f-4748-a186-4578ed4950b5",
   "metadata": {},
   "outputs": [
    {
     "name": "stdout",
     "output_type": "stream",
     "text": [
      "The largest number is 5.\n"
     ]
    }
   ],
   "source": [
    "## Q18\n",
    "\n",
    "def find_largest(numbers):\n",
    "    return max(numbers)\n",
    "\n",
    "# Example usage\n",
    "numbers = [1, 2, 3, 4, 5]\n",
    "largest = find_largest(numbers)\n",
    "\n",
    "print(f\"The largest number is {largest}.\")\n"
   ]
  },
  {
   "cell_type": "code",
   "execution_count": 26,
   "id": "03f69e5c-dd60-40d1-8483-89f4648e4fa3",
   "metadata": {},
   "outputs": [
    {
     "name": "stdout",
     "output_type": "stream",
     "text": [
      "I am an animal.\n",
      "I am a dog.\n"
     ]
    }
   ],
   "source": [
    "## Q8\n",
    "\n",
    "class Animal:                  ## Base class Animal\n",
    "    def speak(self):           \n",
    "        print(\"I am an animal.\")\n",
    "\n",
    "class Dog(Animal):             ## Derived class Dog\n",
    "    def speak(self):\n",
    "        print(\"I am a dog.\")\n",
    "\n",
    "animal = Animal()              ## Create instances of the classes\n",
    "dog = Dog()\n",
    "\n",
    "# Call the speak method for both instances\n",
    "animal.speak()  # Output: I am an animal.\n",
    "dog.speak()     # Output: I am a dog.\n"
   ]
  },
  {
   "cell_type": "code",
   "execution_count": 27,
   "id": "33e043c0-c52f-4390-9e14-995727127c41",
   "metadata": {},
   "outputs": [
    {
     "name": "stdout",
     "output_type": "stream",
     "text": [
      "1\n",
      "2\n",
      "3\n",
      "4\n",
      "5\n",
      "6\n",
      "7\n",
      "8\n",
      "9\n",
      "10\n"
     ]
    }
   ],
   "source": [
    "## Q10\n",
    "\n",
    "for num in range(1,11):      ## Condition for 1 to 10 \n",
    "    print(num)"
   ]
  },
  {
   "cell_type": "markdown",
   "id": "86130891-2725-4796-8cba-ebaaf9eb067a",
   "metadata": {},
   "source": [
    "### Numpy Questions"
   ]
  },
  {
   "cell_type": "code",
   "execution_count": 36,
   "id": "424f8255-162a-451e-beea-b2637c49c528",
   "metadata": {},
   "outputs": [
    {
     "name": "stdout",
     "output_type": "stream",
     "text": [
      "[[0. 0. 0. 0.]\n",
      " [0. 0. 0. 0.]\n",
      " [0. 0. 0. 0.]]\n"
     ]
    }
   ],
   "source": [
    "## Q1\n",
    "\n",
    "import numpy as np       ## Importing the library\n",
    "\n",
    "arr = np.zeros([3,4])    ## creating an array shape = [Row, Columns]\n",
    "print(arr)               ## Output"
   ]
  },
  {
   "cell_type": "code",
   "execution_count": 37,
   "id": "bae4c10b-4de3-438f-ab4c-10154062d424",
   "metadata": {},
   "outputs": [
    {
     "name": "stdout",
     "output_type": "stream",
     "text": [
      "[[0. 0. 0. 0. 0.]\n",
      " [0. 0. 0. 0. 0.]]\n"
     ]
    }
   ],
   "source": [
    "## Q2\n",
    "\n",
    "import numpy as np       ## Importing the library\n",
    "\n",
    "arr = np.zeros([2,5])    ## craeting array Shape = [Row, Column]\n",
    "print(arr)               ## Output"
   ]
  },
  {
   "cell_type": "code",
   "execution_count": 40,
   "id": "6bd360e6-a34a-4816-9c60-d4f99fc76c1e",
   "metadata": {},
   "outputs": [
    {
     "name": "stdout",
     "output_type": "stream",
     "text": [
      "[[ 1  2  3  4  5]\n",
      " [ 6  7  8  9 10]]\n"
     ]
    }
   ],
   "source": [
    "## Q3\n",
    "\n",
    "import numpy as np\n",
    "\n",
    "matrix = np.arange(1,11).reshape(2,5)    ## arange() 1 to 10 reshape() matrix shape that is 3x3\n",
    "print(matrix)                           ## Output"
   ]
  },
  {
   "cell_type": "code",
   "execution_count": 42,
   "id": "334109de-0445-41aa-b088-abe31aef404d",
   "metadata": {},
   "outputs": [
    {
     "name": "stdout",
     "output_type": "stream",
     "text": [
      "[1. 2. 3. 4.]\n"
     ]
    }
   ],
   "source": [
    "## Q6\n",
    "\n",
    "import numpy as np\n",
    "\n",
    "array = np.array([1, 4, 9, 16])   ## Creating an array\n",
    "sqrt_array = np.sqrt(array)       ## Taking squareroot of the array\n",
    "\n",
    "print(sqrt_array)                 ## Output"
   ]
  },
  {
   "cell_type": "code",
   "execution_count": 44,
   "id": "25aa27dc-c0f1-423e-a959-b914c1103242",
   "metadata": {},
   "outputs": [
    {
     "name": "stdout",
     "output_type": "stream",
     "text": [
      "1\n"
     ]
    }
   ],
   "source": [
    "## Q8\n",
    "\n",
    "import numpy as np\n",
    "\n",
    "array = np.array([1, 5, 9, 3, 6])     ## Creating an array\n",
    "minimum_num = np.min(array)           ## Taking minimu values of numbers\n",
    "print(minimum_num)                    ## Output"
   ]
  },
  {
   "cell_type": "code",
   "execution_count": 45,
   "id": "413fe999-ad89-4dc3-8310-68145fdc026c",
   "metadata": {},
   "outputs": [
    {
     "name": "stdout",
     "output_type": "stream",
     "text": [
      "9\n"
     ]
    }
   ],
   "source": [
    "## Q9\n",
    "\n",
    "import numpy as np\n",
    "\n",
    "array = np.array([1, 5, 9, 3, 6])     ## Creating an array\n",
    "maximum_num = np.max(array)           ## Taking maximum value of numbers\n",
    "print(maximum_num)  "
   ]
  },
  {
   "cell_type": "code",
   "execution_count": 46,
   "id": "d5e38e20-864c-475f-966c-c56bea3dbee4",
   "metadata": {},
   "outputs": [
    {
     "name": "stdout",
     "output_type": "stream",
     "text": [
      "20\n"
     ]
    }
   ],
   "source": [
    "## Q7\n",
    "\n",
    "import numpy as np\n",
    "\n",
    "array = np.array([2, 3, 4, 5, 6])\n",
    "sum_numbers = np.sum(array)         ## Taking sum of the array\n",
    "print(sum_numbers)"
   ]
  },
  {
   "cell_type": "code",
   "execution_count": 49,
   "id": "296f288c-a037-4185-8cd1-825ed5b168d9",
   "metadata": {},
   "outputs": [
    {
     "name": "stdout",
     "output_type": "stream",
     "text": [
      "[2. 3. 4. 5.]\n"
     ]
    }
   ],
   "source": [
    "## Q10\n",
    "\n",
    "import numpy as np\n",
    "\n",
    "array = np.array([1.2, 2.5, 3.7, 4.9])\n",
    "Round_off = np.ceil(array)            ## This method prints nearest value\n",
    "print(Round_off)"
   ]
  },
  {
   "cell_type": "code",
   "execution_count": 51,
   "id": "ea902642-c1b9-4408-be13-b1f247cd8be7",
   "metadata": {},
   "outputs": [
    {
     "name": "stdout",
     "output_type": "stream",
     "text": [
      "[10 33 12 50 13]\n"
     ]
    }
   ],
   "source": [
    "## Q11\n",
    "\n",
    "import numpy as np\n",
    "random_integers = np.random.randint(10, 51, size=5)  ## The function mentioned prints random numbers from that range.\n",
    "                                                      ## Size represents number of elements you want\n",
    "print(random_integers)"
   ]
  },
  {
   "cell_type": "code",
   "execution_count": 53,
   "id": "9a3a9b68-cd91-447c-9f83-a39a9915b329",
   "metadata": {},
   "outputs": [
    {
     "name": "stdout",
     "output_type": "stream",
     "text": [
      "[10 20]\n"
     ]
    }
   ],
   "source": [
    "## Q20\n",
    "\n",
    "import numpy as np\n",
    "\n",
    "array = np.array([10, 20, 30, 40, 50])\n",
    "sliced_array = array[:2]                 ## Slicing the starting two elements\n",
    "\n",
    "print(sliced_array)"
   ]
  },
  {
   "cell_type": "code",
   "execution_count": null,
   "id": "a69ab43d-5116-41d0-ab7f-7d02cc006918",
   "metadata": {},
   "outputs": [],
   "source": []
  }
 ],
 "metadata": {
  "kernelspec": {
   "display_name": "Python 3 (ipykernel)",
   "language": "python",
   "name": "python3"
  },
  "language_info": {
   "codemirror_mode": {
    "name": "ipython",
    "version": 3
   },
   "file_extension": ".py",
   "mimetype": "text/x-python",
   "name": "python",
   "nbconvert_exporter": "python",
   "pygments_lexer": "ipython3",
   "version": "3.12.7"
  }
 },
 "nbformat": 4,
 "nbformat_minor": 5
}
