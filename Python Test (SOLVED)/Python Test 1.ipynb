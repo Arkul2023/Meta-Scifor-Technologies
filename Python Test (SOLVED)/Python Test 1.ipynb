{
 "cells": [
  {
   "cell_type": "code",
   "execution_count": 1,
   "id": "16fadf91",
   "metadata": {},
   "outputs": [
    {
     "name": "stdout",
     "output_type": "stream",
     "text": [
      "153.86\n"
     ]
    }
   ],
   "source": [
    "## Q1\n",
    "r = 7\n",
    "area_circle = 3.14*r*r\n",
    "print(area_circle)"
   ]
  },
  {
   "cell_type": "code",
   "execution_count": 2,
   "id": "a3840b81",
   "metadata": {},
   "outputs": [
    {
     "name": "stdout",
     "output_type": "stream",
     "text": [
      "10\n"
     ]
    }
   ],
   "source": [
    "## Q2\n",
    "print(2*3+4) ## first multication happens then addition hence answer 10"
   ]
  },
  {
   "cell_type": "code",
   "execution_count": 3,
   "id": "51bbce13",
   "metadata": {},
   "outputs": [
    {
     "name": "stdout",
     "output_type": "stream",
     "text": [
      "20.0\n"
     ]
    }
   ],
   "source": [
    "## Q3\n",
    "a = 8/2\n",
    "b = 3+2\n",
    "print(a*b) ## a gives answer 4 and b gives 5 hence multiplication gives 20"
   ]
  },
  {
   "cell_type": "code",
   "execution_count": 4,
   "id": "e40cfb91",
   "metadata": {},
   "outputs": [
    {
     "name": "stdout",
     "output_type": "stream",
     "text": [
      "3\n"
     ]
    }
   ],
   "source": [
    "## Q4\n",
    "print(15%4) ## % is Mod where it gives you remainder of the two numbers when divided"
   ]
  },
  {
   "cell_type": "code",
   "execution_count": 5,
   "id": "500c9849",
   "metadata": {},
   "outputs": [
    {
     "name": "stdout",
     "output_type": "stream",
     "text": [
      "37.77777777777778\n"
     ]
    }
   ],
   "source": [
    "## Q5\n",
    "F = 100\n",
    "a = (F-32)\n",
    "b = 5/9\n",
    "C = a*b ## Combining Variables a and b it follows the given formula. Hence combining the two gives the answer\n",
    "print(C)"
   ]
  },
  {
   "cell_type": "code",
   "execution_count": 6,
   "id": "eb894fe6",
   "metadata": {},
   "outputs": [
    {
     "name": "stdout",
     "output_type": "stream",
     "text": [
      "11\n"
     ]
    }
   ],
   "source": [
    "## Q6\n",
    "## 10 // 3 + 2 ** 3\n",
    "print(10//3+2**3) ## It follows the BODMAS rule first division, then exponent and then in final addition hence answer 11"
   ]
  },
  {
   "cell_type": "code",
   "execution_count": 8,
   "id": "54f89067",
   "metadata": {},
   "outputs": [],
   "source": [
    "## Q7  5 == 5 and 4 < 6\n",
    "## The result will print true because as we use 'and' operator both the conditions need to be satisfied.\n",
    "## And if one the condition is not satisfying then it shifts to the next condition or print false.\n",
    "\n",
    "## Hence it will print True in this condition."
   ]
  },
  {
   "cell_type": "code",
   "execution_count": 9,
   "id": "1461db67",
   "metadata": {},
   "outputs": [],
   "source": [
    "## Q8  not (4 > 5 or 3 == 3)\n",
    "\n",
    "##The or operator evaluates to True if at least one of the conditions is True. So, 4 > 5 or 3 == 3 is True\n",
    "\n",
    "##The not operator negates the result. Since (4 > 5 or 3 == 3) is True, applying not makes the entire expression False."
   ]
  },
  {
   "cell_type": "code",
   "execution_count": 11,
   "id": "b7ddcd9b",
   "metadata": {},
   "outputs": [
    {
     "name": "stdout",
     "output_type": "stream",
     "text": [
      "The number is Even and not odd\n"
     ]
    }
   ],
   "source": [
    "## Q9\n",
    "x = 4\n",
    "if x%2 == 0:  ## Which checks whether the number is even or not.\n",
    "    print(\"The number is Even and not odd\")\n",
    "else:\n",
    "    print(\"The number is Odd\")"
   ]
  },
  {
   "cell_type": "markdown",
   "id": "d424a1ac",
   "metadata": {},
   "source": [
    "## Data Types"
   ]
  },
  {
   "cell_type": "code",
   "execution_count": 12,
   "id": "252be47a",
   "metadata": {},
   "outputs": [
    {
     "name": "stdout",
     "output_type": "stream",
     "text": [
      "<class 'float'>\n"
     ]
    }
   ],
   "source": [
    "## Q10\n",
    "a = 5.0\n",
    "print(type(a)) ## type tells us the data type of the element"
   ]
  },
  {
   "cell_type": "code",
   "execution_count": 16,
   "id": "6120ea0d",
   "metadata": {},
   "outputs": [
    {
     "name": "stdout",
     "output_type": "stream",
     "text": [
      "<class 'int'>\n",
      "42\n",
      "<class 'str'>\n"
     ]
    }
   ],
   "source": [
    "## Q11\n",
    "a = 42\n",
    "print(type(a))\n",
    "print(str(a))\n",
    "a = str(42) ## This converts the integer to string\n",
    "print(type(a))"
   ]
  },
  {
   "cell_type": "code",
   "execution_count": 17,
   "id": "ed480acc",
   "metadata": {},
   "outputs": [
    {
     "name": "stdout",
     "output_type": "stream",
     "text": [
      "3.14is pi\n"
     ]
    }
   ],
   "source": [
    "## Q12\n",
    "## str(3.14) + ' is pi'\n",
    "print(str(3.14)+'is pi') ## as both the elemnts are string it will just combine the two elements##"
   ]
  },
  {
   "cell_type": "code",
   "execution_count": 18,
   "id": "cfae819d",
   "metadata": {},
   "outputs": [
    {
     "name": "stdout",
     "output_type": "stream",
     "text": [
      "7.5\n",
      "<class 'float'>\n"
     ]
    }
   ],
   "source": [
    "## Q13\n",
    "a = 4\n",
    "b = 3.5\n",
    "c = a+b\n",
    "print(c)\n",
    "print(type(c)) ## Since b is float and a is not 4 is indirectly 4.0 hence if one the number is float the output will also be float"
   ]
  },
  {
   "cell_type": "code",
   "execution_count": 70,
   "id": "6b3a9027",
   "metadata": {},
   "outputs": [
    {
     "name": "stdout",
     "output_type": "stream",
     "text": [
      "Enter a number: 34\n",
      "The integer value is: 34\n"
     ]
    }
   ],
   "source": [
    "## Q14\n",
    "user_input = input(\"Enter a number: \")\n",
    "number = int(user_input)\n",
    "print(\"The integer value is:\", number)"
   ]
  },
  {
   "cell_type": "code",
   "execution_count": 20,
   "id": "dc459555",
   "metadata": {},
   "outputs": [
    {
     "name": "stdout",
     "output_type": "stream",
     "text": [
      "<class 'str'>\n",
      "<class 'int'>\n",
      "<class 'float'>\n"
     ]
    }
   ],
   "source": [
    "## Q15\n",
    "\n",
    "a = 'hghg'\n",
    "b = 56\n",
    "c = 34.4\n",
    "print(type(a))\n",
    "print(type(b)) \n",
    "print(type(c))  ## Using type we find the datatype of any variable"
   ]
  },
  {
   "cell_type": "code",
   "execution_count": 21,
   "id": "e8c16761",
   "metadata": {},
   "outputs": [
    {
     "name": "stdout",
     "output_type": "stream",
     "text": [
      "<class 'str'>\n"
     ]
    }
   ],
   "source": [
    "## Q16\n",
    "my_name = 'Aryan'\n",
    "print(type(my_name)) ## You need to write a string in Single or double cots "
   ]
  },
  {
   "cell_type": "markdown",
   "id": "5e4f6d57",
   "metadata": {},
   "source": [
    "## Data Structures - Lists, Tuples, Sets, and Dictionaries"
   ]
  },
  {
   "cell_type": "code",
   "execution_count": 22,
   "id": "9f5e2189",
   "metadata": {},
   "outputs": [
    {
     "name": "stdout",
     "output_type": "stream",
     "text": [
      "[]\n"
     ]
    }
   ],
   "source": [
    "## Q17\n",
    "a = []\n",
    "print(a) ## We can create empty list using square brackets []"
   ]
  },
  {
   "cell_type": "code",
   "execution_count": 24,
   "id": "fe0c370c",
   "metadata": {},
   "outputs": [
    {
     "name": "stdout",
     "output_type": "stream",
     "text": [
      "[1, 2, 3]\n",
      "[1, 2, 3, 42]\n"
     ]
    }
   ],
   "source": [
    "## Q18\n",
    "a = [1, 2, 3]\n",
    "print(a)\n",
    "a.append(42)\n",
    "print(a)      ## Using append function we can add new elemnts which fills at the end of the list"
   ]
  },
  {
   "cell_type": "code",
   "execution_count": 25,
   "id": "fda051fa",
   "metadata": {},
   "outputs": [
    {
     "name": "stdout",
     "output_type": "stream",
     "text": [
      "30\n"
     ]
    }
   ],
   "source": [
    "## Q19\n",
    "my_list = [10, 20, 30, 40]\n",
    "\n",
    "print(my_list[2])   ## We access it through indexex at which the element is located"
   ]
  },
  {
   "cell_type": "code",
   "execution_count": 26,
   "id": "152508df",
   "metadata": {},
   "outputs": [],
   "source": [
    "## Q20\n",
    "\n",
    "## List is a mutable data type while Tuple is an immutable data type"
   ]
  },
  {
   "cell_type": "code",
   "execution_count": 30,
   "id": "59a324a5",
   "metadata": {},
   "outputs": [
    {
     "name": "stdout",
     "output_type": "stream",
     "text": [
      "{1, 2, 3}\n"
     ]
    }
   ],
   "source": [
    "## Q21\n",
    "set = {1, 2, 3}\n",
    "print(set)      ## We need to use curly braces {} to write set"
   ]
  },
  {
   "cell_type": "code",
   "execution_count": 31,
   "id": "9212731d",
   "metadata": {},
   "outputs": [
    {
     "name": "stdout",
     "output_type": "stream",
     "text": [
      "{1, 3}\n"
     ]
    }
   ],
   "source": [
    "## Q22\n",
    "\n",
    "my_set = {1, 2, 3}\n",
    "my_set.remove(2)\n",
    "print(my_set)    ## We need to specify the element that should be removed"
   ]
  },
  {
   "cell_type": "code",
   "execution_count": 32,
   "id": "8f005a06",
   "metadata": {},
   "outputs": [
    {
     "name": "stdout",
     "output_type": "stream",
     "text": [
      "Alice\n"
     ]
    }
   ],
   "source": [
    "## Q23\n",
    "\n",
    "person = {'name': 'Alice', 'age': 25}\n",
    "\n",
    "print(person['name'])     ## We need to write the key in square brackets of the the particular element"
   ]
  },
  {
   "cell_type": "code",
   "execution_count": 34,
   "id": "4215d7ca",
   "metadata": {},
   "outputs": [
    {
     "name": "stdout",
     "output_type": "stream",
     "text": [
      "{'City1': 'Pune', 'City3': 'Banglore'}\n"
     ]
    }
   ],
   "source": [
    "## Q24\n",
    "\n",
    "my_dict = {'City1': 'Pune', 'City2': 'Mumbai', 'City3': 'Banglore'}\n",
    "\n",
    "del my_dict['City2']\n",
    "\n",
    "print(my_dict)   ## We can use del keyword for it"
   ]
  },
  {
   "cell_type": "code",
   "execution_count": 35,
   "id": "59dc609c",
   "metadata": {},
   "outputs": [
    {
     "name": "stdout",
     "output_type": "stream",
     "text": [
      "10\n"
     ]
    }
   ],
   "source": [
    "## Q25\n",
    "\n",
    "my_tuple = (5, 10, 15)\n",
    "\n",
    "print(my_tuple[1])  ## We need to specify the index of the particular element in square brackets"
   ]
  },
  {
   "cell_type": "markdown",
   "id": "f0c9ce58",
   "metadata": {},
   "source": [
    "## Methods of Data Structures"
   ]
  },
  {
   "cell_type": "code",
   "execution_count": 36,
   "id": "e87c4af6",
   "metadata": {},
   "outputs": [
    {
     "name": "stdout",
     "output_type": "stream",
     "text": [
      "5\n"
     ]
    }
   ],
   "source": [
    "## Q26\n",
    "\n",
    "numbers = [1, 2, 3, 4, 5]\n",
    "print(len(numbers))       ## By usinfg len() function we find the length of the list"
   ]
  },
  {
   "cell_type": "code",
   "execution_count": 43,
   "id": "063146bc",
   "metadata": {},
   "outputs": [
    {
     "name": "stdout",
     "output_type": "stream",
     "text": [
      "[1, 2, 8, 3, 4, 5]\n"
     ]
    }
   ],
   "source": [
    "## Q27\n",
    "\n",
    "list1 = [1, 2, 3, 4, 5]\n",
    "list1.insert(2, 8)       ## Use insert method and 2 indicates the position of index and 8 is the element\n",
    "print(list1)   #Hence the Output [1, 2, 8, 3, 4, 5]"
   ]
  },
  {
   "cell_type": "code",
   "execution_count": 38,
   "id": "65c14a11",
   "metadata": {},
   "outputs": [
    {
     "name": "stdout",
     "output_type": "stream",
     "text": [
      "[1, 2, 3, 4]\n"
     ]
    }
   ],
   "source": [
    "## Q28\n",
    "\n",
    "list1 = [4, 1, 3, 2]\n",
    "\n",
    "list1.sort()   ## using sort function we sort the elements in a list\n",
    "\n",
    "print(list1) "
   ]
  },
  {
   "cell_type": "code",
   "execution_count": 46,
   "id": "185d4036",
   "metadata": {},
   "outputs": [
    {
     "name": "stdout",
     "output_type": "stream",
     "text": [
      "True\n"
     ]
    }
   ],
   "source": [
    "## Q29\n",
    "my_list = [1, 2, 3, 4, 5]\n",
    "\n",
    "print(5 in my_list)  ## Checks whether 5 is in the list\n",
    "                     ## Output: True"
   ]
  },
  {
   "cell_type": "code",
   "execution_count": 45,
   "id": "f2c2bcff",
   "metadata": {},
   "outputs": [
    {
     "name": "stdout",
     "output_type": "stream",
     "text": [
      "[1, 2, 3, 4, 5, 6]\n"
     ]
    }
   ],
   "source": [
    "## Q30\n",
    "\n",
    "list1 = [1, 2, 3]\n",
    "list2 = [4, 5, 6]\n",
    "\n",
    "list1.extend(list2)  ## We use extend method to combine two lists\n",
    "print(result)  "
   ]
  },
  {
   "cell_type": "markdown",
   "id": "e9c8d03d",
   "metadata": {},
   "source": [
    "## Branching"
   ]
  },
  {
   "cell_type": "code",
   "execution_count": 50,
   "id": "82005853",
   "metadata": {},
   "outputs": [
    {
     "name": "stdout",
     "output_type": "stream",
     "text": [
      "The number is Positive\n"
     ]
    }
   ],
   "source": [
    "## Q31, Q32, Q33\n",
    "\n",
    "x = 30\n",
    "if x<0:\n",
    "    print(\"The number is Negative\")\n",
    "elif x>0:\n",
    "    print(\"The number is Positive\")\n",
    "else:\n",
    "    print(\"Error\")"
   ]
  },
  {
   "cell_type": "code",
   "execution_count": 51,
   "id": "45defbd9",
   "metadata": {},
   "outputs": [],
   "source": [
    "## Q34\n",
    "\n",
    "result = 10 if x > 5 else 5\n"
   ]
  },
  {
   "cell_type": "code",
   "execution_count": 59,
   "id": "8f2b38d4",
   "metadata": {},
   "outputs": [
    {
     "name": "stdout",
     "output_type": "stream",
     "text": [
      "Enter a marks: 95\n",
      "Grade: A\n"
     ]
    }
   ],
   "source": [
    "## Q35\n",
    "\n",
    "x = int(input(\"Enter a marks: \"))\n",
    "\n",
    "if x>=90:\n",
    "    print(\"Grade: A\")\n",
    "elif x>70 or x>80:\n",
    "    print(\"Grade B\")\n",
    "elif x == 35:\n",
    "    print(\"Grade P\")\n",
    "elif x>35:\n",
    "    print(\"Grade C\")\n",
    "else:\n",
    "    print(\"Fail\")"
   ]
  },
  {
   "cell_type": "code",
   "execution_count": 58,
   "id": "1a25d9fc",
   "metadata": {},
   "outputs": [
    {
     "name": "stdout",
     "output_type": "stream",
     "text": [
      "True\n"
     ]
    }
   ],
   "source": [
    "## Q36\n",
    "\n",
    "fruits = ['apple', 'banana', 'cherry'] \n",
    "\n",
    "print('banana' in fruits)"
   ]
  },
  {
   "cell_type": "code",
   "execution_count": 63,
   "id": "f22132be",
   "metadata": {},
   "outputs": [
    {
     "name": "stdout",
     "output_type": "stream",
     "text": [
      "Adult Male\n"
     ]
    }
   ],
   "source": [
    "## Q37\n",
    "\n",
    "age = 23\n",
    "gender = 'male'\n",
    "\n",
    "if age > 18:\n",
    "    if gender == 'male':\n",
    "        print('Adult Male')"
   ]
  },
  {
   "cell_type": "code",
   "execution_count": 65,
   "id": "7ec8ec5e",
   "metadata": {},
   "outputs": [
    {
     "name": "stdout",
     "output_type": "stream",
     "text": [
      "Enter a number: 45\n",
      "The number is divisible by both 3 and 5\n"
     ]
    }
   ],
   "source": [
    "## Q38\n",
    "\n",
    "x = int(input(\"Enter a number: \"))   ## Takes input from user\n",
    "\n",
    "if x%3 == 0 and x%5 == 0:       ## Checks whether the number is dicvisible by both first\n",
    "    print(\"The number is divisible by both 3 and 5\")\n",
    "elif x%3 == 0:                  ## Checks whether divisible by 3\n",
    "    print(\"The number is divisible by 3\")\n",
    "elif x%5 == 0:                  ## Checks whether divisible by 5\n",
    "    print(\"The number is divisible by 5\")\n",
    "else:\n",
    "    print(\"The number is not divisible by 3 or 5\")\n"
   ]
  },
  {
   "cell_type": "code",
   "execution_count": 68,
   "id": "e17b1899",
   "metadata": {},
   "outputs": [
    {
     "name": "stdout",
     "output_type": "stream",
     "text": [
      "Name is provided\n"
     ]
    }
   ],
   "source": [
    "## Q39\n",
    "\n",
    "name = ['Aryan']\n",
    "if name:         ## Checks if name is not empty\n",
    "    print('Name is provided')\n",
    "else:\n",
    "    print(\"List Empty\")"
   ]
  },
  {
   "cell_type": "code",
   "execution_count": 69,
   "id": "888ed8cb",
   "metadata": {},
   "outputs": [
    {
     "name": "stdout",
     "output_type": "stream",
     "text": [
      "Enter age: 23\n",
      "Age is within the range 18 to 25\n"
     ]
    }
   ],
   "source": [
    "## Q40\n",
    "\n",
    "age = int(input(\"Enter age: \"))  ##Takes User input\n",
    "if 18 <= age <= 25:              ## Checks whether the range is in the given range\n",
    "    print(\"Age is within the range 18 to 25\")\n",
    "else:\n",
    "    print(\"Age is not in the given range 18 to 25\")"
   ]
  },
  {
   "cell_type": "code",
   "execution_count": null,
   "id": "8d6e7340",
   "metadata": {},
   "outputs": [],
   "source": []
  }
 ],
 "metadata": {
  "kernelspec": {
   "display_name": "Python 3 (ipykernel)",
   "language": "python",
   "name": "python3"
  },
  "language_info": {
   "codemirror_mode": {
    "name": "ipython",
    "version": 3
   },
   "file_extension": ".py",
   "mimetype": "text/x-python",
   "name": "python",
   "nbconvert_exporter": "python",
   "pygments_lexer": "ipython3",
   "version": "3.11.5"
  }
 },
 "nbformat": 4,
 "nbformat_minor": 5
}
