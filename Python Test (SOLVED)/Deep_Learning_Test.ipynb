{
 "cells": [
  {
   "cell_type": "markdown",
   "id": "993124db-7e73-4f72-bc71-2c9624a52691",
   "metadata": {},
   "source": [
    "Q1\n",
    "b] Multi-Layer-Perceptron"
   ]
  },
  {
   "cell_type": "markdown",
   "id": "20051109-4728-423f-a08b-b7a49bae0f66",
   "metadata": {},
   "source": [
    "Q2\n",
    "b] Feedforward Neural Network"
   ]
  },
  {
   "cell_type": "markdown",
   "id": "cc8d9538-8d78-4b0a-bbba-e210df3c9406",
   "metadata": {},
   "source": [
    "Q3\n",
    "b] To introduce non-linearity"
   ]
  },
  {
   "cell_type": "markdown",
   "id": "0322dead-1ca9-4bab-8ed4-7c7604df7216",
   "metadata": {},
   "source": [
    "Q4\n",
    "d] All of the above"
   ]
  },
  {
   "cell_type": "markdown",
   "id": "3def307b-f19a-42d1-a671-bbec8431d16e",
   "metadata": {},
   "source": [
    "Q5\n",
    "c] Accepts raw input data"
   ]
  },
  {
   "cell_type": "markdown",
   "id": "19af0021-071b-42b5-80fa-5003e4b71ee6",
   "metadata": {},
   "source": [
    "Q6\n",
    "d] Backpropagation"
   ]
  },
  {
   "cell_type": "markdown",
   "id": "a9763348-32cb-44da-8e28-194e62eca710",
   "metadata": {},
   "source": [
    "Q7\n",
    "b] Connections between neurons"
   ]
  },
  {
   "cell_type": "markdown",
   "id": "48315347-555d-4fea-855e-6b4b79cb41b0",
   "metadata": {},
   "source": [
    "Q8\n",
    "c] Providing final predictions"
   ]
  },
  {
   "cell_type": "markdown",
   "id": "424b4906-4498-45d4-819b-85e5dda2d803",
   "metadata": {},
   "source": [
    "Q9\n",
    "d] All of the above"
   ]
  },
  {
   "cell_type": "markdown",
   "id": "588a1d66-4087-42e7-9be7-7bf6c174aaf0",
   "metadata": {},
   "source": [
    "Q10\n",
    "d] Lack of generalization"
   ]
  },
  {
   "cell_type": "markdown",
   "id": "ebc6e3d2-b25d-4616-ba6e-c87b2345c716",
   "metadata": {},
   "source": [
    "Q11\n",
    "b]  A computational unit performing weighted sums and activation"
   ]
  },
  {
   "cell_type": "markdown",
   "id": "ff5e293e-c46f-49ea-90aa-c584b72b380c",
   "metadata": {},
   "source": [
    "Q12\n",
    "a] Randomly"
   ]
  },
  {
   "cell_type": "markdown",
   "id": "edd744a0-f951-4073-aeef-d2b36451d7e7",
   "metadata": {},
   "source": [
    "Q13\n",
    "c] By applying regularization (e.g., dropout, L2 norm)"
   ]
  },
  {
   "cell_type": "markdown",
   "id": "9cdc1839-e6ee-4593-b179-732613d4e7e5",
   "metadata": {},
   "source": [
    "Q14\n",
    "b] To learn features from the input data"
   ]
  },
  {
   "cell_type": "markdown",
   "id": "30bf2f62-5cc6-4fd7-92b5-ed8405dd11e2",
   "metadata": {},
   "source": [
    "Q15\n",
    "b] Outputs the same value as the input if it's positive; otherwise 0"
   ]
  },
  {
   "cell_type": "markdown",
   "id": "1bbd0fcf-21fe-4ca8-85a6-e981985dfb0e",
   "metadata": {},
   "source": [
    "Q16\n",
    "b] Probabilities summing to 1"
   ]
  },
  {
   "cell_type": "markdown",
   "id": "86e9b4bc-bd0e-4ba9-913b-2be332676d4c",
   "metadata": {},
   "source": [
    "Q17\n",
    "b] To adjust the step size for weight updates"
   ]
  },
  {
   "cell_type": "markdown",
   "id": "bf3df4d5-8f11-4585-81c9-623ef8ffef34",
   "metadata": {},
   "source": [
    "Q18\n",
    "b] It measures the difference between predicted and true outputs"
   ]
  },
  {
   "cell_type": "markdown",
   "id": "1c9f1a0f-0de7-4ebb-94d0-c95a83019d0c",
   "metadata": {},
   "source": [
    "Q19\n",
    "b] Cross-Entropy Loss"
   ]
  },
  {
   "cell_type": "markdown",
   "id": "c804477c-eb08-4d4b-b831-6d3974664bcd",
   "metadata": {},
   "source": [
    "Q20\n",
    "a] MLP has multiple layers of neurons"
   ]
  },
  {
   "cell_type": "code",
   "execution_count": 1,
   "id": "573458b2-8d21-4c3b-ab1b-6e5fc6ab8248",
   "metadata": {},
   "outputs": [],
   "source": [
    "#import necessory libraries\n",
    "import tensorflow as tf\n",
    "from tensorflow.keras import layers, models\n",
    "from tensorflow.keras.datasets import mnist\n",
    "from tensorflow.keras.utils import to_categorical"
   ]
  },
  {
   "cell_type": "code",
   "execution_count": null,
   "id": "2ab11568-0c61-42f2-9ba5-a9216a112e6e",
   "metadata": {},
   "outputs": [],
   "source": [
    "# 1. Load the MNIST dataset"
   ]
  },
  {
   "cell_type": "code",
   "execution_count": 2,
   "id": "147268e0-3a5b-4597-95bd-81c23f0ffa0e",
   "metadata": {},
   "outputs": [
    {
     "name": "stdout",
     "output_type": "stream",
     "text": [
      "Downloading data from https://storage.googleapis.com/tensorflow/tf-keras-datasets/mnist.npz\n",
      "\u001b[1m11490434/11490434\u001b[0m \u001b[32m━━━━━━━━━━━━━━━━━━━━\u001b[0m\u001b[37m\u001b[0m \u001b[1m6s\u001b[0m 1us/step\n"
     ]
    }
   ],
   "source": [
    "(x_train, y_train), (x_test, y_test) = tf.keras.datasets.mnist.load_data()"
   ]
  },
  {
   "cell_type": "code",
   "execution_count": 3,
   "id": "f2e28419-0e67-45df-a3fc-c92c0cb4f7bb",
   "metadata": {},
   "outputs": [],
   "source": [
    "# 2. Preprocess the data: Normalize the pixel values to be between 0 and 1\n",
    "x_train, x_test = x_train / 255.0, x_test / 255.0"
   ]
  },
  {
   "cell_type": "code",
   "execution_count": 5,
   "id": "ac5647f3-174c-4e9b-be8d-e55a598bfbb9",
   "metadata": {},
   "outputs": [],
   "source": [
    "# Step 2: Define the MLP model architecture\n",
    "model = models.Sequential()\n",
    "\n",
    "# Flatten layer: Flatten the 28x28x1 images into a 1D vector of 784 values (28*28)\n",
    "model.add(layers.Flatten(input_shape=(28, 28, 1)))\n",
    "\n",
    "# First hidden layer: Dense layer with 128 neurons and ReLU activation\n",
    "model.add(layers.Dense(128, activation='tanh'))\n",
    "\n",
    "# Second hidden layer: Dense layer with 64 neurons and ReLU activation\n",
    "model.add(layers.Dense(64, activation='tanh'))\n",
    "\n",
    "# Output layer: Dense layer with 10 neurons (one for each digit) and softmax activation\n",
    "model.add(layers.Dense(10, activation='softmax'))"
   ]
  },
  {
   "cell_type": "code",
   "execution_count": 6,
   "id": "278d211d-5b7b-450b-89bc-43e11bc4ecc7",
   "metadata": {},
   "outputs": [],
   "source": [
    "# 4. Compile the model\n",
    "model.compile(optimizer='adam',loss='sparse_categorical_crossentropy',metrics=['accuracy'])"
   ]
  },
  {
   "cell_type": "code",
   "execution_count": 8,
   "id": "73fc3e06-3791-47f7-9da2-6c1e77e38960",
   "metadata": {},
   "outputs": [
    {
     "name": "stdout",
     "output_type": "stream",
     "text": [
      "Epoch 1/5\n",
      "\u001b[1m1500/1500\u001b[0m \u001b[32m━━━━━━━━━━━━━━━━━━━━\u001b[0m\u001b[37m\u001b[0m \u001b[1m4s\u001b[0m 3ms/step - accuracy: 0.9906 - loss: 0.0328 - val_accuracy: 0.9888 - val_loss: 0.0347\n",
      "Epoch 2/5\n",
      "\u001b[1m1500/1500\u001b[0m \u001b[32m━━━━━━━━━━━━━━━━━━━━\u001b[0m\u001b[37m\u001b[0m \u001b[1m3s\u001b[0m 2ms/step - accuracy: 0.9927 - loss: 0.0242 - val_accuracy: 0.9895 - val_loss: 0.0346\n",
      "Epoch 3/5\n",
      "\u001b[1m1500/1500\u001b[0m \u001b[32m━━━━━━━━━━━━━━━━━━━━\u001b[0m\u001b[37m\u001b[0m \u001b[1m4s\u001b[0m 2ms/step - accuracy: 0.9945 - loss: 0.0194 - val_accuracy: 0.9868 - val_loss: 0.0442\n",
      "Epoch 4/5\n",
      "\u001b[1m1500/1500\u001b[0m \u001b[32m━━━━━━━━━━━━━━━━━━━━\u001b[0m\u001b[37m\u001b[0m \u001b[1m4s\u001b[0m 2ms/step - accuracy: 0.9942 - loss: 0.0178 - val_accuracy: 0.9872 - val_loss: 0.0405\n",
      "Epoch 5/5\n",
      "\u001b[1m1500/1500\u001b[0m \u001b[32m━━━━━━━━━━━━━━━━━━━━\u001b[0m\u001b[37m\u001b[0m \u001b[1m5s\u001b[0m 3ms/step - accuracy: 0.9970 - loss: 0.0111 - val_accuracy: 0.9811 - val_loss: 0.0580\n"
     ]
    },
    {
     "data": {
      "text/plain": [
       "<keras.src.callbacks.history.History at 0x20f1c8989e0>"
      ]
     },
     "execution_count": 8,
     "metadata": {},
     "output_type": "execute_result"
    }
   ],
   "source": [
    "model.fit(x_train, y_train, epochs=5, batch_size=32, validation_split=0.2)"
   ]
  },
  {
   "cell_type": "code",
   "execution_count": 9,
   "id": "b97647d0-4413-447b-bce9-3d994444e5dd",
   "metadata": {},
   "outputs": [],
   "source": [
    "# Compile the model with categorical crossentropy loss, Adam optimizer, and accuracy metric\n",
    "model.compile(loss='categorical_crossentropy', optimizer='adam', metrics=['acc'])"
   ]
  },
  {
   "cell_type": "code",
   "execution_count": 13,
   "id": "85c3d4ca-3ded-4080-a984-891894095952",
   "metadata": {},
   "outputs": [
    {
     "name": "stderr",
     "output_type": "stream",
     "text": [
      "WARNING:absl:You are saving your model as an HDF5 file via `model.save()` or `keras.saving.save_model(model)`. This file format is considered legacy. We recommend using instead the native Keras format, e.g. `model.save('my_model.keras')` or `keras.saving.save_model(model, 'my_model.keras')`. \n"
     ]
    }
   ],
   "source": [
    "# 6. Save the model to a file\n",
    "model.save('mnist_model.h5')"
   ]
  },
  {
   "cell_type": "code",
   "execution_count": 14,
   "id": "dc63a28a-11e8-49a8-bee2-36d5d2e51086",
   "metadata": {},
   "outputs": [
    {
     "name": "stderr",
     "output_type": "stream",
     "text": [
      "WARNING:absl:Compiled the loaded model, but the compiled metrics have yet to be built. `model.compile_metrics` will be empty until you train or evaluate the model.\n"
     ]
    }
   ],
   "source": [
    "# 7. Reload the model\n",
    "loaded_model = tf.keras.models.load_model('mnist_model.h5')"
   ]
  },
  {
   "cell_type": "code",
   "execution_count": 15,
   "id": "002e748f-8342-4cfa-b2c2-cff0d694d300",
   "metadata": {},
   "outputs": [
    {
     "name": "stdout",
     "output_type": "stream",
     "text": [
      "\u001b[1m313/313\u001b[0m \u001b[32m━━━━━━━━━━━━━━━━━━━━\u001b[0m\u001b[37m\u001b[0m \u001b[1m0s\u001b[0m 1ms/step\n"
     ]
    }
   ],
   "source": [
    "# 8. Make predictions on the test set\n",
    "predictions = loaded_model.predict(x_test)"
   ]
  },
  {
   "cell_type": "code",
   "execution_count": 19,
   "id": "a24147b4-1918-49c9-bd36-3e716fc8d521",
   "metadata": {},
   "outputs": [],
   "source": [
    "import matplotlib.pyplot as plt\n",
    "import numpy as np"
   ]
  },
  {
   "cell_type": "code",
   "execution_count": 20,
   "id": "3090616f-38d4-4995-9192-bdf62bef5e1a",
   "metadata": {},
   "outputs": [
    {
     "data": {
      "image/png": "[encoded data removed]",
      "text/plain": [
       "<Figure size 640x480 with 1 Axes>"
      ]
     },
     "metadata": {},
     "output_type": "display_data"
    }
   ],
   "source": [
    "# 9. Display the input image and the predicted class\n",
    "sample_index = 0  # Change this index to test with other images\n",
    "plt.imshow(x_test[sample_index], cmap='gray')\n",
    "plt.title(f\"Predicted Class: {np.argmax(predictions[sample_index])}\")\n",
    "plt.show()"
   ]
  },
  {
   "cell_type": "code",
   "execution_count": 22,
   "id": "06f04fa7-edd1-41c0-b370-8432b1230d33",
   "metadata": {},
   "outputs": [
    {
     "name": "stdout",
     "output_type": "stream",
     "text": [
      "\u001b[1m1/1\u001b[0m \u001b[32m━━━━━━━━━━━━━━━━━━━━\u001b[0m\u001b[37m\u001b[0m \u001b[1m0s\u001b[0m 48ms/step\n",
      "\u001b[1m1/1\u001b[0m \u001b[32m━━━━━━━━━━━━━━━━━━━━\u001b[0m\u001b[37m\u001b[0m \u001b[1m0s\u001b[0m 49ms/step\n",
      "\u001b[1m1/1\u001b[0m \u001b[32m━━━━━━━━━━━━━━━━━━━━\u001b[0m\u001b[37m\u001b[0m \u001b[1m0s\u001b[0m 41ms/step\n",
      "\u001b[1m1/1\u001b[0m \u001b[32m━━━━━━━━━━━━━━━━━━━━\u001b[0m\u001b[37m\u001b[0m \u001b[1m0s\u001b[0m 49ms/step\n",
      "\u001b[1m1/1\u001b[0m \u001b[32m━━━━━━━━━━━━━━━━━━━━\u001b[0m\u001b[37m\u001b[0m \u001b[1m0s\u001b[0m 31ms/step\n",
      "\u001b[1m1/1\u001b[0m \u001b[32m━━━━━━━━━━━━━━━━━━━━\u001b[0m\u001b[37m\u001b[0m \u001b[1m0s\u001b[0m 41ms/step\n",
      "\u001b[1m1/1\u001b[0m \u001b[32m━━━━━━━━━━━━━━━━━━━━\u001b[0m\u001b[37m\u001b[0m \u001b[1m0s\u001b[0m 37ms/step\n",
      "\u001b[1m1/1\u001b[0m \u001b[32m━━━━━━━━━━━━━━━━━━━━\u001b[0m\u001b[37m\u001b[0m \u001b[1m0s\u001b[0m 27ms/step\n",
      "\u001b[1m1/1\u001b[0m \u001b[32m━━━━━━━━━━━━━━━━━━━━\u001b[0m\u001b[37m\u001b[0m \u001b[1m0s\u001b[0m 39ms/step\n",
      "\u001b[1m1/1\u001b[0m \u001b[32m━━━━━━━━━━━━━━━━━━━━\u001b[0m\u001b[37m\u001b[0m \u001b[1m0s\u001b[0m 45ms/step\n"
     ]
    },
    {
     "data": {
      "image/png": "[encoded data removed]",
      "text/plain": [
       "<Figure size 1000x500 with 10 Axes>"
      ]
     },
     "metadata": {},
     "output_type": "display_data"
    }
   ],
   "source": [
    "# To visualize a few predictions\n",
    "num_images = 10\n",
    "plt.figure(figsize=(10, 5))\n",
    "for i in range(num_images):\n",
    "    plt.subplot(1, num_images, i + 1)\n",
    "    plt.imshow(x_test[i], cmap='gray')\n",
    "    plt.title(f'Pred: {np.argmax(loaded_model.predict(x_test[i].reshape(1, 28, 28)))}')\n",
    "    plt.axis('off')\n",
    "plt.show()"
   ]
  },
  {
   "cell_type": "code",
   "execution_count": null,
   "id": "b17eaf08-3739-480a-b32a-7dbbc7f932b6",
   "metadata": {},
   "outputs": [],
   "source": []
  }
 ],
 "metadata": {
  "kernelspec": {
   "display_name": "Python 3 (ipykernel)",
   "language": "python",
   "name": "python3"
  },
  "language_info": {
   "codemirror_mode": {
    "name": "ipython",
    "version": 3
   },
   "file_extension": ".py",
   "mimetype": "text/x-python",
   "name": "python",
   "nbconvert_exporter": "python",
   "pygments_lexer": "ipython3",
   "version": "3.12.7"
  }
 },
 "nbformat": 4,
 "nbformat_minor": 5
}
