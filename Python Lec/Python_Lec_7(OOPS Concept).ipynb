{
 "cells": [
  {
   "cell_type": "code",
   "execution_count": 7,
   "id": "d1ac1786-8213-45fb-9f76-fb6afbb5fc36",
   "metadata": {},
   "outputs": [],
   "source": [
    "class Account_Sign_in:\n",
    "    def __init__(self,name,last_name,email,password,phone_number):\n",
    "        self.name = name\n",
    "        self.last_name = last_name\n",
    "        self.email = email\n",
    "        self.password = password\n",
    "        self.phone_number = phone_number"
   ]
  },
  {
   "cell_type": "code",
   "execution_count": 10,
   "id": "13ba6b41-6695-4510-848f-7010ff0ec27a",
   "metadata": {},
   "outputs": [],
   "source": [
    "obj = Account_Sign_in(\"Aryan\",\"Kulkarni\",\"abc@def.com\",\"fg545%\",\"9124637445\")    "
   ]
  },
  {
   "cell_type": "code",
   "execution_count": 36,
   "id": "9eb5382c-3e0a-40bf-83fc-0a3c027bb558",
   "metadata": {},
   "outputs": [],
   "source": [
    "## We have created a backend for account sign_in for a E-Learning platform."
   ]
  },
  {
   "cell_type": "code",
   "execution_count": 12,
   "id": "68f75c80-8a27-4deb-848f-dd4828994ce0",
   "metadata": {},
   "outputs": [
    {
     "name": "stdin",
     "output_type": "stream",
     "text": [
      "Enter Your Name  Aryan\n",
      "Enter Your Last Name  Kulkarni\n",
      "Enter Your email  abc@def.com\n",
      "Enter Your Password  123\n",
      "Enter Your Number  1234567890\n"
     ]
    }
   ],
   "source": [
    "class Account_Sign_in:    #This is a class\n",
    "    def __init__(self,name=input(\"Enter Your Name \"),\n",
    "                last_name=input(\"Enter Your Last Name \"),\n",
    "                email=input(\"Enter Your email \"),\n",
    "                password=input(\"Enter Your Password \"),\n",
    "                phone_number=int(input(\"Enter Your Number \"))):\n",
    "        self.name=name    #Data Initialization\n",
    "        self.last_name=last_name\n",
    "        self.email=email\n",
    "        self.password=password\n",
    "        self.phone_number=phone_number\n",
    "    def login(self):    #Method\n",
    "        while True:\n",
    "            signin=input(\"Enter Your email \")\n",
    "            password=input(\"Enter Your Password \")\n",
    "            if signin ==self.email and password==self.password:\n",
    "                print(\"Logged in Sucessfully\")\n",
    "                break\n",
    "            else:\n",
    "                print(\"Entered Invalid emailid or password , Please Enter Correct  one\")\n",
    "                continue"
   ]
  },
  {
   "cell_type": "code",
   "execution_count": 13,
   "id": "07f9f379-8e22-451b-9aaa-dc92f52b52e6",
   "metadata": {},
   "outputs": [],
   "source": [
    "c=Account_Sign_in()"
   ]
  },
  {
   "cell_type": "code",
   "execution_count": 15,
   "id": "8dac7e7f-d7d9-40cc-88ad-3351c90efa54",
   "metadata": {},
   "outputs": [
    {
     "name": "stdin",
     "output_type": "stream",
     "text": [
      "Enter Your email  abc@def.com\n",
      "Enter Your Password  123\n"
     ]
    },
    {
     "name": "stdout",
     "output_type": "stream",
     "text": [
      "Logged in Sucessfully\n"
     ]
    }
   ],
   "source": [
    "c.login()"
   ]
  },
  {
   "cell_type": "code",
   "execution_count": 37,
   "id": "d98e7706-b07e-4b51-b7f2-d6ebf463c981",
   "metadata": {},
   "outputs": [],
   "source": [
    "## The below code is Example of Inheritance.\n",
    "## In this code we further created backend for verification of the course you are learning in your account"
   ]
  },
  {
   "cell_type": "code",
   "execution_count": 31,
   "id": "6ac67cd7-5d24-49e3-9841-12d6e756e263",
   "metadata": {},
   "outputs": [],
   "source": [
    "class Profile(Account_Sign_in):\n",
    "    def __init__(self,course_number,course_name,*args):\n",
    "        super(Profile,self).__init__(*args)\n",
    "        self.course_number = course_number\n",
    "        self.course_name = course_name\n",
    "    def user_details(self):\n",
    "        while True:\n",
    "            course_number=int(input(\"Enter Your Course_no\"))\n",
    "            course_name = input(\"Enter Your Course_name\")\n",
    "            if course_number==self.course_number:\n",
    "                if course_name==self.course_name:\n",
    "                    print(\"Continue Learning\")\n",
    "                break\n",
    "            else:\n",
    "                print(\"The Course is not purcheased by you in the profile\")\n",
    "                continue"
   ]
  },
  {
   "cell_type": "code",
   "execution_count": 32,
   "id": "298d184b-875c-4cb9-aec5-9bd06ee889cc",
   "metadata": {},
   "outputs": [],
   "source": [
    "abc = Profile(2, \"Data Science\")"
   ]
  },
  {
   "cell_type": "code",
   "execution_count": 33,
   "id": "92942a65-6202-4689-b3c7-3e1b3b187c51",
   "metadata": {},
   "outputs": [
    {
     "name": "stdin",
     "output_type": "stream",
     "text": [
      "Enter Your email  abc@def.com\n",
      "Enter Your Password  123\n"
     ]
    },
    {
     "name": "stdout",
     "output_type": "stream",
     "text": [
      "Logged in Sucessfully\n"
     ]
    }
   ],
   "source": [
    "c.login()"
   ]
  },
  {
   "cell_type": "code",
   "execution_count": 34,
   "id": "003ed4be-e12d-4a69-b2b7-c27bf39f4aca",
   "metadata": {},
   "outputs": [
    {
     "name": "stdin",
     "output_type": "stream",
     "text": [
      "Enter Your Course_no 2\n",
      "Enter Your Course_name Data Science\n"
     ]
    },
    {
     "name": "stdout",
     "output_type": "stream",
     "text": [
      "Continue Learning\n"
     ]
    }
   ],
   "source": [
    "abc.user_details()"
   ]
  },
  {
   "cell_type": "code",
   "execution_count": 38,
   "id": "df9f4a85-10c1-4681-b615-f5e9fff79c72",
   "metadata": {},
   "outputs": [],
   "source": [
    "## Now we will see an example for encapsulation"
   ]
  },
  {
   "cell_type": "code",
   "execution_count": 42,
   "id": "ab4ce44c-6039-4b1e-873f-177b40e2d3b8",
   "metadata": {},
   "outputs": [
    {
     "name": "stdout",
     "output_type": "stream",
     "text": [
      "Smartphone Specifications:\n",
      "Screen:\n",
      "\tBrand: Samsung\n",
      "\tSize: 6.7 inches\n",
      "\tResolution: 1440p\n",
      "Battery:\n",
      "\tCapacity: 5000 mAh\n",
      "\tCharging Speed: 25 W\n",
      "Processor:\n",
      "\tModel: Snapdragon 888\n",
      "\tCores: 8\n",
      "\tSpeed: 2.84 GHz\n"
     ]
    }
   ],
   "source": [
    "class Screen:\n",
    "    def __init__(self, brand, size, resolution):\n",
    "        self.brand = brand\n",
    "        self.size = size\n",
    "        self.resolution = resolution\n",
    "\n",
    "    def __str__(self):\n",
    "        return (f\"Screen:\\n\\tBrand: {self.brand}\\n\\tSize: {self.size} inches\\n\\tResolution: {self.resolution}p\")\n",
    "\n",
    "class Battery:\n",
    "    def __init__(self, capacity, charging_speed):\n",
    "        self.capacity = capacity  # in mAh\n",
    "        self.charging_speed = charging_speed  # in watts\n",
    "\n",
    "    def __str__(self):\n",
    "        return (f\"Battery:\\n\\tCapacity: {self.capacity} mAh\\n\\tCharging Speed: {self.charging_speed} W\")\n",
    "\n",
    "class Processor:\n",
    "    def __init__(self, model, cores, speed):\n",
    "        self.model = model\n",
    "        self.cores = cores\n",
    "        self.speed = speed  # in GHz\n",
    "\n",
    "    def __str__(self):\n",
    "        return (f\"Processor:\\n\\tModel: {self.model}\\n\\tCores: {self.cores}\\n\\tSpeed: {self.speed} GHz\")\n",
    "\n",
    "class Smartphone:\n",
    "    def __init__(self, screen, battery, processor):\n",
    "        self.screen = screen\n",
    "        self.battery = battery\n",
    "        self.processor = processor\n",
    "\n",
    "    def __str__(self):\n",
    "        return (f\"Smartphone Specifications:\\n{str(self.screen)}\\n{str(self.battery)}\\n{str(self.processor)}\")\n",
    "\n",
    "screen = Screen(\"Samsung\", 6.7, 1440)\n",
    "battery = Battery(5000, 25)\n",
    "processor = Processor(\"Snapdragon 888\", 8, 2.84)\n",
    "\n",
    "smartphone = Smartphone(screen, battery, processor)\n",
    "\n",
    "print(smartphone)\n"
   ]
  },
  {
   "cell_type": "code",
   "execution_count": null,
   "id": "4982848b-890b-4c75-8b03-eaa729543e33",
   "metadata": {},
   "outputs": [],
   "source": []
  }
 ],
 "metadata": {
  "kernelspec": {
   "display_name": "Python 3 (ipykernel)",
   "language": "python",
   "name": "python3"
  },
  "language_info": {
   "codemirror_mode": {
    "name": "ipython",
    "version": 3
   },
   "file_extension": ".py",
   "mimetype": "text/x-python",
   "name": "python",
   "nbconvert_exporter": "python",
   "pygments_lexer": "ipython3",
   "version": "3.12.7"
  }
 },
 "nbformat": 4,
 "nbformat_minor": 5
}
