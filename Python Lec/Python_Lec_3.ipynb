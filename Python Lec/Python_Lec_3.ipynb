{
 "cells": [
  {
   "cell_type": "code",
   "execution_count": 1,
   "id": "b99cf054",
   "metadata": {},
   "outputs": [
    {
     "data": {
      "text/plain": [
       "tuple"
      ]
     },
     "execution_count": 1,
     "metadata": {},
     "output_type": "execute_result"
    }
   ],
   "source": [
    "alphabet = ('a', 'b', 'c', 'd')\n",
    "type(alphabet)"
   ]
  },
  {
   "cell_type": "code",
   "execution_count": 2,
   "id": "57ec95b8",
   "metadata": {},
   "outputs": [],
   "source": [
    "alphabet = list(alphabet)    ## Since tuple is immutable we need to convert it to list "
   ]
  },
  {
   "cell_type": "code",
   "execution_count": 4,
   "id": "128b0531",
   "metadata": {},
   "outputs": [],
   "source": [
    "alphabet.append('e')"
   ]
  },
  {
   "cell_type": "code",
   "execution_count": 5,
   "id": "713d81b8",
   "metadata": {},
   "outputs": [
    {
     "data": {
      "text/plain": [
       "('a', 'b', 'c', 'd', 'e')"
      ]
     },
     "execution_count": 5,
     "metadata": {},
     "output_type": "execute_result"
    }
   ],
   "source": [
    "alphabet = tuple(alphabet)       ## This is how we change the elements in tuple\n",
    "alphabet"
   ]
  },
  {
   "cell_type": "code",
   "execution_count": 6,
   "id": "662d8ae8",
   "metadata": {},
   "outputs": [
    {
     "data": {
      "text/plain": [
       "5"
      ]
     },
     "execution_count": 6,
     "metadata": {},
     "output_type": "execute_result"
    }
   ],
   "source": [
    "len(alphabet)    ## Checks length of the element"
   ]
  },
  {
   "cell_type": "code",
   "execution_count": 8,
   "id": "f56987a7",
   "metadata": {},
   "outputs": [
    {
     "data": {
      "text/plain": [
       "'d'"
      ]
     },
     "execution_count": 8,
     "metadata": {},
     "output_type": "execute_result"
    }
   ],
   "source": [
    "alphabet[3]    ## Prints specific index element"
   ]
  },
  {
   "cell_type": "code",
   "execution_count": 10,
   "id": "9b18f5ba",
   "metadata": {},
   "outputs": [
    {
     "data": {
      "text/plain": [
       "'e'"
      ]
     },
     "execution_count": 10,
     "metadata": {},
     "output_type": "execute_result"
    }
   ],
   "source": [
    "alphabet[-1]"
   ]
  },
  {
   "cell_type": "code",
   "execution_count": 11,
   "id": "c49cdd84",
   "metadata": {},
   "outputs": [],
   "source": [
    "number = [1, 2, 1, 1, 3, 3, 4, 4, 5, 5, 6, 6, 7]"
   ]
  },
  {
   "cell_type": "code",
   "execution_count": 12,
   "id": "ff15a9a1",
   "metadata": {},
   "outputs": [
    {
     "data": {
      "text/plain": [
       "4"
      ]
     },
     "execution_count": 12,
     "metadata": {},
     "output_type": "execute_result"
    }
   ],
   "source": [
    "number.index(3)   ## Prints the index of the first appearing element in the list"
   ]
  },
  {
   "cell_type": "code",
   "execution_count": 13,
   "id": "69b7d3c9",
   "metadata": {},
   "outputs": [
    {
     "data": {
      "text/plain": [
       "{1, 2, 3, 4, 5, 6, 7}"
      ]
     },
     "execution_count": 13,
     "metadata": {},
     "output_type": "execute_result"
    }
   ],
   "source": [
    "number = set(number)   ## Removes the duplicates in the set when converted\n",
    "number                 ## And prints them in order"
   ]
  },
  {
   "cell_type": "code",
   "execution_count": 15,
   "id": "df2c8c6f",
   "metadata": {},
   "outputs": [],
   "source": [
    "number.add(8)   ## Adds element in the set"
   ]
  },
  {
   "cell_type": "code",
   "execution_count": 16,
   "id": "68941627",
   "metadata": {},
   "outputs": [
    {
     "data": {
      "text/plain": [
       "{1, 2, 3, 4, 5, 6, 7, 8}"
      ]
     },
     "execution_count": 16,
     "metadata": {},
     "output_type": "execute_result"
    }
   ],
   "source": [
    "number"
   ]
  },
  {
   "cell_type": "code",
   "execution_count": 17,
   "id": "63c24497",
   "metadata": {},
   "outputs": [
    {
     "data": {
      "text/plain": [
       "{'a': 1, 'b': 2, 'c': 3, 'd': 4}"
      ]
     },
     "execution_count": 17,
     "metadata": {},
     "output_type": "execute_result"
    }
   ],
   "source": [
    "dict = {'a':1, 'b':2, 'c':3, 'd':4}\n",
    "dict"
   ]
  },
  {
   "cell_type": "code",
   "execution_count": 18,
   "id": "ea7facaf",
   "metadata": {},
   "outputs": [
    {
     "data": {
      "text/plain": [
       "1"
      ]
     },
     "execution_count": 18,
     "metadata": {},
     "output_type": "execute_result"
    }
   ],
   "source": [
    "dict['a']     ## Prints the value of the Key in the dictionary"
   ]
  },
  {
   "cell_type": "code",
   "execution_count": 19,
   "id": "91a2b181",
   "metadata": {},
   "outputs": [
    {
     "data": {
      "text/plain": [
       "{'a': [1, 2, 3], 'b': (4, 5, 6), 'c': 'xfgnx'}"
      ]
     },
     "execution_count": 19,
     "metadata": {},
     "output_type": "execute_result"
    }
   ],
   "source": [
    "dict2 = {'a':[1, 2, 3], 'b': (4, 5, 6), 'c':'xfgnx'}     ## Dictionary is comfartable with all the edata types\n",
    "dict2"
   ]
  },
  {
   "cell_type": "code",
   "execution_count": 20,
   "id": "b0cc7ab7",
   "metadata": {},
   "outputs": [
    {
     "data": {
      "text/plain": [
       "(4, 5, 6)"
      ]
     },
     "execution_count": 20,
     "metadata": {},
     "output_type": "execute_result"
    }
   ],
   "source": [
    "dict2['b']"
   ]
  },
  {
   "cell_type": "code",
   "execution_count": 21,
   "id": "25b78ba7",
   "metadata": {},
   "outputs": [
    {
     "data": {
      "text/plain": [
       "[1, 2, 3]"
      ]
     },
     "execution_count": 21,
     "metadata": {},
     "output_type": "execute_result"
    }
   ],
   "source": [
    "dict2['a']"
   ]
  },
  {
   "cell_type": "code",
   "execution_count": 22,
   "id": "8f41e0b7",
   "metadata": {},
   "outputs": [
    {
     "data": {
      "text/plain": [
       "'xfgnx'"
      ]
     },
     "execution_count": 22,
     "metadata": {},
     "output_type": "execute_result"
    }
   ],
   "source": [
    "dict2['c']"
   ]
  },
  {
   "cell_type": "code",
   "execution_count": 23,
   "id": "ad5aa2ce",
   "metadata": {},
   "outputs": [
    {
     "data": {
      "text/plain": [
       "2"
      ]
     },
     "execution_count": 23,
     "metadata": {},
     "output_type": "execute_result"
    }
   ],
   "source": [
    "dict2['a'][1]"
   ]
  },
  {
   "cell_type": "code",
   "execution_count": 24,
   "id": "9d728fe9",
   "metadata": {},
   "outputs": [
    {
     "data": {
      "text/plain": [
       "6"
      ]
     },
     "execution_count": 24,
     "metadata": {},
     "output_type": "execute_result"
    }
   ],
   "source": [
    "dict2['b'][2]"
   ]
  },
  {
   "cell_type": "code",
   "execution_count": 30,
   "id": "c74bb6c3",
   "metadata": {},
   "outputs": [
    {
     "data": {
      "text/plain": [
       "'XFGNX'"
      ]
     },
     "execution_count": 30,
     "metadata": {},
     "output_type": "execute_result"
    }
   ],
   "source": [
    "dict2['c'].upper()    ## Prints the string in uppercase letters"
   ]
  },
  {
   "cell_type": "code",
   "execution_count": 25,
   "id": "d98c38ff",
   "metadata": {},
   "outputs": [
    {
     "data": {
      "text/plain": [
       "dict_items([('a', [1, 2, 3]), ('b', (4, 5, 6)), ('c', 'xfgnx')])"
      ]
     },
     "execution_count": 25,
     "metadata": {},
     "output_type": "execute_result"
    }
   ],
   "source": [
    "dict2.items()"
   ]
  },
  {
   "cell_type": "code",
   "execution_count": 26,
   "id": "1e29ca75",
   "metadata": {},
   "outputs": [],
   "source": [
    "## Items will return keys and both corresponding values"
   ]
  },
  {
   "cell_type": "code",
   "execution_count": 32,
   "id": "4a083f22",
   "metadata": {},
   "outputs": [],
   "source": [
    "dict2.update({'a':[45, 56, 67]})   ##Used to update value of the dictionary"
   ]
  },
  {
   "cell_type": "code",
   "execution_count": 33,
   "id": "6ae457b3",
   "metadata": {},
   "outputs": [
    {
     "data": {
      "text/plain": [
       "{'a': [45, 56, 67], 'b': (4, 5, 6), 'c': 'xfgnx'}"
      ]
     },
     "execution_count": 33,
     "metadata": {},
     "output_type": "execute_result"
    }
   ],
   "source": [
    "dict2"
   ]
  },
  {
   "cell_type": "code",
   "execution_count": 34,
   "id": "3728435c",
   "metadata": {},
   "outputs": [],
   "source": [
    "## Branching in Python (if , elif, else)"
   ]
  },
  {
   "cell_type": "code",
   "execution_count": 35,
   "id": "bdcaeae0",
   "metadata": {},
   "outputs": [
    {
     "name": "stdout",
     "output_type": "stream",
     "text": [
      "Too high\n"
     ]
    }
   ],
   "source": [
    "a = 100\n",
    "if a<=15:\n",
    "    print(\"Correct\")\n",
    "else:\n",
    "    print(\"Too high\")"
   ]
  },
  {
   "cell_type": "code",
   "execution_count": 37,
   "id": "53a7acfd",
   "metadata": {},
   "outputs": [
    {
     "name": "stdout",
     "output_type": "stream",
     "text": [
      "Shop more for rupees 10 to get discount\n"
     ]
    }
   ],
   "source": [
    "a = 10\n",
    "b = 30\n",
    "\n",
    "if a+b==50:\n",
    "    print(\"You are eligible for discount\")\n",
    "elif a+b<50:\n",
    "    print(\"Shop more for rupees\", 50-(a+b), \"to get discount\")\n",
    "else:\n",
    "    print(\"Discount only for 50 rupees shopping\")"
   ]
  },
  {
   "cell_type": "code",
   "execution_count": null,
   "id": "c4f7e716",
   "metadata": {},
   "outputs": [],
   "source": []
  }
 ],
 "metadata": {
  "kernelspec": {
   "display_name": "Python 3 (ipykernel)",
   "language": "python",
   "name": "python3"
  },
  "language_info": {
   "codemirror_mode": {
    "name": "ipython",
    "version": 3
   },
   "file_extension": ".py",
   "mimetype": "text/x-python",
   "name": "python",
   "nbconvert_exporter": "python",
   "pygments_lexer": "ipython3",
   "version": "3.11.5"
  }
 },
 "nbformat": 4,
 "nbformat_minor": 5
}
