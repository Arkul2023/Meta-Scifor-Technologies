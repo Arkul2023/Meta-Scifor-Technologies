{
 "cells": [
  {
   "cell_type": "code",
   "execution_count": 1,
   "id": "554eeb16-79fd-40c2-8a90-0f8e492a6339",
   "metadata": {},
   "outputs": [],
   "source": [
    "## Global and local variables"
   ]
  },
  {
   "cell_type": "code",
   "execution_count": 2,
   "id": "9a4dd688-d818-4252-bf97-edbecf742b5a",
   "metadata": {},
   "outputs": [],
   "source": [
    "b = 'Danny'   ## This is a global variable"
   ]
  },
  {
   "cell_type": "code",
   "execution_count": 3,
   "id": "3e7b1ee2-e18c-41b5-94ba-c27dafef68d5",
   "metadata": {},
   "outputs": [],
   "source": [
    "def marks(Science, Maths, English):\n",
    "    Science = 70\n",
    "    Maths = 89          ## Science, Maths, English are local variables since they written inside a function\n",
    "    English = 60\n",
    "    print(\"Avg marks are \", (Science+Maths+English)/3)"
   ]
  },
  {
   "cell_type": "code",
   "execution_count": 4,
   "id": "befaca0c-a096-4220-80c9-de0db1367056",
   "metadata": {},
   "outputs": [],
   "source": [
    "def animal():\n",
    "    global Dog      ## Local variable made global\n",
    "    Dog = 'Bark'\n",
    "    print(Dog)"
   ]
  },
  {
   "cell_type": "code",
   "execution_count": 5,
   "id": "176ebad7-0884-4545-b85a-d320bdf73a2d",
   "metadata": {},
   "outputs": [
    {
     "name": "stdout",
     "output_type": "stream",
     "text": [
      "Bark\n"
     ]
    }
   ],
   "source": [
    "animal()        "
   ]
  },
  {
   "cell_type": "code",
   "execution_count": 6,
   "id": "7d71f6dc-fd72-4616-a782-0d483398c93d",
   "metadata": {},
   "outputs": [
    {
     "data": {
      "text/plain": [
       "'Bark'"
      ]
     },
     "execution_count": 6,
     "metadata": {},
     "output_type": "execute_result"
    }
   ],
   "source": [
    "Dog           ## Since we have local variable global it prints the value"
   ]
  },
  {
   "cell_type": "code",
   "execution_count": 7,
   "id": "fb01d435-bd59-4b80-a3a2-e80999b09fcf",
   "metadata": {},
   "outputs": [
    {
     "name": "stdin",
     "output_type": "stream",
     "text": [
      "Enter name:  Aryan\n",
      "Enter age:  20\n"
     ]
    },
    {
     "name": "stdout",
     "output_type": "stream",
     "text": [
      "My name is Aryan and my age is 20\n"
     ]
    }
   ],
   "source": [
    "Name = input(\"Enter name: \")\n",
    "Age = int(input(\"Enter age: \"))\n",
    "print(f\"My name is {Name} and my age is {Age}\")"
   ]
  },
  {
   "cell_type": "code",
   "execution_count": 8,
   "id": "a3927af3-4394-40e4-928f-682350104a0a",
   "metadata": {},
   "outputs": [
    {
     "name": "stdin",
     "output_type": "stream",
     "text": [
      "Enter name:  Aryan\n"
     ]
    },
    {
     "name": "stdout",
     "output_type": "stream",
     "text": [
      "My name is Aryan\n"
     ]
    }
   ],
   "source": [
    "Name = input(\"Enter name: \")\n",
    "if Name.isalpha():             ## isalpha() function checks whether input is an alphabet or not\n",
    "    print(f\"My name is {Name}\")\n",
    "else:\n",
    "    print(f\"Inavlid input\")"
   ]
  },
  {
   "cell_type": "code",
   "execution_count": 9,
   "id": "0912715c-d75d-4767-9d17-16f0cad65165",
   "metadata": {},
   "outputs": [],
   "source": [
    "def car_purchase(car_company, car_name, car_model_no):\n",
    "    if car_company=='Mercedes':\n",
    "        if car_name=='Mercedes G16':\n",
    "            if car_model_no==23:\n",
    "                print(\" 5 stocks availabel\")\n",
    "            elif car_model_no==28:\n",
    "                print(\"Not in Stock\")\n",
    "    elif car_company=='Tata':\n",
    "        if car_name=='Nano':\n",
    "            if car_model_no==10:\n",
    "                print(\"2 stocks availabel\")\n",
    "    else:\n",
    "        print(\"No stocks availabel. Check after few days\")"
   ]
  },
  {
   "cell_type": "code",
   "execution_count": 10,
   "id": "5f25ed1b-f6f1-4b4c-afd3-4462071e390c",
   "metadata": {},
   "outputs": [
    {
     "name": "stdin",
     "output_type": "stream",
     "text": [
      "Enter name of the company:  Tata\n",
      "Enter name of the car:  Nano\n",
      "Enter model number:  10\n"
     ]
    },
    {
     "name": "stdout",
     "output_type": "stream",
     "text": [
      "2 stocks availabel\n"
     ]
    }
   ],
   "source": [
    "car_company = input(\"Enter name of the company: \")\n",
    "car_name = input(\"Enter name of the car: \")\n",
    "car_model_no = int(input(\"Enter model number: \"))\n",
    "car_purchase(car_company, car_name, car_model_no)"
   ]
  },
  {
   "cell_type": "code",
   "execution_count": 11,
   "id": "f20b4a77-ac82-46ea-bcec-13a038ebe03b",
   "metadata": {},
   "outputs": [],
   "source": [
    "## Error and Exception handling"
   ]
  },
  {
   "cell_type": "code",
   "execution_count": 12,
   "id": "b8d0eff0-89ad-43bb-b490-c4a481713a7c",
   "metadata": {},
   "outputs": [],
   "source": [
    "## Try and Except"
   ]
  },
  {
   "cell_type": "code",
   "execution_count": 13,
   "id": "732d8bab-458d-42dd-bec0-863c430ce7cd",
   "metadata": {},
   "outputs": [],
   "source": [
    "int1 = 34\n",
    "str = 'kjh'\n",
    "int2 = 67"
   ]
  },
  {
   "cell_type": "code",
   "execution_count": 14,
   "id": "ba000c75-76b8-4bba-b827-08773c8e16b3",
   "metadata": {},
   "outputs": [
    {
     "name": "stdout",
     "output_type": "stream",
     "text": [
      "Only two integers or two strings can be combined\n"
     ]
    }
   ],
   "source": [
    "try:\n",
    "    result = int1+str\n",
    "except:\n",
    "    print(\"Only two integers or two strings can be combined\")\n",
    "else:\n",
    "    print(result)"
   ]
  },
  {
   "cell_type": "code",
   "execution_count": 15,
   "id": "7079de62-6858-444c-84eb-47bf4cf2bc54",
   "metadata": {},
   "outputs": [
    {
     "name": "stdout",
     "output_type": "stream",
     "text": [
      "101\n"
     ]
    }
   ],
   "source": [
    "try:\n",
    "    result = int1+int2\n",
    "except:\n",
    "    print(\"Only two integers or two strings can be combined\")\n",
    "else:\n",
    "    print(result)"
   ]
  },
  {
   "cell_type": "code",
   "execution_count": 16,
   "id": "33e6cdbc-81d8-46e5-a534-ce5ba64fe0da",
   "metadata": {},
   "outputs": [],
   "source": [
    "## Lets try an example of Github login account"
   ]
  },
  {
   "cell_type": "code",
   "execution_count": 17,
   "id": "8e1c0119-02fa-42b7-ad10-d35df50d7663",
   "metadata": {},
   "outputs": [
    {
     "name": "stdin",
     "output_type": "stream",
     "text": [
      "Enter username  jhg\n",
      "Enter password  jhgc\n"
     ]
    },
    {
     "name": "stdout",
     "output_type": "stream",
     "text": [
      "Welcome to Github\n"
     ]
    }
   ],
   "source": [
    "try:\n",
    "    Username = input(\"Enter username \")\n",
    "    Password = input(\"Enter password \")\n",
    "    if Username ==\" \":\n",
    "        raise Exception()\n",
    "    elif Password ==\" \":\n",
    "        raise Exception()\n",
    "    else:\n",
    "        pass\n",
    "except:\n",
    "    if Username ==\" \":\n",
    "        print(\"\\n The Username field is required\")\n",
    "    if Password ==\" \":\n",
    "        print(\"\\n The Password field is required\")\n",
    "else:\n",
    "    print(\"Welcome to Github\")"
   ]
  },
  {
   "cell_type": "code",
   "execution_count": 18,
   "id": "20deb074-3be3-486b-933f-6a5e493de70b",
   "metadata": {},
   "outputs": [],
   "source": [
    "def str():\n",
    "    try:\n",
    "        a = str(input(\"Enter a decimal number: \"))\n",
    "    except:\n",
    "        print(\"Looks Like You entered an integer\")\n",
    "    print(a)"
   ]
  },
  {
   "cell_type": "code",
   "execution_count": 19,
   "id": "29ad67d6-e5da-4878-9fd2-16364577599a",
   "metadata": {},
   "outputs": [
    {
     "name": "stdin",
     "output_type": "stream",
     "text": [
      "Enter a decimal number:  34\n"
     ]
    },
    {
     "name": "stdout",
     "output_type": "stream",
     "text": [
      "Looks Like You entered an integer\n"
     ]
    },
    {
     "ename": "UnboundLocalError",
     "evalue": "cannot access local variable 'a' where it is not associated with a value",
     "output_type": "error",
     "traceback": [
      "\u001b[1;31m---------------------------------------------------------------------------\u001b[0m",
      "\u001b[1;31mUnboundLocalError\u001b[0m                         Traceback (most recent call last)",
      "Cell \u001b[1;32mIn[19], line 1\u001b[0m\n\u001b[1;32m----> 1\u001b[0m \u001b[38;5;28mstr\u001b[39m()\n",
      "Cell \u001b[1;32mIn[18], line 6\u001b[0m, in \u001b[0;36mstr\u001b[1;34m()\u001b[0m\n\u001b[0;32m      4\u001b[0m \u001b[38;5;28;01mexcept\u001b[39;00m:\n\u001b[0;32m      5\u001b[0m     \u001b[38;5;28mprint\u001b[39m(\u001b[38;5;124m\"\u001b[39m\u001b[38;5;124mLooks Like You entered an integer\u001b[39m\u001b[38;5;124m\"\u001b[39m)\n\u001b[1;32m----> 6\u001b[0m \u001b[38;5;28mprint\u001b[39m(a)\n",
      "\u001b[1;31mUnboundLocalError\u001b[0m: cannot access local variable 'a' where it is not associated with a value"
     ]
    }
   ],
   "source": [
    "str()"
   ]
  },
  {
   "cell_type": "code",
   "execution_count": 20,
   "id": "338fde57-4982-441b-8913-0ea23ac99e3b",
   "metadata": {},
   "outputs": [],
   "source": [
    "def even_odd():\n",
    "    while True:\n",
    "        try:\n",
    "            a = int(input(\"Enter a number: \"))\n",
    "            if a%2==0:\n",
    "                print(\"The number is even\")\n",
    "            else:\n",
    "                print(\"The number is odd\")\n",
    "                break\n",
    "        except:\n",
    "            print(\"You must have entered a string\")\n",
    "            continue"
   ]
  },
  {
   "cell_type": "code",
   "execution_count": 21,
   "id": "75da1b9a-eab8-45d8-9253-f9fb08543b99",
   "metadata": {},
   "outputs": [
    {
     "name": "stdin",
     "output_type": "stream",
     "text": [
      "Enter a number:  kjgv\n"
     ]
    },
    {
     "name": "stdout",
     "output_type": "stream",
     "text": [
      "You must have entered a string\n"
     ]
    },
    {
     "name": "stdin",
     "output_type": "stream",
     "text": [
      "Enter a number:  3\n"
     ]
    },
    {
     "name": "stdout",
     "output_type": "stream",
     "text": [
      "The number is odd\n"
     ]
    }
   ],
   "source": [
    "even_odd()"
   ]
  },
  {
   "cell_type": "code",
   "execution_count": null,
   "id": "dc233a21-5666-4c7d-a7a8-91447227fa4a",
   "metadata": {},
   "outputs": [],
   "source": []
  }
 ],
 "metadata": {
  "kernelspec": {
   "display_name": "Python 3 (ipykernel)",
   "language": "python",
   "name": "python3"
  },
  "language_info": {
   "codemirror_mode": {
    "name": "ipython",
    "version": 3
   },
   "file_extension": ".py",
   "mimetype": "text/x-python",
   "name": "python",
   "nbconvert_exporter": "python",
   "pygments_lexer": "ipython3",
   "version": "3.12.7"
  }
 },
 "nbformat": 4,
 "nbformat_minor": 5
}
