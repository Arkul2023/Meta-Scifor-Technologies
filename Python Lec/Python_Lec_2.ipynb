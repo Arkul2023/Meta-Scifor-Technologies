{
 "cells": [
  {
   "cell_type": "markdown",
   "id": "8a6ec577",
   "metadata": {},
   "source": [
    "## Python_Lec_2"
   ]
  },
  {
   "cell_type": "code",
   "execution_count": 1,
   "id": "a2124f21",
   "metadata": {},
   "outputs": [
    {
     "name": "stdout",
     "output_type": "stream",
     "text": [
      "<class 'complex'>\n"
     ]
    }
   ],
   "source": [
    "a = 2+3j\n",
    "print(type(a))    ## We also have a data type named complex numbers"
   ]
  },
  {
   "cell_type": "code",
   "execution_count": 4,
   "id": "2e7926e0",
   "metadata": {},
   "outputs": [
    {
     "name": "stdout",
     "output_type": "stream",
     "text": [
      "Hello! My name is Aryan\n"
     ]
    }
   ],
   "source": [
    "str1 = 'Hello! '\n",
    "str2 = 'My name is '\n",
    "str3 = 'Aryan'\n",
    "print(str1+str2+str3)      ## Method of combining two or multiple strings together"
   ]
  },
  {
   "cell_type": "code",
   "execution_count": 7,
   "id": "e9e7e510",
   "metadata": {},
   "outputs": [
    {
     "name": "stdout",
     "output_type": "stream",
     "text": [
      " Day  Day  Day  Day  Day \n"
     ]
    }
   ],
   "source": [
    "print(' Day '* 5)    ## * is used for mutiplication"
   ]
  },
  {
   "cell_type": "code",
   "execution_count": 8,
   "id": "e1db0741",
   "metadata": {},
   "outputs": [],
   "source": [
    "## Similarly '+' for addition\n",
    "## '- ' for subtraction\n",
    "## '/' for division"
   ]
  },
  {
   "cell_type": "code",
   "execution_count": 9,
   "id": "e94d333a",
   "metadata": {},
   "outputs": [],
   "source": [
    "## Data structures"
   ]
  },
  {
   "cell_type": "code",
   "execution_count": 10,
   "id": "1e5f3583",
   "metadata": {},
   "outputs": [
    {
     "data": {
      "text/plain": [
       "[]"
      ]
     },
     "execution_count": 10,
     "metadata": {},
     "output_type": "execute_result"
    }
   ],
   "source": [
    "lst = []\n",
    "lst            ## List is always written in square brackets and it is mutable"
   ]
  },
  {
   "cell_type": "code",
   "execution_count": 12,
   "id": "7bed1df6",
   "metadata": {},
   "outputs": [
    {
     "data": {
      "text/plain": [
       "()"
      ]
     },
     "execution_count": 12,
     "metadata": {},
     "output_type": "execute_result"
    }
   ],
   "source": [
    "tup = ()\n",
    "tup           ## Tuple is written in circular brackets and is immutable"
   ]
  },
  {
   "cell_type": "code",
   "execution_count": 14,
   "id": "33b52bc3",
   "metadata": {},
   "outputs": [
    {
     "data": {
      "text/plain": [
       "[1, 2, 3, 4]"
      ]
     },
     "execution_count": 14,
     "metadata": {},
     "output_type": "execute_result"
    }
   ],
   "source": [
    "lst = [1, 2, 3, 4]       ## Elements in a list\n",
    "lst"
   ]
  },
  {
   "cell_type": "code",
   "execution_count": 17,
   "id": "48232a7a",
   "metadata": {},
   "outputs": [
    {
     "data": {
      "text/plain": [
       "[1, 2, 3, 4, 9]"
      ]
     },
     "execution_count": 17,
     "metadata": {},
     "output_type": "execute_result"
    }
   ],
   "source": [
    "lst.append(9)    ## this function is used for adding element\n",
    "lst             "
   ]
  },
  {
   "cell_type": "code",
   "execution_count": 18,
   "id": "6fbf977a",
   "metadata": {},
   "outputs": [
    {
     "data": {
      "text/plain": [
       "[1, 2, 3, 6, 4, 9]"
      ]
     },
     "execution_count": 18,
     "metadata": {},
     "output_type": "execute_result"
    }
   ],
   "source": [
    "lst.insert(3, 6)    ## Used to insert element at a specific location\n",
    "lst"
   ]
  },
  {
   "cell_type": "code",
   "execution_count": 19,
   "id": "8463eccc",
   "metadata": {},
   "outputs": [
    {
     "data": {
      "text/plain": [
       "9"
      ]
     },
     "execution_count": 19,
     "metadata": {},
     "output_type": "execute_result"
    }
   ],
   "source": [
    "lst.pop()     ## Removes the element from the list"
   ]
  },
  {
   "cell_type": "code",
   "execution_count": 20,
   "id": "bff119f4",
   "metadata": {},
   "outputs": [
    {
     "data": {
      "text/plain": [
       "[1, 2, 3, 6, 4]"
      ]
     },
     "execution_count": 20,
     "metadata": {},
     "output_type": "execute_result"
    }
   ],
   "source": [
    "lst"
   ]
  },
  {
   "cell_type": "code",
   "execution_count": 21,
   "id": "9e3630c5",
   "metadata": {},
   "outputs": [
    {
     "data": {
      "text/plain": [
       "[4, 6, 3, 2, 1]"
      ]
     },
     "execution_count": 21,
     "metadata": {},
     "output_type": "execute_result"
    }
   ],
   "source": [
    "lst.reverse()    ## Reverses the order of the elements in the list\n",
    "lst            "
   ]
  },
  {
   "cell_type": "code",
   "execution_count": 22,
   "id": "046595a8",
   "metadata": {},
   "outputs": [
    {
     "data": {
      "text/plain": [
       "[4, 6, 2, 1]"
      ]
     },
     "execution_count": 22,
     "metadata": {},
     "output_type": "execute_result"
    }
   ],
   "source": [
    "lst.remove(3)   ## Removes a specific element from the list\n",
    "lst           "
   ]
  },
  {
   "cell_type": "code",
   "execution_count": 23,
   "id": "8d31ada0",
   "metadata": {},
   "outputs": [
    {
     "data": {
      "text/plain": [
       "[1, 2, 4, 6]"
      ]
     },
     "execution_count": 23,
     "metadata": {},
     "output_type": "execute_result"
    }
   ],
   "source": [
    "lst.sort()     ## Sorts the elemenets of the list in ascending order\n",
    "lst"
   ]
  },
  {
   "cell_type": "code",
   "execution_count": 24,
   "id": "55c3f4ed",
   "metadata": {},
   "outputs": [],
   "source": [
    "lst2 = [12, 34, 45, 56]"
   ]
  },
  {
   "cell_type": "code",
   "execution_count": 26,
   "id": "ae1ee776",
   "metadata": {},
   "outputs": [
    {
     "data": {
      "text/plain": [
       "[56, 45, 34, 12]"
      ]
     },
     "execution_count": 26,
     "metadata": {},
     "output_type": "execute_result"
    }
   ],
   "source": [
    "lst2.sort(reverse = True)  ## Sorts the elements in the string in descending order\n",
    "lst2"
   ]
  },
  {
   "cell_type": "code",
   "execution_count": 30,
   "id": "459bf6fe",
   "metadata": {},
   "outputs": [
    {
     "data": {
      "text/plain": [
       "1"
      ]
     },
     "execution_count": 30,
     "metadata": {},
     "output_type": "execute_result"
    }
   ],
   "source": [
    "lst2.count(34)  ## Counts a specific element in a list. To check how many times it has occured"
   ]
  },
  {
   "cell_type": "code",
   "execution_count": null,
   "id": "cebdb6e0",
   "metadata": {},
   "outputs": [],
   "source": []
  }
 ],
 "metadata": {
  "kernelspec": {
   "display_name": "Python 3 (ipykernel)",
   "language": "python",
   "name": "python3"
  },
  "language_info": {
   "codemirror_mode": {
    "name": "ipython",
    "version": 3
   },
   "file_extension": ".py",
   "mimetype": "text/x-python",
   "name": "python",
   "nbconvert_exporter": "python",
   "pygments_lexer": "ipython3",
   "version": "3.11.5"
  }
 },
 "nbformat": 4,
 "nbformat_minor": 5
}
