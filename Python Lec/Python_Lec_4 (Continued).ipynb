{
 "cells": [
  {
   "cell_type": "markdown",
   "id": "0b262535",
   "metadata": {},
   "source": [
    "## Name- Aryan Kulkarni"
   ]
  },
  {
   "cell_type": "code",
   "execution_count": 1,
   "id": "2ae6153f",
   "metadata": {},
   "outputs": [],
   "source": [
    "## range function in python and its operations"
   ]
  },
  {
   "cell_type": "code",
   "execution_count": 2,
   "id": "9548e6c1",
   "metadata": {},
   "outputs": [
    {
     "name": "stdout",
     "output_type": "stream",
     "text": [
      "range(0, 15)\n"
     ]
    }
   ],
   "source": [
    "## For Example:\n",
    "\n",
    "print(range(15)) ## This will print the range from where to where thw numbers will be included"
   ]
  },
  {
   "cell_type": "code",
   "execution_count": 3,
   "id": "20a5b83a",
   "metadata": {},
   "outputs": [
    {
     "name": "stdout",
     "output_type": "stream",
     "text": [
      "[0, 1, 2, 3, 4, 5, 6, 7, 8, 9, 10, 11, 12, 13, 14]\n"
     ]
    }
   ],
   "source": [
    "print(list(range(15)))\n",
    "## Here the number 15 is not printed because we want range till 15 hence the number 15 will not be printed"
   ]
  },
  {
   "cell_type": "code",
   "execution_count": 4,
   "id": "b5f46d9d",
   "metadata": {},
   "outputs": [
    {
     "name": "stdout",
     "output_type": "stream",
     "text": [
      "[5, 10, 15, 20, 25, 30, 35, 40, 45, 50, 55, 60, 65, 70, 75, 80, 85, 90, 95]\n"
     ]
    }
   ],
   "source": [
    "print(list(range(5, 100, 5)))\n",
    "## Similarly we also learned to print the lists from particular range. In this we wrote that we want numbers from range 5 to 100 \n",
    "## And that to with the step size of 5"
   ]
  },
  {
   "cell_type": "code",
   "execution_count": 11,
   "id": "3208af48",
   "metadata": {},
   "outputs": [
    {
     "data": {
      "text/plain": [
       "[10,\n",
       " 11,\n",
       " 12,\n",
       " 13,\n",
       " 14,\n",
       " 15,\n",
       " 16,\n",
       " 17,\n",
       " 18,\n",
       " 19,\n",
       " 20,\n",
       " 21,\n",
       " 22,\n",
       " 23,\n",
       " 24,\n",
       " 25,\n",
       " 26,\n",
       " 27,\n",
       " 28,\n",
       " 29,\n",
       " 30,\n",
       " 31,\n",
       " 32,\n",
       " 33,\n",
       " 34,\n",
       " 35,\n",
       " 36,\n",
       " 37,\n",
       " 38,\n",
       " 39]"
      ]
     },
     "execution_count": 11,
     "metadata": {},
     "output_type": "execute_result"
    }
   ],
   "source": [
    "candidates=list(range(10,40,1))\n",
    "candidates\n",
    "## Similary we also learned to store range values in a variable in  a list form"
   ]
  },
  {
   "cell_type": "code",
   "execution_count": 12,
   "id": "8f857a38",
   "metadata": {},
   "outputs": [],
   "source": [
    "## We also learned to print reverse the range "
   ]
  },
  {
   "cell_type": "code",
   "execution_count": 13,
   "id": "9ad92853",
   "metadata": {},
   "outputs": [
    {
     "data": {
      "text/plain": [
       "[200,\n",
       " 190,\n",
       " 180,\n",
       " 170,\n",
       " 160,\n",
       " 150,\n",
       " 140,\n",
       " 130,\n",
       " 120,\n",
       " 110,\n",
       " 100,\n",
       " 90,\n",
       " 80,\n",
       " 70,\n",
       " 60,\n",
       " 50,\n",
       " 40,\n",
       " 30,\n",
       " 20]"
      ]
     },
     "execution_count": 13,
     "metadata": {},
     "output_type": "execute_result"
    }
   ],
   "source": [
    "reverse = list(range(200, 10, -10)) ## Here -10 indicates that the number should be printed in reverse order with step size of 10\n",
    "reverse"
   ]
  },
  {
   "cell_type": "code",
   "execution_count": 14,
   "id": "a71d1324",
   "metadata": {},
   "outputs": [],
   "source": [
    "## the next thing we learned is Loops for loop"
   ]
  },
  {
   "cell_type": "code",
   "execution_count": 15,
   "id": "4601a908",
   "metadata": {},
   "outputs": [
    {
     "data": {
      "text/plain": [
       "['Pune', 'Banglore', 'Mumbai', 'Chennai', 'Hyderabad']"
      ]
     },
     "execution_count": 15,
     "metadata": {},
     "output_type": "execute_result"
    }
   ],
   "source": [
    "places = [\"Pune\", \"Banglore\", \"Mumbai\", \"Chennai\", \"Hyderabad\"]\n",
    "places"
   ]
  },
  {
   "cell_type": "code",
   "execution_count": 16,
   "id": "d2708262",
   "metadata": {},
   "outputs": [
    {
     "name": "stdout",
     "output_type": "stream",
     "text": [
      "Pune\n",
      "Banglore\n",
      "Mumbai\n",
      "Chennai\n",
      "Hyderabad\n"
     ]
    }
   ],
   "source": [
    "for cities in places:\n",
    "    print(cities)"
   ]
  },
  {
   "cell_type": "code",
   "execution_count": 20,
   "id": "6131600a",
   "metadata": {},
   "outputs": [
    {
     "name": "stdout",
     "output_type": "stream",
     "text": [
      "\n",
      "* \n",
      "* * \n",
      "* * * \n",
      "* * * * \n",
      "* * * * * \n",
      "* * * * * * \n",
      "* * * * * * * \n",
      "* * * * * * * * \n",
      "* * * * * * * * * "
     ]
    }
   ],
   "source": [
    "for i in range(1, 10):\n",
    "    print()\n",
    "    for j in range(i):\n",
    "        print(\"*\",end = ' ')"
   ]
  },
  {
   "cell_type": "code",
   "execution_count": 24,
   "id": "84dc5916",
   "metadata": {},
   "outputs": [
    {
     "name": "stdout",
     "output_type": "stream",
     "text": [
      "\n",
      "* * * * * \n",
      "* * * * * \n",
      "* * * * * \n",
      "* * * * * \n",
      "* * * * * "
     ]
    }
   ],
   "source": [
    "for i in range(5):\n",
    "    print()\n",
    "    for j in range(5):\n",
    "        print(\"*\", end= ' ')"
   ]
  },
  {
   "cell_type": "code",
   "execution_count": 1,
   "id": "4925f108",
   "metadata": {},
   "outputs": [
    {
     "name": "stdout",
     "output_type": "stream",
     "text": [
      "Multiplication table for 3\n",
      "3\n",
      "6\n",
      "9\n",
      "12\n",
      "15\n",
      "\n",
      "\n",
      "Multiplication table for 4\n",
      "4\n",
      "8\n",
      "12\n",
      "16\n",
      "20\n",
      "\n",
      "\n",
      "Multiplication table for 5\n",
      "5\n",
      "10\n",
      "15\n",
      "20\n",
      "25\n",
      "\n",
      "\n",
      "Multiplication table for 6\n",
      "6\n",
      "12\n",
      "18\n",
      "24\n",
      "30\n",
      "\n",
      "\n",
      "Multiplication table for 7\n",
      "7\n",
      "14\n",
      "21\n",
      "28\n",
      "35\n",
      "\n",
      "\n"
     ]
    }
   ],
   "source": [
    "for num in range(3, 8):                ## Range of numbers\n",
    "    print(\"Multiplication table for\",num)\n",
    "    for i in range(1,6):              ## Till where you want to multiply\n",
    "        print(num*i)\n",
    "        if i ==5:\n",
    "            print( \"\\n\" )            ## Shifts to next line. Thats why every new table prints next line"
   ]
  },
  {
   "cell_type": "code",
   "execution_count": 2,
   "id": "f6078891",
   "metadata": {},
   "outputs": [],
   "source": [
    "## While Loops"
   ]
  },
  {
   "cell_type": "code",
   "execution_count": 4,
   "id": "fc3467d2",
   "metadata": {},
   "outputs": [
    {
     "name": "stdout",
     "output_type": "stream",
     "text": [
      "0\n",
      "2\n",
      "4\n",
      "6\n",
      "8\n",
      "10\n"
     ]
    }
   ],
   "source": [
    "i=0\n",
    "while i<=10:\n",
    "    print(i)\n",
    "    i=i+2"
   ]
  },
  {
   "cell_type": "code",
   "execution_count": 5,
   "id": "0d225bde",
   "metadata": {},
   "outputs": [
    {
     "name": "stdout",
     "output_type": "stream",
     "text": [
      "5\n",
      "10\n",
      "15\n",
      "20\n",
      "25\n",
      "30\n",
      "35\n",
      "40\n",
      "45\n",
      "50\n"
     ]
    }
   ],
   "source": [
    "num = 5          ## Number at which you are going to start\n",
    "count = 1        ## Stores the value 1\n",
    "\n",
    "while count <= 10:      ## Condition\n",
    "    print(num*count)     \n",
    "    count+=1            ##Increments count by 1 and then multiplies with 5 and gives us the result"
   ]
  },
  {
   "cell_type": "code",
   "execution_count": 6,
   "id": "6a8e5221",
   "metadata": {},
   "outputs": [],
   "source": [
    "## Break and Continue Statement"
   ]
  },
  {
   "cell_type": "code",
   "execution_count": 7,
   "id": "40d26316",
   "metadata": {},
   "outputs": [],
   "source": [
    "a = [1, 2, 3, 4, 5]"
   ]
  },
  {
   "cell_type": "code",
   "execution_count": 10,
   "id": "be439527",
   "metadata": {},
   "outputs": [
    {
     "name": "stdout",
     "output_type": "stream",
     "text": [
      "1\n",
      "2\n",
      "3\n"
     ]
    }
   ],
   "source": [
    "for number in a:\n",
    "    if number==4:\n",
    "        break         ## This statement breaks when the element is 4 and ends the loop\n",
    "    print(number)"
   ]
  },
  {
   "cell_type": "code",
   "execution_count": 11,
   "id": "0bff0b86",
   "metadata": {},
   "outputs": [
    {
     "name": "stdout",
     "output_type": "stream",
     "text": [
      "1\n",
      "2\n",
      "3\n",
      "5\n"
     ]
    }
   ],
   "source": [
    "for number in a:\n",
    "    if number==4:\n",
    "        continue     ## Continue passes the number and prints elements that are written further\n",
    "    print(number)"
   ]
  },
  {
   "cell_type": "code",
   "execution_count": 12,
   "id": "788bc724",
   "metadata": {},
   "outputs": [],
   "source": [
    "Name = ['Bob','George','Alice','Smith']\n",
    "Age = [21,32,34,45]\n",
    "\n",
    "Data = list(zip(Name, Age))   ##Zips two list as shown"
   ]
  },
  {
   "cell_type": "code",
   "execution_count": 13,
   "id": "8978b151",
   "metadata": {},
   "outputs": [
    {
     "data": {
      "text/plain": [
       "[('Bob', 21), ('George', 32), ('Alice', 34), ('Smith', 45)]"
      ]
     },
     "execution_count": 13,
     "metadata": {},
     "output_type": "execute_result"
    }
   ],
   "source": [
    "Data"
   ]
  },
  {
   "cell_type": "code",
   "execution_count": 21,
   "id": "76c558d2",
   "metadata": {},
   "outputs": [
    {
     "data": {
      "text/plain": [
       "('Bob', 'George', 'Alice', 'Smith')"
      ]
     },
     "execution_count": 21,
     "metadata": {},
     "output_type": "execute_result"
    }
   ],
   "source": [
    "Name, Age = list(zip(*Data))   ##* Unzips the data\n",
    "Name"
   ]
  },
  {
   "cell_type": "code",
   "execution_count": 22,
   "id": "97c35518",
   "metadata": {},
   "outputs": [
    {
     "data": {
      "text/plain": [
       "(21, 32, 34, 45)"
      ]
     },
     "execution_count": 22,
     "metadata": {},
     "output_type": "execute_result"
    }
   ],
   "source": [
    "Age"
   ]
  },
  {
   "cell_type": "code",
   "execution_count": 23,
   "id": "3d8bbc96",
   "metadata": {},
   "outputs": [
    {
     "name": "stdout",
     "output_type": "stream",
     "text": [
      "(0, 'Bob')\n",
      "(1, 'George')\n",
      "(2, 'Alice')\n",
      "(3, 'Smith')\n"
     ]
    }
   ],
   "source": [
    "for i in enumerate(Name):      ## Enumerates or writes index of each element\n",
    "    print(i)"
   ]
  },
  {
   "cell_type": "code",
   "execution_count": null,
   "id": "9b410b2c",
   "metadata": {},
   "outputs": [],
   "source": []
  }
 ],
 "metadata": {
  "kernelspec": {
   "display_name": "Python 3 (ipykernel)",
   "language": "python",
   "name": "python3"
  },
  "language_info": {
   "codemirror_mode": {
    "name": "ipython",
    "version": 3
   },
   "file_extension": ".py",
   "mimetype": "text/x-python",
   "name": "python",
   "nbconvert_exporter": "python",
   "pygments_lexer": "ipython3",
   "version": "3.11.5"
  }
 },
 "nbformat": 4,
 "nbformat_minor": 5
}
