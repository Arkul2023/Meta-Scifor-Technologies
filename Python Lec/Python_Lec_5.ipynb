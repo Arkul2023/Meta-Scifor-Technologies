{
 "cells": [
  {
   "cell_type": "code",
   "execution_count": 1,
   "id": "bfd9df7e",
   "metadata": {},
   "outputs": [
    {
     "name": "stdout",
     "output_type": "stream",
     "text": [
      "Started Learning Functions\n"
     ]
    }
   ],
   "source": [
    "def func():                 ## This is a function that we have created \n",
    "    print(\"Started Learning Functions\")\n",
    "func()                      ## We need to call the function to print the statement"
   ]
  },
  {
   "cell_type": "code",
   "execution_count": 2,
   "id": "3839b9bf",
   "metadata": {},
   "outputs": [
    {
     "name": "stdout",
     "output_type": "stream",
     "text": [
      "Have your Breakfast at 10:00\n"
     ]
    }
   ],
   "source": [
    "def eat(time):               ## We wrote an argument time in the function eat\n",
    "    print(\"Have your Breakfast at\", time)\n",
    "eat('10:00')                 ## We called the function with the argument value"
   ]
  },
  {
   "cell_type": "code",
   "execution_count": 3,
   "id": "882f8591",
   "metadata": {},
   "outputs": [],
   "source": [
    "def animal(pet):\n",
    "    sounds = {'Dog':'Woofh','Cat':'Meow'}     ## Assigned sounds of the animals\n",
    "    return sounds.get(pet, 'Unknown animal')  ## Returns the value\n"
   ]
  },
  {
   "cell_type": "code",
   "execution_count": 4,
   "id": "fd0f62d9",
   "metadata": {},
   "outputs": [
    {
     "name": "stdout",
     "output_type": "stream",
     "text": [
      "Woofh\n"
     ]
    }
   ],
   "source": [
    "print(animal('Dog'))"
   ]
  },
  {
   "cell_type": "code",
   "execution_count": 5,
   "id": "b1bccfeb",
   "metadata": {},
   "outputs": [
    {
     "name": "stdout",
     "output_type": "stream",
     "text": [
      "Meow\n"
     ]
    }
   ],
   "source": [
    "print(animal('Cat'))"
   ]
  },
  {
   "cell_type": "code",
   "execution_count": 6,
   "id": "b85f28bb",
   "metadata": {},
   "outputs": [],
   "source": [
    "def avg_marks(DSA, OOPS ,DSBDA ,BCN):\n",
    "    return((DSA+OOPS+DSBDA+BCN)/4)"
   ]
  },
  {
   "cell_type": "code",
   "execution_count": 7,
   "id": "077d7f65",
   "metadata": {},
   "outputs": [
    {
     "name": "stdout",
     "output_type": "stream",
     "text": [
      "You have got Average Marks of 87.0\n"
     ]
    }
   ],
   "source": [
    "print(\"You have got Average Marks of\",avg_marks(88, 84, 89, 87))"
   ]
  },
  {
   "cell_type": "code",
   "execution_count": 8,
   "id": "00d11108",
   "metadata": {},
   "outputs": [],
   "source": [
    "## Lambda Function"
   ]
  },
  {
   "cell_type": "code",
   "execution_count": 9,
   "id": "7d0b39e5",
   "metadata": {},
   "outputs": [],
   "source": [
    "sqr_num=lambda y:y**2    ## Lambda Fubction is used to "
   ]
  },
  {
   "cell_type": "code",
   "execution_count": 10,
   "id": "f4db7557",
   "metadata": {},
   "outputs": [
    {
     "data": {
      "text/plain": [
       "81"
      ]
     },
     "execution_count": 10,
     "metadata": {},
     "output_type": "execute_result"
    }
   ],
   "source": [
    "sqr_num(9)"
   ]
  },
  {
   "cell_type": "code",
   "execution_count": 11,
   "id": "c0205799",
   "metadata": {},
   "outputs": [],
   "source": [
    "mul_num = lambda x, y, z, p, q: x+y-z*p/q    ## Can calculate multiple numbers using multiple operators"
   ]
  },
  {
   "cell_type": "code",
   "execution_count": 12,
   "id": "4b9a6c34",
   "metadata": {},
   "outputs": [
    {
     "data": {
      "text/plain": [
       "1.6666666666666665"
      ]
     },
     "execution_count": 12,
     "metadata": {},
     "output_type": "execute_result"
    }
   ],
   "source": [
    "mul_num(2, 3, 4, 5, 6)"
   ]
  },
  {
   "cell_type": "code",
   "execution_count": 13,
   "id": "ca9f6aef",
   "metadata": {},
   "outputs": [],
   "source": [
    "## *args and **kwargs"
   ]
  },
  {
   "cell_type": "code",
   "execution_count": 14,
   "id": "21e8eee9",
   "metadata": {},
   "outputs": [],
   "source": [
    "def my_func(*args):\n",
    "    for i in args:\n",
    "        print(\"My chocolates \",i)"
   ]
  },
  {
   "cell_type": "code",
   "execution_count": 15,
   "id": "9e0f6e7f",
   "metadata": {},
   "outputs": [
    {
     "name": "stdout",
     "output_type": "stream",
     "text": [
      "My chocolates  Cadboury\n",
      "My chocolates  Dairymilk\n",
      "My chocolates  Milkybar\n"
     ]
    }
   ],
   "source": [
    "my_func('Cadboury','Dairymilk','Milkybar')"
   ]
  },
  {
   "cell_type": "code",
   "execution_count": 16,
   "id": "b1b714a2",
   "metadata": {},
   "outputs": [],
   "source": [
    "def abc(**kwargs):\n",
    "     for key,value in kwargs.items():      ## The result in **Kwargs is given same as the dictionary\n",
    "        print(key,value)"
   ]
  },
  {
   "cell_type": "code",
   "execution_count": 17,
   "id": "68826a43",
   "metadata": {},
   "outputs": [
    {
     "name": "stdout",
     "output_type": "stream",
     "text": [
      "pets ['Dog', 'Cat', 'Tiger', 'Birds']\n",
      "sound ['Woofh', 'Meow', 'Roar', 'Tweet']\n"
     ]
    }
   ],
   "source": [
    "abc(pets=[\"Dog\",\"Cat\",\"Tiger\",\"Birds\"],sound=['Woofh','Meow','Roar','Tweet'])"
   ]
  },
  {
   "cell_type": "code",
   "execution_count": 18,
   "id": "68daea96",
   "metadata": {},
   "outputs": [],
   "source": [
    "## Indexing and Slicicng"
   ]
  },
  {
   "cell_type": "code",
   "execution_count": 19,
   "id": "0a7444de",
   "metadata": {},
   "outputs": [
    {
     "data": {
      "text/plain": [
       "'jhvkjgvjbkf'"
      ]
     },
     "execution_count": 19,
     "metadata": {},
     "output_type": "execute_result"
    }
   ],
   "source": [
    "a = 'jhvkjgvjbkf'\n",
    "a"
   ]
  },
  {
   "cell_type": "code",
   "execution_count": 20,
   "id": "b7c1c55e",
   "metadata": {},
   "outputs": [
    {
     "data": {
      "text/plain": [
       "'vkj'"
      ]
     },
     "execution_count": 20,
     "metadata": {},
     "output_type": "execute_result"
    }
   ],
   "source": [
    "a[2:5]  ##Prints the letters from index 2 to 4"
   ]
  },
  {
   "cell_type": "code",
   "execution_count": 21,
   "id": "d276ab39",
   "metadata": {},
   "outputs": [
    {
     "data": {
      "text/plain": [
       "'jkvk'"
      ]
     },
     "execution_count": 21,
     "metadata": {},
     "output_type": "execute_result"
    }
   ],
   "source": [
    "a[::3]  ##From j it prints every 3rd element "
   ]
  },
  {
   "cell_type": "code",
   "execution_count": 22,
   "id": "c24688d3",
   "metadata": {},
   "outputs": [
    {
     "data": {
      "text/plain": [
       "'hvkjgv'"
      ]
     },
     "execution_count": 22,
     "metadata": {},
     "output_type": "execute_result"
    }
   ],
   "source": [
    "a[1:-4]"
   ]
  },
  {
   "cell_type": "code",
   "execution_count": 23,
   "id": "7d1b04c0",
   "metadata": {},
   "outputs": [
    {
     "data": {
      "text/plain": [
       "'k'"
      ]
     },
     "execution_count": 23,
     "metadata": {},
     "output_type": "execute_result"
    }
   ],
   "source": [
    "a[-2]"
   ]
  },
  {
   "cell_type": "code",
   "execution_count": 24,
   "id": "9e728eed",
   "metadata": {},
   "outputs": [
    {
     "name": "stdout",
     "output_type": "stream",
     "text": [
      "[1, 4, 9, 16, 25]\n"
     ]
    }
   ],
   "source": [
    "# Define a list of numbers\n",
    "numbers = [1, 2, 3, 4, 5]\n",
    "\n",
    "# Use the map function to square each number\n",
    "squared_numbers = map(lambda x: x ** 2, numbers)\n",
    "\n",
    "# Convert the map object to a list and print the result\n",
    "print(list(squared_numbers))\n"
   ]
  },
  {
   "cell_type": "code",
   "execution_count": 25,
   "id": "168b7ca6",
   "metadata": {},
   "outputs": [],
   "source": [
    "## Filter Function"
   ]
  },
  {
   "cell_type": "code",
   "execution_count": 29,
   "id": "c179d79a",
   "metadata": {},
   "outputs": [
    {
     "name": "stdout",
     "output_type": "stream",
     "text": [
      "['apple', 'elephant']\n"
     ]
    }
   ],
   "source": [
    "# Define a function to check if a word is longer than 4 characters\n",
    "def is_long_word(word):\n",
    "    return len(word) > 4\n",
    "\n",
    "# Define a list of words\n",
    "words = [\"apple\", \"bat\", \"cat\", \"elephant\", \"dog\", \"fish\"]\n",
    "\n",
    "# Use filter with the regular function\n",
    "long_words = filter(is_long_word, words)\n",
    "\n",
    "# Convert the filter object to a list and print the result\n",
    "print(list(long_words))\n"
   ]
  },
  {
   "cell_type": "code",
   "execution_count": 21,
   "id": "fe0f72c7",
   "metadata": {},
   "outputs": [
    {
     "data": {
      "text/plain": [
       "[True, False, True]"
      ]
     },
     "execution_count": 21,
     "metadata": {},
     "output_type": "execute_result"
    }
   ],
   "source": [
    "list(map(lambda var:var%2==1,[13,24,35]))"
   ]
  },
  {
   "cell_type": "code",
   "execution_count": 23,
   "id": "a5ad9c00",
   "metadata": {},
   "outputs": [
    {
     "data": {
      "text/plain": [
       "[13, 35]"
      ]
     },
     "execution_count": 23,
     "metadata": {},
     "output_type": "execute_result"
    }
   ],
   "source": [
    "list(filter(lambda var:var%2==1,[13,24,35]))"
   ]
  },
  {
   "cell_type": "code",
   "execution_count": null,
   "id": "cc491146",
   "metadata": {},
   "outputs": [],
   "source": []
  }
 ],
 "metadata": {
  "kernelspec": {
   "display_name": "Python 3 (ipykernel)",
   "language": "python",
   "name": "python3"
  },
  "language_info": {
   "codemirror_mode": {
    "name": "ipython",
    "version": 3
   },
   "file_extension": ".py",
   "mimetype": "text/x-python",
   "name": "python",
   "nbconvert_exporter": "python",
   "pygments_lexer": "ipython3",
   "version": "3.11.5"
  }
 },
 "nbformat": 4,
 "nbformat_minor": 5
}
