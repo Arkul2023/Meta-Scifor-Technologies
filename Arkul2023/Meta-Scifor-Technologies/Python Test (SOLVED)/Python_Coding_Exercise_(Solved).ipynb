{
  "nbformat": 4,
  "nbformat_minor": 0,
  "metadata": {
    "colab": {
      "provenance": [],
      "authorship_tag": "ABX9TyNC1KIPD4uc10qCYTp47Zc0",
      "include_colab_link": true
    },
    "kernelspec": {
      "name": "python3",
      "display_name": "Python 3"
    },
    "language_info": {
      "name": "python"
    }
  },
  "cells": [
    {
      "cell_type": "markdown",
      "metadata": {
        "id": "view-in-github",
        "colab_type": "text"
      },
      "source": [
        "<a href=\"https://colab.research.google.com/github/Arkul2023/Meta-Scifor-Technologies/blob/main/Arkul2023/Meta-Scifor-Technologies/Python%20Test%20(SOLVED)/Python_Coding_Exercise_(Solved).ipynb\" target=\"_parent\"><img src=\"https://colab.research.google.com/assets/colab-badge.svg\" alt=\"Open In Colab\"/></a>"
      ]
    },
    {
      "cell_type": "code",
      "execution_count": 1,
      "metadata": {
        "id": "x4IVVO6H6F-4"
      },
      "outputs": [],
      "source": [
        "## Python Coding Exercises"
      ]
    },
    {
      "cell_type": "code",
      "source": [
        "##Q1\n",
        "\n",
        "a = 5+3*2   ## Calculating the expression\n",
        "print(a)"
      ],
      "metadata": {
        "colab": {
          "base_uri": "https://localhost:8080/"
        },
        "id": "YCeOrWJh6Sml",
        "outputId": "4f405f4b-abb6-4a40-f6d5-9283da32ac22"
      },
      "execution_count": 2,
      "outputs": [
        {
          "output_type": "stream",
          "name": "stdout",
          "text": [
            "11\n"
          ]
        }
      ]
    },
    {
      "cell_type": "code",
      "source": [
        "## Q2\n",
        "\n",
        "print(2**3+5)  ## Directly evaluating and printing the result of the expression"
      ],
      "metadata": {
        "colab": {
          "base_uri": "https://localhost:8080/"
        },
        "id": "xfFELomc6f31",
        "outputId": "e86b6732-756a-49e3-dada-8b04fd9e84c6"
      },
      "execution_count": 3,
      "outputs": [
        {
          "output_type": "stream",
          "name": "stdout",
          "text": [
            "13\n"
          ]
        }
      ]
    },
    {
      "cell_type": "code",
      "source": [
        "## Q3\n",
        "\n",
        "result = (10-3)*(2+4)\n",
        "print(result)"
      ],
      "metadata": {
        "colab": {
          "base_uri": "https://localhost:8080/"
        },
        "id": "17wj-YZA6nUh",
        "outputId": "7e28aa6a-da5d-4660-9fa5-315f17d9294c"
      },
      "execution_count": 4,
      "outputs": [
        {
          "output_type": "stream",
          "name": "stdout",
          "text": [
            "42\n"
          ]
        }
      ]
    },
    {
      "cell_type": "code",
      "source": [
        "## Q4\n",
        "\n",
        "print(15//4)"
      ],
      "metadata": {
        "colab": {
          "base_uri": "https://localhost:8080/"
        },
        "id": "glzU6hcO7HgX",
        "outputId": "bd7f68b9-2ad1-4555-b32f-c912ca238776"
      },
      "execution_count": 5,
      "outputs": [
        {
          "output_type": "stream",
          "name": "stdout",
          "text": [
            "3\n"
          ]
        }
      ]
    },
    {
      "cell_type": "code",
      "source": [
        "## Q5\n",
        "\n",
        "print(15%4)   ## Modulus operator prints the remainder when 15 is divided by 4"
      ],
      "metadata": {
        "colab": {
          "base_uri": "https://localhost:8080/"
        },
        "id": "0Ra7_FTr7PBr",
        "outputId": "08d04708-5227-4944-9acc-af32cde6046c"
      },
      "execution_count": 7,
      "outputs": [
        {
          "output_type": "stream",
          "name": "stdout",
          "text": [
            "3\n"
          ]
        }
      ]
    },
    {
      "cell_type": "code",
      "source": [
        "## Q6\n",
        "\n",
        "x = 42          ## Variable assigned\n",
        "print(type(x))  ## type() prints the type of the variable"
      ],
      "metadata": {
        "colab": {
          "base_uri": "https://localhost:8080/"
        },
        "id": "-eRmrGq67Yq_",
        "outputId": "58e66286-fda7-4170-d18b-603468c3a008"
      },
      "execution_count": 10,
      "outputs": [
        {
          "output_type": "stream",
          "name": "stdout",
          "text": [
            "<class 'int'>\n"
          ]
        }
      ]
    },
    {
      "cell_type": "code",
      "source": [
        "## Q7\n",
        "\n",
        "fruits = ['apple','banana','cherry']\n",
        "print(type(fruits))"
      ],
      "metadata": {
        "colab": {
          "base_uri": "https://localhost:8080/"
        },
        "id": "hm7QTOr48Guk",
        "outputId": "e0092056-03de-44bc-bfcb-66b0eeb33f04"
      },
      "execution_count": 11,
      "outputs": [
        {
          "output_type": "stream",
          "name": "stdout",
          "text": [
            "<class 'list'>\n"
          ]
        }
      ]
    },
    {
      "cell_type": "code",
      "source": [
        "## Q8\n",
        "\n",
        "is_active = True\n",
        "print(type(is_active))"
      ],
      "metadata": {
        "colab": {
          "base_uri": "https://localhost:8080/"
        },
        "id": "-1Vnn0-Z8h9z",
        "outputId": "fac33a63-c6c0-419b-efd0-416229356186"
      },
      "execution_count": 12,
      "outputs": [
        {
          "output_type": "stream",
          "name": "stdout",
          "text": [
            "<class 'bool'>\n"
          ]
        }
      ]
    },
    {
      "cell_type": "code",
      "source": [
        "## Q9\n",
        "\n",
        "price = 3.14\n",
        "print(type(price))"
      ],
      "metadata": {
        "colab": {
          "base_uri": "https://localhost:8080/"
        },
        "id": "ZlgfpMfq9E8V",
        "outputId": "d5b3cdce-cad3-41bc-d897-c1c3c3affec7"
      },
      "execution_count": 13,
      "outputs": [
        {
          "output_type": "stream",
          "name": "stdout",
          "text": [
            "<class 'float'>\n"
          ]
        }
      ]
    },
    {
      "cell_type": "code",
      "source": [
        "## Q10\n",
        "\n",
        "string = \"Hello World\"\n",
        "print(type(string))"
      ],
      "metadata": {
        "colab": {
          "base_uri": "https://localhost:8080/"
        },
        "id": "DPW9Fg4P9MgL",
        "outputId": "b7634802-6dda-4187-dbf5-905ce9df6275"
      },
      "execution_count": 15,
      "outputs": [
        {
          "output_type": "stream",
          "name": "stdout",
          "text": [
            "<class 'str'>\n"
          ]
        }
      ]
    },
    {
      "cell_type": "code",
      "source": [
        "## Q11\n",
        "\n",
        "fruits = ['Guava','Grapes','Kiwi']    ## Created a list of fruits\n",
        "print(fruits)                         ## printed the fruits assigned in the list fruits"
      ],
      "metadata": {
        "colab": {
          "base_uri": "https://localhost:8080/"
        },
        "id": "lImI_oav9WIx",
        "outputId": "f8e563a8-6986-4fa5-bfc0-75ebd3ca5867"
      },
      "execution_count": 16,
      "outputs": [
        {
          "output_type": "stream",
          "name": "stdout",
          "text": [
            "['Guava', 'Grapes', 'Kiwi']\n"
          ]
        }
      ]
    },
    {
      "cell_type": "code",
      "source": [
        "## Q12\n",
        "\n",
        "tup = ('apple','banana','cherry')\n",
        "list1 = list(tup)       ## Changing tuple to list\n",
        "\n",
        "list1[0] = 'orange'    ## Changing the elements in the list. Changing first element\n",
        "list1[1] = 'guava'     ## Changing second element\n",
        "list1[2] = 'kiwi'      ## Changing the third element\n",
        "\n",
        "print(\"Modified list: \",list1)    ## Printing new modified list as per the question"
      ],
      "metadata": {
        "colab": {
          "base_uri": "https://localhost:8080/"
        },
        "id": "t_hdoxy69nke",
        "outputId": "8b2f357d-f556-44ed-cf98-5b6101da5adb"
      },
      "execution_count": 22,
      "outputs": [
        {
          "output_type": "stream",
          "name": "stdout",
          "text": [
            "Modified list:  ['orange', 'guava', 'kiwi']\n"
          ]
        }
      ]
    },
    {
      "cell_type": "code",
      "source": [
        "## Q13\n",
        "\n",
        "my_list = [10, 20, 30]\n",
        "\n",
        "print(my_list[0])    ## Index starts from 0. Hence the first element is 10"
      ],
      "metadata": {
        "colab": {
          "base_uri": "https://localhost:8080/"
        },
        "id": "CwUy6pHp-XHK",
        "outputId": "e961c6ec-58cc-4105-fbc8-b4e651bd9497"
      },
      "execution_count": 25,
      "outputs": [
        {
          "output_type": "stream",
          "name": "stdout",
          "text": [
            "10\n"
          ]
        }
      ]
    },
    {
      "cell_type": "code",
      "source": [
        "## Q14\n",
        "\n",
        "my_list = [10, 20, 30]\n",
        "print(len(my_list))    ## len() prints the length/size of the variable"
      ],
      "metadata": {
        "colab": {
          "base_uri": "https://localhost:8080/"
        },
        "id": "DzKbZN71BI0B",
        "outputId": "1e6ec1a7-ce54-491c-b578-6e64e5d0cd6c"
      },
      "execution_count": 26,
      "outputs": [
        {
          "output_type": "stream",
          "name": "stdout",
          "text": [
            "3\n"
          ]
        }
      ]
    },
    {
      "cell_type": "code",
      "source": [
        " ## Q15\n",
        "\n",
        "my_list = [10, 20, 30]\n",
        "\n",
        "my_list.append(40)    ## append() function adds elements in the list\n",
        "\n",
        "print(my_list)"
      ],
      "metadata": {
        "colab": {
          "base_uri": "https://localhost:8080/"
        },
        "id": "_x_iBO91BsZq",
        "outputId": "9b2ffee1-ec64-4300-cb60-3976a1d574ff"
      },
      "execution_count": 27,
      "outputs": [
        {
          "output_type": "stream",
          "name": "stdout",
          "text": [
            "[10, 20, 30, 40]\n"
          ]
        }
      ]
    },
    {
      "cell_type": "code",
      "source": [
        "## Q16\n",
        "\n",
        "for i in range(1, 6):   ## Assigning the range starting from 1 to 5\n",
        "  print(i)              ## Printing the numbers\n",
        "  i+=1                  ## Increments number by 1"
      ],
      "metadata": {
        "colab": {
          "base_uri": "https://localhost:8080/"
        },
        "id": "VXZez9KHCRDk",
        "outputId": "b9af543f-19c1-4be7-e59a-bcc1cfad3ef0"
      },
      "execution_count": 31,
      "outputs": [
        {
          "output_type": "stream",
          "name": "stdout",
          "text": [
            "1\n",
            "2\n",
            "3\n",
            "4\n",
            "5\n"
          ]
        }
      ]
    },
    {
      "cell_type": "code",
      "source": [
        "## Q17\n",
        "\n",
        "for i in range(3, 6):   ## Assigning the range starting from 3 to 5\n",
        "  print(i)              ## Printing the numbers\n",
        "  i+=1                  ## Increments number by 1"
      ],
      "metadata": {
        "colab": {
          "base_uri": "https://localhost:8080/"
        },
        "id": "hO_mrctACrVv",
        "outputId": "25fb0461-254e-4531-aa24-9b84fb88ebcd"
      },
      "execution_count": 32,
      "outputs": [
        {
          "output_type": "stream",
          "name": "stdout",
          "text": [
            "3\n",
            "4\n",
            "5\n"
          ]
        }
      ]
    },
    {
      "cell_type": "code",
      "source": [
        "## Q18\n",
        "\n",
        "fruits = ['apple','banana','cherry']     ## Defining the list\n",
        "for fruit in fruits:                     ## Iterating over the list using for loop\n",
        "  print(fruit)"
      ],
      "metadata": {
        "colab": {
          "base_uri": "https://localhost:8080/"
        },
        "id": "5GgyIUyoDZXI",
        "outputId": "847b7157-b060-45ee-e1c4-80143aef5e3d"
      },
      "execution_count": 34,
      "outputs": [
        {
          "output_type": "stream",
          "name": "stdout",
          "text": [
            "apple\n",
            "banana\n",
            "cherry\n"
          ]
        }
      ]
    },
    {
      "cell_type": "code",
      "source": [
        "## Q19\n",
        "\n",
        "for num in range(1, 5):\n",
        "  print(num**2)       ## Prints square of each number from 1 to 5"
      ],
      "metadata": {
        "colab": {
          "base_uri": "https://localhost:8080/"
        },
        "id": "Q2bXMajNDv2G",
        "outputId": "f1bbd6d1-da6e-4777-e52c-361ffccb274b"
      },
      "execution_count": 39,
      "outputs": [
        {
          "output_type": "stream",
          "name": "stdout",
          "text": [
            "1\n",
            "4\n",
            "9\n",
            "16\n"
          ]
        }
      ]
    },
    {
      "cell_type": "code",
      "source": [
        "## Q20\n",
        "\n",
        "for i in range(5):\n",
        "  print(i*2)"
      ],
      "metadata": {
        "colab": {
          "base_uri": "https://localhost:8080/"
        },
        "id": "7fSDFIP0FoB7",
        "outputId": "728ce1e5-84b1-48b8-ca50-8d5d83d8ff89"
      },
      "execution_count": 42,
      "outputs": [
        {
          "output_type": "stream",
          "name": "stdout",
          "text": [
            "0\n",
            "2\n",
            "4\n",
            "6\n",
            "8\n"
          ]
        }
      ]
    },
    {
      "cell_type": "code",
      "source": [
        "##Q21\n",
        "\n",
        "i = 1        ## Stores the number from where we want to start\n",
        "while i<=5:  ## Iterate over while loop\n",
        "  print(i)   ## printing the numbers\n",
        "  i+=1       ## Increments the stored number till it meets the end result"
      ],
      "metadata": {
        "colab": {
          "base_uri": "https://localhost:8080/"
        },
        "id": "TjZKtEyRF2YA",
        "outputId": "5c6a9c77-7d72-489c-9f92-1082ac2da393"
      },
      "execution_count": 44,
      "outputs": [
        {
          "output_type": "stream",
          "name": "stdout",
          "text": [
            "1\n",
            "2\n",
            "3\n",
            "4\n",
            "5\n"
          ]
        }
      ]
    },
    {
      "cell_type": "code",
      "source": [
        "## Q22\n",
        "\n",
        "i = 0\n",
        "while i<=3:\n",
        "  print(i)\n",
        "  i+=1"
      ],
      "metadata": {
        "colab": {
          "base_uri": "https://localhost:8080/"
        },
        "id": "sMZRY-p5GATv",
        "outputId": "2ad6e752-1a89-4283-b7f1-8af6df8eaf4e"
      },
      "execution_count": 45,
      "outputs": [
        {
          "output_type": "stream",
          "name": "stdout",
          "text": [
            "0\n",
            "1\n",
            "2\n",
            "3\n"
          ]
        }
      ]
    },
    {
      "cell_type": "code",
      "source": [
        "## Q23\n",
        "\n",
        "i = 1\n",
        "total = 0     ## Initializing the variables\n",
        "while i<=10:  ## Loop to calculate sum\n",
        "  total+=i    ## Add the current number to the total\n",
        "  i+=1        ## Increment the number\n",
        "print(total)  ## Printing the total"
      ],
      "metadata": {
        "colab": {
          "base_uri": "https://localhost:8080/"
        },
        "id": "D7-3ySsSGgNt",
        "outputId": "b45f66ad-7864-4d32-96c4-cc458b6e9203"
      },
      "execution_count": 47,
      "outputs": [
        {
          "output_type": "stream",
          "name": "stdout",
          "text": [
            "55\n"
          ]
        }
      ]
    },
    {
      "cell_type": "code",
      "source": [
        "## Q24\n",
        "## Initializing the variables\n",
        "i = 1\n",
        "result = 1\n",
        "## while lop for calculating the product\n",
        "while i<=4:\n",
        "  result*=i     ## Multiplying current number to the result\n",
        "  i+=1          ## Incrementing the number\n",
        "print(result)   ## Printing the result"
      ],
      "metadata": {
        "colab": {
          "base_uri": "https://localhost:8080/"
        },
        "id": "eo7iDZe7Gvpp",
        "outputId": "8d6ff511-f0d8-467c-a345-01a3d99c5892"
      },
      "execution_count": 49,
      "outputs": [
        {
          "output_type": "stream",
          "name": "stdout",
          "text": [
            "24\n"
          ]
        }
      ]
    },
    {
      "cell_type": "code",
      "source": [
        "## Q25\n",
        "\n",
        "i = 10         ## From where we are going to start the decrement\n",
        "while i>=1:\n",
        "  print(i)\n",
        "  i-=1         ## Decrementing the element"
      ],
      "metadata": {
        "colab": {
          "base_uri": "https://localhost:8080/"
        },
        "id": "5ipWG57uH4N6",
        "outputId": "c4464433-1178-42c7-dd58-f47e28c71531"
      },
      "execution_count": 50,
      "outputs": [
        {
          "output_type": "stream",
          "name": "stdout",
          "text": [
            "10\n",
            "9\n",
            "8\n",
            "7\n",
            "6\n",
            "5\n",
            "4\n",
            "3\n",
            "2\n",
            "1\n"
          ]
        }
      ]
    },
    {
      "cell_type": "code",
      "source": [
        "## Q26\n",
        "\n",
        "a = int(input())       ## Taking the user input\n",
        "\n",
        "if a>0:\n",
        "  print(\"Positive\")\n",
        "elif a<0:\n",
        "  print(\"Negative\")\n",
        "else:\n",
        "  print(\"Zero\")"
      ],
      "metadata": {
        "colab": {
          "base_uri": "https://localhost:8080/"
        },
        "id": "2n-HaHUqIuuw",
        "outputId": "351d00cc-41f9-44f9-d1e1-1ca4632a3cc4"
      },
      "execution_count": 51,
      "outputs": [
        {
          "output_type": "stream",
          "name": "stdout",
          "text": [
            "2\n",
            "Positive\n"
          ]
        }
      ]
    },
    {
      "cell_type": "code",
      "source": [
        "## Q27\n",
        "\n",
        "a = int(input())\n",
        "\n",
        "if a%2==0:\n",
        "  print(\"Even\")\n",
        "else:\n",
        "  print(\"Odd\")"
      ],
      "metadata": {
        "colab": {
          "base_uri": "https://localhost:8080/"
        },
        "id": "IBVIzn78JIRi",
        "outputId": "236055c4-da34-46f2-826a-e1d9bdb5f5e7"
      },
      "execution_count": 52,
      "outputs": [
        {
          "output_type": "stream",
          "name": "stdout",
          "text": [
            "4\n",
            "Even\n"
          ]
        }
      ]
    },
    {
      "cell_type": "code",
      "source": [
        "## Q28\n",
        "\n",
        "a = int(input())\n",
        "\n",
        "if a>10:\n",
        "  print(\"Greater\")\n",
        "else:\n",
        "  print(\"Smaller\")"
      ],
      "metadata": {
        "colab": {
          "base_uri": "https://localhost:8080/"
        },
        "id": "YTpD9j4PJgYV",
        "outputId": "4549304d-61f2-4a01-c846-cecd001a115f"
      },
      "execution_count": 53,
      "outputs": [
        {
          "output_type": "stream",
          "name": "stdout",
          "text": [
            "7\n",
            "Smaller\n"
          ]
        }
      ]
    },
    {
      "cell_type": "code",
      "source": [
        "## Q29\n",
        "\n",
        "score = int(input())\n",
        "\n",
        "if 100>score>90:\n",
        "  print(\"A\")\n",
        "elif 89>score>70:\n",
        "  print(\"B\")\n",
        "elif 69>score>50:\n",
        "  print(\"C\")\n",
        "elif 49>score>0:\n",
        "  print(\"D\")"
      ],
      "metadata": {
        "colab": {
          "base_uri": "https://localhost:8080/"
        },
        "id": "9xJnJMx0Jvc9",
        "outputId": "a457e18a-7157-46e6-d6b2-dc6f7300f3ea"
      },
      "execution_count": 55,
      "outputs": [
        {
          "output_type": "stream",
          "name": "stdout",
          "text": [
            "45\n",
            "D\n"
          ]
        }
      ]
    },
    {
      "cell_type": "code",
      "source": [
        "## Q30\n",
        "\n",
        "num = int(input())\n",
        "\n",
        "if num%5==0:\n",
        "  print(\"Divisible\")\n",
        "else:\n",
        "  print(\"Not Divisible\")"
      ],
      "metadata": {
        "colab": {
          "base_uri": "https://localhost:8080/"
        },
        "id": "00ILN8VhKfr7",
        "outputId": "7d4f3945-d392-4bff-abda-61824b71ff33"
      },
      "execution_count": 56,
      "outputs": [
        {
          "output_type": "stream",
          "name": "stdout",
          "text": [
            "55\n",
            "Divisible\n"
          ]
        }
      ]
    },
    {
      "cell_type": "code",
      "source": [
        "## Q31\n",
        "\n",
        "def add_numbers(a, b):     ## Defining the function\n",
        "    return a + b           ## Returning the sum of the numbers\n",
        "\n",
        "result = add_numbers(5, 3)   ## Calling the function\n",
        "print(result)                ## Printing the result"
      ],
      "metadata": {
        "colab": {
          "base_uri": "https://localhost:8080/"
        },
        "id": "Oay0ul7kKzag",
        "outputId": "f2956336-b976-42c1-c926-50fa9dc17f96"
      },
      "execution_count": 58,
      "outputs": [
        {
          "output_type": "stream",
          "name": "stdout",
          "text": [
            "8\n"
          ]
        }
      ]
    },
    {
      "cell_type": "code",
      "source": [
        "## Q32\n",
        "\n",
        "def reverse_string(input_string):    ## Defining the function\n",
        "    return input_string[::-1]        ## Reversing the string\n",
        "\n",
        "input_str = \"Hello, World!\"          ##input string\n",
        "reversed_str = reverse_string(input_str)    ## Reversing the string\n",
        "\n",
        "print(reversed_str)"
      ],
      "metadata": {
        "colab": {
          "base_uri": "https://localhost:8080/"
        },
        "id": "mDcVyYdSK_CN",
        "outputId": "5036cbd4-adc2-4bdc-da16-e7b5b86436ce"
      },
      "execution_count": 60,
      "outputs": [
        {
          "output_type": "stream",
          "name": "stdout",
          "text": [
            "!dlroW ,olleH\n"
          ]
        }
      ]
    },
    {
      "cell_type": "code",
      "source": [
        "## Q33\n",
        "\n",
        "def max_three(a, b, c):\n",
        "  return max(a, b, c)\n",
        "\n",
        "result = max_three(8, 43, 65)\n",
        "print(result)"
      ],
      "metadata": {
        "colab": {
          "base_uri": "https://localhost:8080/"
        },
        "id": "t6p3iI3rL9lY",
        "outputId": "cb1a5adc-aca1-4273-b750-178cd97c5ded"
      },
      "execution_count": 62,
      "outputs": [
        {
          "output_type": "stream",
          "name": "stdout",
          "text": [
            "65\n"
          ]
        }
      ]
    },
    {
      "cell_type": "code",
      "source": [
        "## Q34\n",
        "\n",
        "def factorial(n):       ## Initialize the result variable to 1\n",
        "  result = 1\n",
        "  for i in range(1, n+1):     ## Loop through numbers from 1 to n\n",
        "    result*=i                 ## Multiply result by each number\n",
        "    return result\n",
        "\n",
        "  factorial(8)"
      ],
      "metadata": {
        "id": "0tvfb9TXMkdx"
      },
      "execution_count": 67,
      "outputs": []
    },
    {
      "cell_type": "code",
      "source": [
        "## Q35\n",
        "\n",
        "def multiply(a, b):      ## Defining a function\n",
        "  return a*b            ## Multiplying the numbers\n",
        "\n",
        "result = multiply(5, 3)    ## Calling the function\n",
        "print(result)"
      ],
      "metadata": {
        "colab": {
          "base_uri": "https://localhost:8080/"
        },
        "id": "PkuJobs5Sp7g",
        "outputId": "3d22ce33-8572-4a0b-f89c-327d4edebd4e"
      },
      "execution_count": 68,
      "outputs": [
        {
          "output_type": "stream",
          "name": "stdout",
          "text": [
            "15\n"
          ]
        }
      ]
    },
    {
      "cell_type": "code",
      "source": [
        "## Q36\n",
        "\n",
        "add = lambda x, y: x+y\n",
        "print(add(8,9))"
      ],
      "metadata": {
        "colab": {
          "base_uri": "https://localhost:8080/"
        },
        "id": "kAXj9itVT5Aa",
        "outputId": "9691abc3-dc97-4f19-8ac3-d5aac857837d"
      },
      "execution_count": 69,
      "outputs": [
        {
          "output_type": "stream",
          "name": "stdout",
          "text": [
            "17\n"
          ]
        }
      ]
    },
    {
      "cell_type": "code",
      "source": [
        "## Q37\n",
        "\n",
        "square = lambda x: x**2\n",
        "print(square(4))"
      ],
      "metadata": {
        "colab": {
          "base_uri": "https://localhost:8080/"
        },
        "id": "HaIrJjuhUMbE",
        "outputId": "5df96823-6c16-4fcf-8d98-2814372a301f"
      },
      "execution_count": 70,
      "outputs": [
        {
          "output_type": "stream",
          "name": "stdout",
          "text": [
            "16\n"
          ]
        }
      ]
    },
    {
      "cell_type": "code",
      "source": [
        "## Q38\n",
        "\n",
        "cube = lambda x: x**3\n",
        "print(cube(3))"
      ],
      "metadata": {
        "colab": {
          "base_uri": "https://localhost:8080/"
        },
        "id": "teY1YxBAUWX8",
        "outputId": "9dca5890-28c6-4ea4-949d-3b8b2f1b3349"
      },
      "execution_count": 72,
      "outputs": [
        {
          "output_type": "stream",
          "name": "stdout",
          "text": [
            "27\n"
          ]
        }
      ]
    },
    {
      "cell_type": "code",
      "source": [
        "## Q39\n",
        "\n",
        "list1 = [1, 2, 3, 4, 5, 6]\n",
        "even_num = list(filter(lambda x: x%2==0, list1))\n",
        "print(even_num)"
      ],
      "metadata": {
        "colab": {
          "base_uri": "https://localhost:8080/"
        },
        "id": "8GxdeLdCUY5P",
        "outputId": "da5c08e7-ffed-4d82-ce09-98f2e97dee88"
      },
      "execution_count": 81,
      "outputs": [
        {
          "output_type": "stream",
          "name": "stdout",
          "text": [
            "[2, 4, 6]\n"
          ]
        }
      ]
    },
    {
      "cell_type": "code",
      "source": [
        "## Q40\n",
        "\n",
        "num_positive = lambda x: x>0\n",
        "\n",
        "print(num_positive(9))\n",
        "print(num_positive(-8))"
      ],
      "metadata": {
        "colab": {
          "base_uri": "https://localhost:8080/"
        },
        "id": "JOH_wO3mVI6w",
        "outputId": "ed940b2b-2f43-428a-9e3f-d926e0d899ef"
      },
      "execution_count": 79,
      "outputs": [
        {
          "output_type": "stream",
          "name": "stdout",
          "text": [
            "True\n",
            "False\n"
          ]
        }
      ]
    },
    {
      "cell_type": "code",
      "source": [
        "## Q41\n",
        "\n",
        "num = [1, 2, 3, 4]\n",
        "result = list(map(lambda x: x*2, num))\n",
        "print(result)"
      ],
      "metadata": {
        "colab": {
          "base_uri": "https://localhost:8080/"
        },
        "id": "QVaghTqNYDEg",
        "outputId": "e9fd3751-13b9-489a-ee2a-1058f7ba469a"
      },
      "execution_count": 80,
      "outputs": [
        {
          "output_type": "stream",
          "name": "stdout",
          "text": [
            "[2, 4, 6, 8]\n"
          ]
        }
      ]
    },
    {
      "cell_type": "code",
      "source": [
        "## Q42\n",
        "\n",
        "num2 = [1, 2, 3, 4, 5]\n",
        "result2 = list(map(lambda x: x**2, num2))\n",
        "print(result2)"
      ],
      "metadata": {
        "colab": {
          "base_uri": "https://localhost:8080/"
        },
        "id": "BgwSFoXRY2Jt",
        "outputId": "6507fbea-fe73-4119-a6e9-bc863cfe208c"
      },
      "execution_count": 82,
      "outputs": [
        {
          "output_type": "stream",
          "name": "stdout",
          "text": [
            "[1, 4, 9, 16, 25]\n"
          ]
        }
      ]
    },
    {
      "cell_type": "code",
      "source": [
        "## Q43\n",
        "\n",
        "num3 = ['1', '2', '3']\n",
        "result3 = list(map(int, num3))\n",
        "print(result3)"
      ],
      "metadata": {
        "colab": {
          "base_uri": "https://localhost:8080/"
        },
        "id": "R9fmvl05ZdRE",
        "outputId": "68528568-bd60-4b74-eace-769a93e06c77"
      },
      "execution_count": 83,
      "outputs": [
        {
          "output_type": "stream",
          "name": "stdout",
          "text": [
            "[1, 2, 3]\n"
          ]
        }
      ]
    },
    {
      "cell_type": "code",
      "source": [
        "## Q44\n",
        "\n",
        "num4 = [1, 4, 9, 16]\n",
        "result4 = list(map(lambda x: x**2, num4))\n",
        "print(result4)"
      ],
      "metadata": {
        "colab": {
          "base_uri": "https://localhost:8080/"
        },
        "id": "uIgTRSUEafgV",
        "outputId": "822e5033-3b32-40ad-f912-9830b40b5502"
      },
      "execution_count": 88,
      "outputs": [
        {
          "output_type": "stream",
          "name": "stdout",
          "text": [
            "[1, 16, 81, 256]\n"
          ]
        }
      ]
    },
    {
      "cell_type": "code",
      "source": [
        "## Q45\n",
        "\n",
        "list2 = ['hello','world']\n",
        "result5 = list(map(lambda x: x.upper(), list2))\n",
        "print(result5)"
      ],
      "metadata": {
        "colab": {
          "base_uri": "https://localhost:8080/"
        },
        "id": "aVNCg-hhawdx",
        "outputId": "c06488a6-08e0-45a3-a819-d2f2db9c75d3"
      },
      "execution_count": 89,
      "outputs": [
        {
          "output_type": "stream",
          "name": "stdout",
          "text": [
            "['HELLO', 'WORLD']\n"
          ]
        }
      ]
    },
    {
      "cell_type": "code",
      "source": [
        "## Q46\n",
        "\n",
        "lst = [1, 2, 3, 4, 5]\n",
        "result6 = list(filter(lambda x: x%2==0, lst))\n",
        "print(result6)"
      ],
      "metadata": {
        "colab": {
          "base_uri": "https://localhost:8080/"
        },
        "id": "2o0DHt33biAq",
        "outputId": "562c04ca-dacf-45a6-a55d-a1dab23cdda7"
      },
      "execution_count": 90,
      "outputs": [
        {
          "output_type": "stream",
          "name": "stdout",
          "text": [
            "[2, 4]\n"
          ]
        }
      ]
    },
    {
      "cell_type": "code",
      "source": [
        "## Q47\n",
        "\n",
        "lst = [1, 2, 3, 4, 5]\n",
        "result7 = list(filter(lambda x: x>3, lst))\n",
        "print(result7)"
      ],
      "metadata": {
        "colab": {
          "base_uri": "https://localhost:8080/"
        },
        "id": "1F1ZwSmGbweq",
        "outputId": "b033aa92-37d7-4b65-9aaf-ea88913efdc0"
      },
      "execution_count": 93,
      "outputs": [
        {
          "output_type": "stream",
          "name": "stdout",
          "text": [
            "[4, 5]\n"
          ]
        }
      ]
    },
    {
      "cell_type": "code",
      "source": [
        "## Q48\n",
        "\n",
        "lst = ['Tom','Jack','Bob','Alice']\n",
        "result8 = list(filter(lambda x: len(x)>3, lst))\n",
        "print(result8)"
      ],
      "metadata": {
        "colab": {
          "base_uri": "https://localhost:8080/"
        },
        "id": "KPtsJTdhcF1p",
        "outputId": "64d49f37-d366-4f92-b774-65de0ec3f600"
      },
      "execution_count": 94,
      "outputs": [
        {
          "output_type": "stream",
          "name": "stdout",
          "text": [
            "['Jack', 'Alice']\n"
          ]
        }
      ]
    },
    {
      "cell_type": "code",
      "source": [
        "## Q49\n",
        "\n",
        "lst = [-1, -2, 3, 4, -5]\n",
        "result9 = list(filter(lambda x: x<0, lst))\n",
        "print(result9)"
      ],
      "metadata": {
        "colab": {
          "base_uri": "https://localhost:8080/"
        },
        "id": "lYnXdwVecWIB",
        "outputId": "d1b67aa1-5c7a-4929-8123-b70112fd40a9"
      },
      "execution_count": 95,
      "outputs": [
        {
          "output_type": "stream",
          "name": "stdout",
          "text": [
            "[-1, -2, -5]\n"
          ]
        }
      ]
    },
    {
      "cell_type": "code",
      "source": [
        "## Q50\n",
        "\n",
        "lst = [1, 2, 3, 4, 5, 6]\n",
        "result10 = list(filter(lambda x: x%3==0, lst))\n",
        "print(result10)"
      ],
      "metadata": {
        "colab": {
          "base_uri": "https://localhost:8080/"
        },
        "id": "h8Rpw_xDczb0",
        "outputId": "37044a41-92ab-4961-fb7b-e9a63db5e186"
      },
      "execution_count": 98,
      "outputs": [
        {
          "output_type": "stream",
          "name": "stdout",
          "text": [
            "[3, 6]\n"
          ]
        }
      ]
    },
    {
      "cell_type": "code",
      "source": [
        "## Q51\n",
        "\n",
        "for i in range(1, 6):\n",
        "  if i==3:\n",
        "    break\n",
        "  print(i)"
      ],
      "metadata": {
        "colab": {
          "base_uri": "https://localhost:8080/"
        },
        "id": "BgLli6MGdPWK",
        "outputId": "9b30f43e-d10f-431f-906b-9842dd7e83d5"
      },
      "execution_count": 101,
      "outputs": [
        {
          "output_type": "stream",
          "name": "stdout",
          "text": [
            "1\n",
            "2\n"
          ]
        }
      ]
    },
    {
      "cell_type": "code",
      "source": [
        "## Q52\n",
        "\n",
        "for i in range(1, 6):\n",
        "  if i==3:\n",
        "    continue\n",
        "  print(i)"
      ],
      "metadata": {
        "colab": {
          "base_uri": "https://localhost:8080/"
        },
        "id": "fSH3KAM_d-pG",
        "outputId": "d28a2bbe-46fa-4fa7-8f0c-f19aad29f627"
      },
      "execution_count": 102,
      "outputs": [
        {
          "output_type": "stream",
          "name": "stdout",
          "text": [
            "1\n",
            "2\n",
            "4\n",
            "5\n"
          ]
        }
      ]
    },
    {
      "cell_type": "code",
      "source": [
        "## Q53\n",
        "\n",
        "for i in range(1, 6):\n",
        "  if i>4:\n",
        "    break\n",
        "  print(i)"
      ],
      "metadata": {
        "colab": {
          "base_uri": "https://localhost:8080/"
        },
        "id": "BPqeyoAjeF5_",
        "outputId": "c0fc2108-4925-4e18-f4e3-34baa92bd231"
      },
      "execution_count": 103,
      "outputs": [
        {
          "output_type": "stream",
          "name": "stdout",
          "text": [
            "1\n",
            "2\n",
            "3\n",
            "4\n"
          ]
        }
      ]
    },
    {
      "cell_type": "code",
      "source": [
        "## Q54\n",
        "\n",
        "for i in range(1, 11):\n",
        "  if i%2==1:\n",
        "    continue\n",
        "  print(i)"
      ],
      "metadata": {
        "colab": {
          "base_uri": "https://localhost:8080/"
        },
        "id": "uAY9FPd7eecA",
        "outputId": "d2479320-95a0-423e-c998-4f52ec0ba3a7"
      },
      "execution_count": 105,
      "outputs": [
        {
          "output_type": "stream",
          "name": "stdout",
          "text": [
            "2\n",
            "4\n",
            "6\n",
            "8\n",
            "10\n"
          ]
        }
      ]
    },
    {
      "cell_type": "code",
      "source": [
        "## Q55\n",
        "\n",
        "list = [1, 2, 3, -1, 4]\n",
        "for i in list:\n",
        "  if i<0:\n",
        "    break\n",
        "  print(i)"
      ],
      "metadata": {
        "colab": {
          "base_uri": "https://localhost:8080/"
        },
        "id": "DBc-IOtZezMk",
        "outputId": "03e94e12-f06c-4ddd-d93e-59fea2ae5800"
      },
      "execution_count": 106,
      "outputs": [
        {
          "output_type": "stream",
          "name": "stdout",
          "text": [
            "1\n",
            "2\n",
            "3\n"
          ]
        }
      ]
    },
    {
      "cell_type": "code",
      "source": [
        "## Q56\n",
        "\n",
        "fruits = ['apple','banana','cherry']\n",
        "for index, value in enumerate(fruits):\n",
        "  print(index, value)"
      ],
      "metadata": {
        "colab": {
          "base_uri": "https://localhost:8080/"
        },
        "id": "saSTaRuhfLN-",
        "outputId": "e4535da3-6904-49ee-ffd3-e7c7b59041d4"
      },
      "execution_count": 108,
      "outputs": [
        {
          "output_type": "stream",
          "name": "stdout",
          "text": [
            "0 apple\n",
            "1 banana\n",
            "2 cherry\n"
          ]
        }
      ]
    },
    {
      "cell_type": "code",
      "source": [
        "## Q57\n",
        "\n",
        "list = [(1, 'a'), (2, 'b'), (3, 'c')]\n",
        "list1, list2 = zip(*list)              ## '*' is used to unzip the key, value pairs\n",
        "print(list1)\n",
        "print(list2)"
      ],
      "metadata": {
        "colab": {
          "base_uri": "https://localhost:8080/"
        },
        "id": "JEt-syWlfpm3",
        "outputId": "e492fbd0-cce0-48bf-b69a-9df58667692c"
      },
      "execution_count": 109,
      "outputs": [
        {
          "output_type": "stream",
          "name": "stdout",
          "text": [
            "(1, 2, 3)\n",
            "('a', 'b', 'c')\n"
          ]
        }
      ]
    },
    {
      "cell_type": "code",
      "source": [
        "## Q58\n",
        "\n",
        "list1 = ['apple','banana']\n",
        "list2 = [1, 2]\n",
        "zipped = list(zip(list1, list2)) ## Combines two lists into key value pair\n",
        "print(zipped)                  ##Output: [('apple':1,'banana':2)]"
      ],
      "metadata": {
        "colab": {
          "base_uri": "https://localhost:8080/",
          "height": 193
        },
        "id": "R6ldZfA4hkqX",
        "outputId": "4266f5a3-5f3d-4a24-b1f5-a4335ad529e4"
      },
      "execution_count": 125,
      "outputs": [
        {
          "output_type": "error",
          "ename": "TypeError",
          "evalue": "'list' object is not callable",
          "traceback": [
            "\u001b[0;31m---------------------------------------------------------------------------\u001b[0m",
            "\u001b[0;31mTypeError\u001b[0m                                 Traceback (most recent call last)",
            "\u001b[0;32m<ipython-input-125-ab1f29f29ced>\u001b[0m in \u001b[0;36m<cell line: 5>\u001b[0;34m()\u001b[0m\n\u001b[1;32m      3\u001b[0m \u001b[0mlist1\u001b[0m \u001b[0;34m=\u001b[0m \u001b[0;34m[\u001b[0m\u001b[0;34m'apple'\u001b[0m\u001b[0;34m,\u001b[0m\u001b[0;34m'banana'\u001b[0m\u001b[0;34m]\u001b[0m\u001b[0;34m\u001b[0m\u001b[0;34m\u001b[0m\u001b[0m\n\u001b[1;32m      4\u001b[0m \u001b[0mlist2\u001b[0m \u001b[0;34m=\u001b[0m \u001b[0;34m[\u001b[0m\u001b[0;36m1\u001b[0m\u001b[0;34m,\u001b[0m \u001b[0;36m2\u001b[0m\u001b[0;34m]\u001b[0m\u001b[0;34m\u001b[0m\u001b[0;34m\u001b[0m\u001b[0m\n\u001b[0;32m----> 5\u001b[0;31m \u001b[0mzipped\u001b[0m \u001b[0;34m=\u001b[0m \u001b[0mlist\u001b[0m\u001b[0;34m(\u001b[0m\u001b[0mzip\u001b[0m\u001b[0;34m(\u001b[0m\u001b[0mlist1\u001b[0m\u001b[0;34m,\u001b[0m \u001b[0mlist2\u001b[0m\u001b[0;34m)\u001b[0m\u001b[0;34m)\u001b[0m \u001b[0;31m## Combines two lists into key value pair\u001b[0m\u001b[0;34m\u001b[0m\u001b[0;34m\u001b[0m\u001b[0m\n\u001b[0m\u001b[1;32m      6\u001b[0m \u001b[0mprint\u001b[0m\u001b[0;34m(\u001b[0m\u001b[0mzipped\u001b[0m\u001b[0;34m)\u001b[0m                  \u001b[0;31m##Output: [('apple':1,'banana':2)]\u001b[0m\u001b[0;34m\u001b[0m\u001b[0;34m\u001b[0m\u001b[0m\n",
            "\u001b[0;31mTypeError\u001b[0m: 'list' object is not callable"
          ]
        }
      ]
    },
    {
      "cell_type": "code",
      "source": [
        "## Q59\n",
        "\n",
        "a = [1, 2, 3]\n",
        "b = [4, 5, 6]\n",
        "\n",
        "sum_list = [x+y for x, y in zip(a, b)]\n",
        "print(sum_list)"
      ],
      "metadata": {
        "colab": {
          "base_uri": "https://localhost:8080/"
        },
        "id": "rgIzTwGtiS7m",
        "outputId": "3655fa49-5f50-4802-98c1-ea568cff0ce2"
      },
      "execution_count": 117,
      "outputs": [
        {
          "output_type": "stream",
          "name": "stdout",
          "text": [
            "[5, 7, 9]\n"
          ]
        }
      ]
    },
    {
      "cell_type": "code",
      "source": [
        "## Q60\n",
        "\n",
        "names = ['Summit','Raghav','Dinesh']\n",
        "\n",
        "for index, name in enumerate(names):\n",
        "  print(index, name)"
      ],
      "metadata": {
        "colab": {
          "base_uri": "https://localhost:8080/"
        },
        "id": "-hJzWZwiilBU",
        "outputId": "a035876e-8302-4389-e4e8-6873286fbddf"
      },
      "execution_count": 118,
      "outputs": [
        {
          "output_type": "stream",
          "name": "stdout",
          "text": [
            "0 Summit\n",
            "1 Raghav\n",
            "2 Dinesh\n"
          ]
        }
      ]
    },
    {
      "cell_type": "code",
      "source": [],
      "metadata": {
        "id": "ediYos1Kkri7"
      },
      "execution_count": null,
      "outputs": []
    }
  ]
}